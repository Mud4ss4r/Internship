{
 "cells": [
  {
   "cell_type": "code",
   "execution_count": null,
   "id": "bf58a39c",
   "metadata": {},
   "outputs": [],
   "source": [
    "# Name : Sayyed Mudassar Iqbal Shakil Ahmed\n",
    "# Assignment : Regular Expressions Submission\n",
    "# Batch : DS2404"
   ]
  },
  {
   "cell_type": "code",
   "execution_count": 64,
   "id": "0d444888",
   "metadata": {},
   "outputs": [],
   "source": [
    "import re\n",
    "import pandas as pd\n",
    "import numpy as np"
   ]
  },
  {
   "cell_type": "code",
   "execution_count": 65,
   "id": "f61f47b7",
   "metadata": {},
   "outputs": [
    {
     "name": "stdout",
     "output_type": "stream",
     "text": [
      "Python:Exercises::PHP:exercises:\n"
     ]
    }
   ],
   "source": [
    "#Answer 1:\n",
    "\n",
    "def replace_chars(text):\n",
    "    replacements = {' ': ':', ',': ':', '.': ':'}\n",
    "    for char, replacement in replacements.items():\n",
    "        text = text.replace(char, replacement)\n",
    "    return text\n",
    "\n",
    "sample_text = 'Python Exercises, PHP exercises.'\n",
    "result = replace_chars(sample_text)\n",
    "print(result)  # Output: Python:Exercises::PHP:exercises:"
   ]
  },
  {
   "cell_type": "code",
   "execution_count": 92,
   "id": "1f1e8f21",
   "metadata": {},
   "outputs": [
    {
     "name": "stdout",
     "output_type": "stream",
     "text": [
      "         SUMMARY\n",
      "0    hello world\n",
      "1           test\n",
      "2  four five six\n"
     ]
    }
   ],
   "source": [
    "#Answer 2:\n",
    "\n",
    "df = pd.DataFrame({'SUMMARY' : ['hello, world!', 'XXXXX test', '123four, five:; six...']})\n",
    "def clean_text(text):\n",
    "    text = re.sub('[^a-zA-Z\\s]', '', text)  # removing non-alphabetic characters\n",
    "    text = re.sub('X+', '', text)  # removing 'X's\n",
    "    return text\n",
    "# Testing my code\n",
    "df['SUMMARY'] = df['SUMMARY'].apply(clean_text)\n",
    "print(df)"
   ]
  },
  {
   "cell_type": "code",
   "execution_count": 67,
   "id": "b051dd2c",
   "metadata": {},
   "outputs": [
    {
     "name": "stdout",
     "output_type": "stream",
     "text": [
      "['This', 'sample', 'text', 'with', 'words', 'varying', 'lengths']\n"
     ]
    }
   ],
   "source": [
    "#Answer 3:\n",
    "\n",
    "def find_words(text):\n",
    "    pattern = re.compile(r'\\b\\w{4,}\\b')\n",
    "    return pattern.findall(text)\n",
    "\n",
    "sample_text = \"This is a sample text with words of varying lengths.\"\n",
    "print(find_words(sample_text))"
   ]
  },
  {
   "cell_type": "code",
   "execution_count": 68,
   "id": "9e00f302",
   "metadata": {},
   "outputs": [
    {
     "name": "stdout",
     "output_type": "stream",
     "text": [
      "['This', 'text', 'with', 'words']\n"
     ]
    }
   ],
   "source": [
    "#Answer 4:\n",
    "\n",
    "def find_specific_length_words(text):\n",
    "    pattern = re.compile(r'\\b\\w{3,5}\\b')\n",
    "    return pattern.findall(text)\n",
    "\n",
    "sample_text = \"This is a sample text with words of varying lengths.\"\n",
    "print(find_specific_length_words(sample_text))"
   ]
  },
  {
   "cell_type": "code",
   "execution_count": 88,
   "id": "d561fd0c",
   "metadata": {},
   "outputs": [
    {
     "name": "stdout",
     "output_type": "stream",
     "text": [
      "example.com\n",
      "hr@fliprobo.com\n",
      "github.com\n",
      "Hello Data Science World\n",
      "Data Scientist\n"
     ]
    }
   ],
   "source": [
    "#Answer 5:\n",
    "\n",
    "def remove_parenthesis(strings):\n",
    "    pattern = re.compile(r'\\(|\\)')\n",
    "    cleaned_strings = [pattern.sub('', s).replace(' .com', '.com') for s in strings]\n",
    "    return cleaned_strings\n",
    "\n",
    "# Testing my code\n",
    "sample_text = [\"example (.com)\", \"hr@fliprobo (.com)\", \"github (.com)\", \"Hello (Data Science World)\", \"Data (Scientist)\"]\n",
    "\n",
    "output = remove_parenthesis(sample_text)\n",
    "\n",
    "for string in output:\n",
    "    print(string)"
   ]
  },
  {
   "cell_type": "code",
   "execution_count": 70,
   "id": "d08f3d01",
   "metadata": {},
   "outputs": [
    {
     "name": "stdout",
     "output_type": "stream",
     "text": [
      "[\"example \", \"hr@fliprobo \", \"github \", \"Hello \", \"Data \"]\n"
     ]
    }
   ],
   "source": [
    "#Answer 6:\n",
    "\n",
    "with open('sample_text.txt', 'r') as file:\n",
    "    text = file.read()\n",
    "\n",
    "pattern = re.compile(r'\\([^)]*\\)')\n",
    "result = pattern.sub('', text)\n",
    "print(result)\n"
   ]
  },
  {
   "cell_type": "code",
   "execution_count": 71,
   "id": "80619532",
   "metadata": {},
   "outputs": [
    {
     "name": "stdout",
     "output_type": "stream",
     "text": [
      "['Importance', 'Of', 'Regular', 'Expressions', 'In', 'Python']\n"
     ]
    }
   ],
   "source": [
    "#Answer 7:\n",
    "\n",
    "sample_text = \"ImportanceOfRegularExpressionsInPython\"\n",
    "result = re.findall('[A-Z][^A-Z]*', sample_text)\n",
    "print(result)"
   ]
  },
  {
   "cell_type": "code",
   "execution_count": 72,
   "id": "31c27d7a",
   "metadata": {},
   "outputs": [
    {
     "name": "stdout",
     "output_type": "stream",
     "text": [
      "RegularExpression1 IsAn2 ImportantTopic3 InPython\n"
     ]
    }
   ],
   "source": [
    "#Answer 8:\n",
    "\n",
    "def insert_spaces(text):\n",
    "    return re.sub(r'(\\d)([A-Za-z])', r'\\1 \\2', text)\n",
    "\n",
    "sample_text = \"RegularExpression1IsAn2ImportantTopic3InPython\"\n",
    "print(insert_spaces(sample_text))"
   ]
  },
  {
   "cell_type": "code",
   "execution_count": 73,
   "id": "a8c5762e",
   "metadata": {},
   "outputs": [
    {
     "name": "stdout",
     "output_type": "stream",
     "text": [
      "Regular Expression 1 Is An 2 Important Topic 3 In Python\n"
     ]
    }
   ],
   "source": [
    "#Answer 9:\n",
    "\n",
    "def insert_spaces(text):\n",
    "    modified_text = re.sub(r'([A-Z][a-z]+|\\d+)', r' \\1', text)\n",
    "    return modified_text.strip()\n",
    "\n",
    "# Example usage\n",
    "sample_text = \"RegularExpression1IsAn2ImportantTopic3InPython\"\n",
    "result = insert_spaces(sample_text)\n",
    "print(result)"
   ]
  },
  {
   "cell_type": "code",
   "execution_count": 74,
   "id": "5bbd6583",
   "metadata": {},
   "outputs": [
    {
     "name": "stdout",
     "output_type": "stream",
     "text": [
      "0      Switze\n",
      "1      Icelan\n",
      "2      Denmar\n",
      "3      Norway\n",
      "4      Canada\n",
      "        ...  \n",
      "153    Rwanda\n",
      "154     Benin\n",
      "155     Syria\n",
      "156    Burund\n",
      "157      Togo\n",
      "Name: first_five_letters, Length: 158, dtype: object\n"
     ]
    }
   ],
   "source": [
    "#Answer 10:\n",
    "\n",
    "url = 'https://raw.githubusercontent.com/dsrscientist/DSData/master/happiness_score_dataset.csv'\n",
    "df = pd.read_csv(url)\n",
    "\n",
    "df['first_five_letters'] = df['Country'].str[:6]\n",
    "print(df['first_five_letters'])"
   ]
  },
  {
   "cell_type": "code",
   "execution_count": 75,
   "id": "12f1f911",
   "metadata": {},
   "outputs": [
    {
     "name": "stdout",
     "output_type": "stream",
     "text": [
      "True\n"
     ]
    }
   ],
   "source": [
    "#Answer 11:\n",
    "\n",
    "def match_string(text):\n",
    "    pattern = re.compile(r'^[a-zA-Z0-9_]+$')\n",
    "    return bool(pattern.match(text))\n",
    "\n",
    "sample_text = \"Hello_World123\"\n",
    "print(match_string(sample_text))  # Output: True"
   ]
  },
  {
   "cell_type": "code",
   "execution_count": 76,
   "id": "1842ff8f",
   "metadata": {},
   "outputs": [
    {
     "name": "stdout",
     "output_type": "stream",
     "text": [
      "True\n"
     ]
    }
   ],
   "source": [
    "#Answer 12: \n",
    "\n",
    "def starts_with_number(text, number):\n",
    "    pattern = re.compile(r'^' + str(number))\n",
    "    return bool(pattern.match(text))\n",
    "\n",
    "sample_text = \"123Hello\"\n",
    "print(starts_with_number(sample_text, 123))  # Output: True"
   ]
  },
  {
   "cell_type": "code",
   "execution_count": 77,
   "id": "8b62f2e6",
   "metadata": {},
   "outputs": [
    {
     "name": "stdout",
     "output_type": "stream",
     "text": [
      "192.168.1.1\n"
     ]
    }
   ],
   "source": [
    "#Answer 13:\n",
    "\n",
    "def remove_leading_zeros(ip_address):\n",
    "    return re.sub(r'\\b0+(\\d)', r'\\1', ip_address)\n",
    "\n",
    "ip_address = \"192.168.001.001\"\n",
    "print(remove_leading_zeros(ip_address))  # Output: 192.168.1.1"
   ]
  },
  {
   "cell_type": "code",
   "execution_count": 78,
   "id": "a9651cb7",
   "metadata": {},
   "outputs": [
    {
     "name": "stdout",
     "output_type": "stream",
     "text": [
      "August 15th 1947\n"
     ]
    }
   ],
   "source": [
    "#Answer 14:\n",
    "\n",
    "with open('sample_text2.txt', 'r') as file:\n",
    "    text = file.read()\n",
    "\n",
    "pattern = re.compile(r'\\b([A-Z][a-z]+ \\d{1,2}(?:st|nd|rd|th) \\d{4})\\b')\n",
    "result = pattern.search(text)\n",
    "if result:\n",
    "    print(result.group(1))"
   ]
  },
  {
   "cell_type": "code",
   "execution_count": 79,
   "id": "4a17f214",
   "metadata": {},
   "outputs": [
    {
     "name": "stdout",
     "output_type": "stream",
     "text": [
      "fox found.\n",
      "dog found.\n",
      "horse not found.\n"
     ]
    }
   ],
   "source": [
    "#Answer 15:\n",
    "\n",
    "sample_text = 'The quick brown fox jumps over the lazy dog.'\n",
    "search_words = ['fox', 'dog', 'horse']\n",
    "\n",
    "for word in search_words:\n",
    "    if word in sample_text:\n",
    "        print(f\"{word} found.\")\n",
    "    else:\n",
    "        print(f\"{word} not found.\")"
   ]
  },
  {
   "cell_type": "code",
   "execution_count": 80,
   "id": "a06753e1",
   "metadata": {},
   "outputs": [
    {
     "name": "stdout",
     "output_type": "stream",
     "text": [
      "'fox' found at position 16.\n"
     ]
    }
   ],
   "source": [
    "#Answer 16:\n",
    "\n",
    "sample_text = 'The quick brown fox jumps over the lazy dog.'\n",
    "search_word = 'fox'\n",
    "\n",
    "pattern = re.compile(re.escape(search_word))\n",
    "match = pattern.search(sample_text)\n",
    "\n",
    "if match:\n",
    "    print(f\"'{search_word}' found at position {match.start()}.\")\n",
    "else:\n",
    "    print(f\"'{search_word}' not found.\")"
   ]
  },
  {
   "cell_type": "code",
   "execution_count": 81,
   "id": "cad7b4d7",
   "metadata": {},
   "outputs": [
    {
     "name": "stdout",
     "output_type": "stream",
     "text": [
      "[7, 22, 36]\n"
     ]
    }
   ],
   "source": [
    "#Answer 17:\n",
    "\n",
    "sample_text = 'Python exercises, PHP exercises, C# exercises'\n",
    "pattern = 'exercises'\n",
    "matches = [m.start() for m in re.finditer(pattern, sample_text)]\n",
    "print(matches)"
   ]
  },
  {
   "cell_type": "code",
   "execution_count": 82,
   "id": "968cd25a",
   "metadata": {},
   "outputs": [
    {
     "name": "stdout",
     "output_type": "stream",
     "text": [
      "[(7, 16), (22, 31), (36, 45)]\n"
     ]
    }
   ],
   "source": [
    "#Answer 18:\n",
    "\n",
    "sample_text = 'Python exercises, PHP exercises, C# exercises'\n",
    "pattern = 'exercises'\n",
    "matches = [(m.start(), m.end()) for m in re.finditer(pattern, sample_text)]\n",
    "print(matches)"
   ]
  },
  {
   "cell_type": "code",
   "execution_count": 48,
   "id": "2e329ec5",
   "metadata": {},
   "outputs": [
    {
     "name": "stdout",
     "output_type": "stream",
     "text": [
      "28-04-2024\n"
     ]
    }
   ],
   "source": [
    "#Answer 19:\n",
    "\n",
    "def convert_date_format(date):\n",
    "    return re.sub(r'(\\d{4})-(\\d{2})-(\\d{2})', r'\\3-\\2-\\1', date)\n",
    "\n",
    "date = \"2024-04-28\"\n",
    "print(convert_date_format(date))"
   ]
  },
  {
   "cell_type": "code",
   "execution_count": 49,
   "id": "67e07752",
   "metadata": {},
   "outputs": [
    {
     "name": "stdout",
     "output_type": "stream",
     "text": [
      "['01.12', '145.8', '3.01', '27.25', '0.25']\n"
     ]
    }
   ],
   "source": [
    "#Answer 20:\n",
    "\n",
    "def find_decimal_numbers(text):\n",
    "    pattern = re.compile(r'\\b\\d+\\.\\d{1,2}\\b')\n",
    "    return pattern.findall(text)\n",
    "\n",
    "sample_text = \"01.12 0132.123 2.31875 145.8 3.01 27.25 0.25\"\n",
    "print(find_decimal_numbers(sample_text))"
   ]
  },
  {
   "cell_type": "code",
   "execution_count": 50,
   "id": "60943e62",
   "metadata": {},
   "outputs": [
    {
     "name": "stdout",
     "output_type": "stream",
     "text": [
      "Number: 200, Position: 29\n",
      "Number: 20, Position: 53\n"
     ]
    }
   ],
   "source": [
    "#Answer 21:\n",
    "\n",
    "def find_numbers_positions(text):\n",
    "    pattern = re.compile(r'\\b\\d+\\b')\n",
    "    matches = pattern.finditer(text)\n",
    "    for match in matches:\n",
    "        print(f\"Number: {match.group()}, Position: {match.start()}\")\n",
    "\n",
    "sample_text = \"The price of the product is $200 and the discount is 20%\"\n",
    "find_numbers_positions(sample_text)"
   ]
  },
  {
   "cell_type": "code",
   "execution_count": 51,
   "id": "2fc61ef1",
   "metadata": {},
   "outputs": [
    {
     "name": "stdout",
     "output_type": "stream",
     "text": [
      "950\n"
     ]
    }
   ],
   "source": [
    "#Answer 22:\n",
    "\n",
    "def extract_max_numeric_value(text):\n",
    "    numbers = [int(num) for num in re.findall(r'\\b\\d+\\b', text)]\n",
    "    return max(numbers)\n",
    "\n",
    "sample_text = 'My marks in each semester are: 947, 896, 926, 524, 734, 950, 642'\n",
    "print(extract_max_numeric_value(sample_text))  "
   ]
  },
  {
   "cell_type": "code",
   "execution_count": 52,
   "id": "397f690d",
   "metadata": {},
   "outputs": [
    {
     "name": "stdout",
     "output_type": "stream",
     "text": [
      " Regular Expression Is An Important Topic In Python\n"
     ]
    }
   ],
   "source": [
    "#Answer 23:\n",
    "\n",
    "def insert_spaces(text):\n",
    "    return re.sub(r'(?<!\\s)([A-Z][a-z]+)', r' \\1', text)\n",
    "\n",
    "sample_text = \"RegularExpressionIsAnImportantTopicInPython\"\n",
    "print(insert_spaces(sample_text))"
   ]
  },
  {
   "cell_type": "code",
   "execution_count": 53,
   "id": "6defa899",
   "metadata": {},
   "outputs": [
    {
     "name": "stdout",
     "output_type": "stream",
     "text": [
      "['The', 'Quick', 'Brown', 'Fox']\n"
     ]
    }
   ],
   "source": [
    "#Answer 24:\n",
    "\n",
    "def find_sequences(text):\n",
    "    return re.findall(r'[A-Z][a-z]+', text)\n",
    "\n",
    "sample_text = \"TheQuickBrownFox\"\n",
    "print(find_sequences(sample_text))"
   ]
  },
  {
   "cell_type": "code",
   "execution_count": 54,
   "id": "293e808e",
   "metadata": {},
   "outputs": [
    {
     "name": "stdout",
     "output_type": "stream",
     "text": [
      "Hello hello world\n"
     ]
    }
   ],
   "source": [
    "#Answer 25:\n",
    "\n",
    "def remove_duplicates(sentence):\n",
    "    modified_sentence = re.sub(r'\\b(\\w+)(\\s+\\1\\b)+', r'\\1', sentence)\n",
    "    return modified_sentence.strip()\n",
    "\n",
    "# testing my code\n",
    "sample_text = \"Hello hello world world\"\n",
    "result = remove_duplicates(sample_text)\n",
    "print(result)"
   ]
  },
  {
   "cell_type": "code",
   "execution_count": 55,
   "id": "c0bf7523",
   "metadata": {},
   "outputs": [
    {
     "name": "stdout",
     "output_type": "stream",
     "text": [
      "True\n"
     ]
    }
   ],
   "source": [
    "#Answer 26:\n",
    "\n",
    "def validate_string(string):\n",
    "    pattern = r'^.*[a-zA-Z0-9]$'\n",
    "    if re.match(pattern, string):\n",
    "        return True\n",
    "    else:\n",
    "        return False\n",
    "\n",
    "# testing my code\n",
    "sample_string = \"Hello123\"\n",
    "result = validate_string(sample_string)\n",
    "print(result)"
   ]
  },
  {
   "cell_type": "code",
   "execution_count": 56,
   "id": "606defff",
   "metadata": {},
   "outputs": [
    {
     "name": "stdout",
     "output_type": "stream",
     "text": [
      "['#Doltiwal', '#xyzabc', '#Demonetization']\n"
     ]
    }
   ],
   "source": [
    "#Answer 27:\n",
    "\n",
    "def extract_hashtags(text):\n",
    "    return re.findall(r'#\\w+', text)\n",
    "\n",
    "sample_text = \"RT @kapil_kausik: #Doltiwal I mean #xyzabc is 'hurt' by #Demonetization as the same has rendered USELESS\"\n",
    "print(extract_hashtags(sample_text))"
   ]
  },
  {
   "cell_type": "code",
   "execution_count": 57,
   "id": "82e17514",
   "metadata": {},
   "outputs": [
    {
     "name": "stdout",
     "output_type": "stream",
     "text": [
      "@Jags123456 Bharat band on 28??<ed><ed>Those who are protesting #demonetization are all different party leaders\n"
     ]
    }
   ],
   "source": [
    "#Answer 28:\n",
    "\n",
    "def remove_symbols(text):\n",
    "    modified_text = re.sub(r'<U\\+\\w+>', '', text)\n",
    "    return modified_text\n",
    "\n",
    "# Example usage\n",
    "sample_text = \"@Jags123456 Bharat band on 28??<ed><U+00A0><U+00BD><ed><U+00B8><U+0082>Those who are protesting #demonetization are all different party leaders\"\n",
    "result = remove_symbols(sample_text)\n",
    "print(result)"
   ]
  },
  {
   "cell_type": "code",
   "execution_count": 63,
   "id": "fb07827c",
   "metadata": {},
   "outputs": [
    {
     "name": "stdout",
     "output_type": "stream",
     "text": [
      "['12-09-1992', '15-12-1999']\n"
     ]
    }
   ],
   "source": [
    "#Answer 29:\n",
    "\n",
    "def extract_dates_from_file(file_path):\n",
    "    with open(file_path, 'r') as file:\n",
    "        text = file.read()\n",
    "    pattern = re.compile(r'\\b\\d{2}-\\d{2}-\\d{4}\\b')\n",
    "    return pattern.findall(text)\n",
    "\n",
    "dates = extract_dates_from_file('sample_text3.txt')\n",
    "print(dates)"
   ]
  },
  {
   "cell_type": "code",
   "execution_count": 85,
   "id": "6db19ef0",
   "metadata": {},
   "outputs": [
    {
     "name": "stdout",
     "output_type": "stream",
     "text": [
      "following example creates ArrayList a capacity elements. 4 elements added ArrayList ArrayList trimmed accordingly.\n"
     ]
    }
   ],
   "source": [
    "#Answer 30:\n",
    "\n",
    "def remove_words(text):\n",
    "    pattern = re.compile(r'\\b\\w{2,4}\\b')\n",
    "    modified_text = pattern.sub('', text)\n",
    "    modified_text = re.sub(r'\\s+', ' ', modified_text)\n",
    "    return modified_text.strip()\n",
    "\n",
    "#Testing my code\n",
    "sample_text = \"The following example creates an ArrayList with a capacity of 50 elements. 4 elements are then added to the ArrayList and the ArrayList is trimmed accordingly.\"\n",
    "result = remove_words(sample_text)\n",
    "print(result)"
   ]
  },
  {
   "cell_type": "code",
   "execution_count": null,
   "id": "5b949666",
   "metadata": {},
   "outputs": [],
   "source": []
  }
 ],
 "metadata": {
  "kernelspec": {
   "display_name": "Python 3 (ipykernel)",
   "language": "python",
   "name": "python3"
  },
  "language_info": {
   "codemirror_mode": {
    "name": "ipython",
    "version": 3
   },
   "file_extension": ".py",
   "mimetype": "text/x-python",
   "name": "python",
   "nbconvert_exporter": "python",
   "pygments_lexer": "ipython3",
   "version": "3.11.5"
  }
 },
 "nbformat": 4,
 "nbformat_minor": 5
}
