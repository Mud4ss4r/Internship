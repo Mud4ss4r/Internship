{
 "cells": [
  {
   "cell_type": "code",
   "execution_count": null,
   "id": "9049087b",
   "metadata": {},
   "outputs": [],
   "source": [
    "# Name : Sayyed Mudassar Iqbal Shakil Ahmed\n",
    "# Batch : DSG2404\n",
    "# Subject : Webscrapping Assignment Solution"
   ]
  },
  {
   "cell_type": "code",
   "execution_count": 1,
   "id": "4cebf5f0",
   "metadata": {},
   "outputs": [],
   "source": [
    "import pandas as pd\n",
    "import selenium\n",
    "from selenium import webdriver\n",
    "import warnings\n",
    "warnings.filterwarnings('ignore')\n",
    "from selenium.webdriver.common.by import By\n",
    "from selenium.webdriver.support.ui import WebDriverWait\n",
    "from selenium.webdriver.support import expected_conditions as EC\n",
    "from selenium.common import exceptions\n",
    "import time"
   ]
  },
  {
   "cell_type": "code",
   "execution_count": null,
   "id": "927bd58c",
   "metadata": {},
   "outputs": [],
   "source": [
    "#Answer 1:  1. Write a python program which searches all the product under a particular product from www.amazon.in. \n",
    "#The product to be searched will be taken as input from user. For e.g. If user input is ‘guitar’. Then search \n",
    "#for guitars."
   ]
  },
  {
   "cell_type": "code",
   "execution_count": 16,
   "id": "66df898e",
   "metadata": {},
   "outputs": [],
   "source": [
    "driver=webdriver.Chrome()"
   ]
  },
  {
   "cell_type": "code",
   "execution_count": 17,
   "id": "c7928f4c",
   "metadata": {},
   "outputs": [
    {
     "name": "stdout",
     "output_type": "stream",
     "text": [
      "what would you like to search today?\n",
      "Laptop\n"
     ]
    }
   ],
   "source": [
    "driver.get(\"https://www.amazon.in/\")\n",
    "search_bar=driver.find_element(By.ID,\"twotabsearchtextbox\")\n",
    "print(\"what would you like to search today?\")\n",
    "search_for=input()\n",
    "search_bar.clear()\n",
    "search_bar.send_keys(search_for)\n",
    "search_button=driver.find_element(By.ID,\"nav-search-submit-button\")\n",
    "search_button.click()"
   ]
  },
  {
   "cell_type": "code",
   "execution_count": null,
   "id": "e4edd8c2",
   "metadata": {},
   "outputs": [],
   "source": [
    "\"\"\"Answer 2. In the above question, now scrape the following details of each product listed in first 3 pages of your \n",
    "search results and save it in a data frame and csv. In case if any product has less than 3 pages in search \n",
    "results then scrape all the products available under that product name. Details to be scraped are: \"Brand \n",
    "Name\", \"Name of the Product\", \"Price\", \"Return/Exchange\", \"Expected Delivery\", \"Availability\" and \n",
    "“Product URL”. In case, if any of the details are missing for any of the product then replace it by “-“.\n",
    "\"\"\""
   ]
  },
  {
   "cell_type": "code",
   "execution_count": 18,
   "id": "1f093d67",
   "metadata": {},
   "outputs": [],
   "source": [
    "from selenium.common.exceptions import NoSuchElementException\n",
    "from selenium.common.exceptions import StaleElementReferenceException"
   ]
  },
  {
   "cell_type": "code",
   "execution_count": 21,
   "id": "bd0973ef",
   "metadata": {},
   "outputs": [
    {
     "name": "stdout",
     "output_type": "stream",
     "text": [
      "Product urls of page 1 has been scraped.\n",
      "Product urls of page 2 has been scraped.\n",
      "Product urls of page 3 has been scraped.\n"
     ]
    }
   ],
   "source": [
    "#fetch the urls of all products \n",
    "start_page = 0\n",
    "end_page = 2\n",
    "urls = []\n",
    "for page in range(start_page,end_page+1):\n",
    "    try:\n",
    "        page_urls = driver.find_elements(By.XPATH,'//a[@class=\"a-link-normal s-no-outline\"]')\n",
    "        # appending all the urls on current page to urls list\n",
    "        for url in page_urls:\n",
    "            url = url.get_attribute('href')     # Scraping the url from webelement\n",
    "            if url[0:4]=='http':                # Checking if the scraped data is a valid url or not\n",
    "                urls.append(url)                # Appending the url to urls list\n",
    "        print(\"Product urls of page {} has been scraped.\".format(page+1))\n",
    "        \n",
    "        # Moving to next page\n",
    "        nxt_button = driver.find_element(By.XPATH,'/html/body/div[1]/div[1]/div[1]/div[1]/div/span[1]/div[1]/div[30]/div/div/span/a[3]')      # Locating the next_button which is active\n",
    "        if nxt_button.text == 'Next→':                                            # Checking if the button located is next button\n",
    "            nxt_button.click()                                                    # Clicking the next button\n",
    "            time.sleep(5)                                                         # time delay of 5 seconds\n",
    "       \n",
    "            \n",
    "    except StaleElementReferenceException as e:             # Handling StaleElement Exception   \n",
    "        print(\"Stale Exception\")\n",
    "        next_page = nxt_button.get_attribute('href')        # Extracting the url of next page\n",
    "        driver.get(next_page)                               # ReLoading the next page"
   ]
  },
  {
   "cell_type": "code",
   "execution_count": 22,
   "id": "054f59fe",
   "metadata": {},
   "outputs": [
    {
     "data": {
      "text/plain": [
       "93"
      ]
     },
     "execution_count": 22,
     "metadata": {},
     "output_type": "execute_result"
    }
   ],
   "source": [
    "len(urls)"
   ]
  },
  {
   "cell_type": "code",
   "execution_count": 24,
   "id": "0c10a7ff",
   "metadata": {},
   "outputs": [
    {
     "name": "stdout",
     "output_type": "stream",
     "text": [
      "['Acer', 'Acer']\n",
      "['Acer Aspire Lite 12th Gen Intel Core i5-1235U Thin and Light Laptop (Windows 11 Home/16GB RAM/512GB SSD/Intel Iris Xe Graphics) AL15-52, 39.62cm (15.6\") Full HD Display, Metal Body, Steel Gray, 1.6 KG', 'Acer [Smartchoice] Aspire Lite AMD Ryzen 3 5300U Premium Thin and Light Laptop (Windows 11 Home/8 GB RAM/512 GB SSD) AL15-41 with 39.62 cm (15.6\") Full HD Display, Metal Body, Steel Gray, 1.6 KG']\n",
      "['3.8 out of 5 stars', '3.9 out of 5 stars']\n",
      "['3.8\\n412 ratings', '3.9\\n397 ratings']\n",
      "['--', '--']\n",
      "['--', '--']\n",
      "['In stock', '--']\n",
      "['']\n",
      "['https://m.media-amazon.com/images/I/71czGb00k5L._SY450_.jpg', 'https://m.media-amazon.com/images/I/61CC9Mx2+aL._SY450_.jpg']\n"
     ]
    }
   ],
   "source": [
    "#create empty list\n",
    "brand_list=[]\n",
    "title_list=[]\n",
    "rating_list=[]\n",
    "no_rating_list=[]\n",
    "price_list=[]\n",
    "return_list=[]\n",
    "availability_list=[]\n",
    "details_list=[]\n",
    "img_url_list=[]\n",
    "     \n",
    "#go to each items url to fetch data   \n",
    "for a in urls:\n",
    "    driver.get(a)\n",
    "    #brand\n",
    "    try:\n",
    "        brand=driver.find_element(By.XPATH,\"//table[@class='a-keyvalue prodDetTable']/tbody/tr[1]/td\")\n",
    "        brand_list.append(brand.text)\n",
    "    except NoSuchElementException as e:\n",
    "        brand_list.append(\"--\")\n",
    "    \n",
    "    #scrap title for each item\n",
    "    try:\n",
    "        title=driver.find_element(By.XPATH,\"//h1[@class='a-size-large a-spacing-none']\")\n",
    "        title_list.append(title.text)\n",
    "    except NoSuchElementException as e:\n",
    "        title_list.append(\"--\")\n",
    "    #ratings\n",
    "    try:\n",
    "        rating=driver.find_element(By.XPATH,\"//*[@id='productDetails_detailBullets_sections1']/tbody/tr[2]/td\")\n",
    "        rating_list.append(rating.text.split(\"\\n\")[-1])\n",
    "    except NoSuchElementException as e:\n",
    "        rating_list.append(\"--\")\n",
    "        \n",
    "    #number of ratings\n",
    "    try:\n",
    "        no_rating=driver.find_element(By.ID,\"averageCustomerReviews\")\n",
    "        no_rating_list.append(no_rating.text)\n",
    "    except NoSuchElementException as e:\n",
    "        no_rating_list.append(\"--\")\n",
    "    #price\n",
    "    try:\n",
    "        price=driver.find_element(By.XPATH,\"//table[@class='a-lineitem']/tbody/tr[2]/td[2]/span\")\n",
    "        price_list.append(price.text)\n",
    "    except NoSuchElementException as e:\n",
    "        price_list.append(\"--\")  \n",
    "    #return/exchange\n",
    "    try:\n",
    "        returns=driver.find_element(By.XPATH,\"//div[@class='a-row icon-farm-wrapper']/div[2]/span/div[2]/a\")\n",
    "        return_list.append(returns.text)\n",
    "    except NoSuchElementException as e:\n",
    "        return_list.append(\"--\")\n",
    "    #availability\n",
    "    try:\n",
    "        availability=driver.find_element(By.XPATH,\"//span[@class='a-size-medium a-color-success']\")\n",
    "        availability_list.append(availability.text)\n",
    "    except NoSuchElementException as e:\n",
    "        availability_list.append(\"--\")  \n",
    "        #other details\n",
    "    try:\n",
    "        details=driver.find_element(By.XPATH,\"//div[@class='a-row a-spacing-top-base']\")\n",
    "        details_list.append(details.text.replace(\"\\n\",\" \"))\n",
    "    except NoSuchElementException as e:\n",
    "        details_list.append(\"--\")\n",
    "     #product image url\n",
    "    try:\n",
    "        img_url=driver.find_element(By.XPATH,\"//div[@class='imgTagWrapper']/img\")\n",
    "        img_url_list.append(img_url.get_attribute(\"src\"))\n",
    "    except NoSuchElementException as e:\n",
    "        img_url_list.append(\"--\")\n",
    "        \n",
    "print(brand_list[0:2])\n",
    "print(title_list[0:2])\n",
    "print(rating_list[0:2])\n",
    "print(no_rating_list[0:2])\n",
    "print(price_list[0:2])\n",
    "print(return_list[0:2])\n",
    "print(availability_list[0:2])\n",
    "print(details_list[0:1])\n",
    "print(img_url_list[0:2])"
   ]
  },
  {
   "cell_type": "code",
   "execution_count": 25,
   "id": "4c0ec23a",
   "metadata": {},
   "outputs": [
    {
     "name": "stdout",
     "output_type": "stream",
     "text": [
      "93\n",
      "93\n",
      "93\n",
      "93\n",
      "93\n",
      "93\n",
      "93\n",
      "93\n",
      "93\n"
     ]
    }
   ],
   "source": [
    "#check if the length of all lists are equal\n",
    "print(len(brand_list))\n",
    "print(len(title_list))\n",
    "print(len(rating_list))\n",
    "print(len(no_rating_list))\n",
    "print(len(price_list))\n",
    "print(len(return_list))\n",
    "print(len(availability_list))\n",
    "print(len(details_list))\n",
    "print(len(img_url_list))"
   ]
  },
  {
   "cell_type": "code",
   "execution_count": 26,
   "id": "3dc86c58",
   "metadata": {},
   "outputs": [
    {
     "data": {
      "text/html": [
       "<div>\n",
       "<style scoped>\n",
       "    .dataframe tbody tr th:only-of-type {\n",
       "        vertical-align: middle;\n",
       "    }\n",
       "\n",
       "    .dataframe tbody tr th {\n",
       "        vertical-align: top;\n",
       "    }\n",
       "\n",
       "    .dataframe thead th {\n",
       "        text-align: right;\n",
       "    }\n",
       "</style>\n",
       "<table border=\"1\" class=\"dataframe\">\n",
       "  <thead>\n",
       "    <tr style=\"text-align: right;\">\n",
       "      <th></th>\n",
       "      <th>Brand</th>\n",
       "      <th>Name of the product</th>\n",
       "      <th>Ratings</th>\n",
       "      <th>No of ratings</th>\n",
       "      <th>Price</th>\n",
       "      <th>Return/Exchange</th>\n",
       "      <th>Availability</th>\n",
       "      <th>Other details</th>\n",
       "      <th>Product Urls</th>\n",
       "    </tr>\n",
       "  </thead>\n",
       "  <tbody>\n",
       "    <tr>\n",
       "      <th>0</th>\n",
       "      <td>Acer</td>\n",
       "      <td>Acer Aspire Lite 12th Gen Intel Core i5-1235U ...</td>\n",
       "      <td>3.8 out of 5 stars</td>\n",
       "      <td>3.8\\n412 ratings</td>\n",
       "      <td>--</td>\n",
       "      <td>--</td>\n",
       "      <td>In stock</td>\n",
       "      <td></td>\n",
       "      <td>https://m.media-amazon.com/images/I/71czGb00k5...</td>\n",
       "    </tr>\n",
       "    <tr>\n",
       "      <th>1</th>\n",
       "      <td>Acer</td>\n",
       "      <td>Acer [Smartchoice] Aspire Lite AMD Ryzen 3 530...</td>\n",
       "      <td>3.9 out of 5 stars</td>\n",
       "      <td>3.9\\n397 ratings</td>\n",
       "      <td>--</td>\n",
       "      <td>--</td>\n",
       "      <td>--</td>\n",
       "      <td></td>\n",
       "      <td>https://m.media-amazon.com/images/I/61CC9Mx2+a...</td>\n",
       "    </tr>\n",
       "    <tr>\n",
       "      <th>2</th>\n",
       "      <td>ASUS</td>\n",
       "      <td>ASUS Vivobook Go 14 (2023), 14\" (35.56 cm) FHD...</td>\n",
       "      <td>4.0 out of 5 stars</td>\n",
       "      <td>4.0\\n1,537 ratings</td>\n",
       "      <td>--</td>\n",
       "      <td>--</td>\n",
       "      <td>In stock</td>\n",
       "      <td></td>\n",
       "      <td>https://m.media-amazon.com/images/I/71mQMASiF7...</td>\n",
       "    </tr>\n",
       "    <tr>\n",
       "      <th>3</th>\n",
       "      <td>Dell</td>\n",
       "      <td>Dell 14 Thin &amp; Light Laptop, 12th Gen Intel Co...</td>\n",
       "      <td>3.8 out of 5 stars</td>\n",
       "      <td>3.8\\n677 ratings</td>\n",
       "      <td>--</td>\n",
       "      <td>--</td>\n",
       "      <td>In stock</td>\n",
       "      <td></td>\n",
       "      <td>https://m.media-amazon.com/images/I/71tSrDl1Ta...</td>\n",
       "    </tr>\n",
       "    <tr>\n",
       "      <th>4</th>\n",
       "      <td>Lenovo</td>\n",
       "      <td>(Refurbished) Lenovo ThinkPad 6th Gen Intel Co...</td>\n",
       "      <td>3.7 out of 5 stars</td>\n",
       "      <td>3.7\\n339 ratings</td>\n",
       "      <td>--</td>\n",
       "      <td>--</td>\n",
       "      <td>In stock</td>\n",
       "      <td>Technical Details Brand Lenovo Manufacturer Le...</td>\n",
       "      <td>https://m.media-amazon.com/images/I/61vGumezio...</td>\n",
       "    </tr>\n",
       "    <tr>\n",
       "      <th>...</th>\n",
       "      <td>...</td>\n",
       "      <td>...</td>\n",
       "      <td>...</td>\n",
       "      <td>...</td>\n",
       "      <td>...</td>\n",
       "      <td>...</td>\n",
       "      <td>...</td>\n",
       "      <td>...</td>\n",
       "      <td>...</td>\n",
       "    </tr>\n",
       "    <tr>\n",
       "      <th>88</th>\n",
       "      <td>Dell</td>\n",
       "      <td>Dell [Smartchoice 15 Thin &amp; Light Laptop, 12th...</td>\n",
       "      <td>3.8 out of 5 stars</td>\n",
       "      <td>3.8\\n677 ratings</td>\n",
       "      <td>--</td>\n",
       "      <td>--</td>\n",
       "      <td>In stock</td>\n",
       "      <td></td>\n",
       "      <td>https://m.media-amazon.com/images/I/71TcPkUibV...</td>\n",
       "    </tr>\n",
       "    <tr>\n",
       "      <th>89</th>\n",
       "      <td>--</td>\n",
       "      <td>Apple 2023 MacBook Pro (14-inch, M3 Pro chip w...</td>\n",
       "      <td>--</td>\n",
       "      <td>4.5\\n22 ratings</td>\n",
       "      <td>--</td>\n",
       "      <td>--</td>\n",
       "      <td>In stock</td>\n",
       "      <td>--</td>\n",
       "      <td>https://m.media-amazon.com/images/I/61RJn0ofUs...</td>\n",
       "    </tr>\n",
       "    <tr>\n",
       "      <th>90</th>\n",
       "      <td>ASUS</td>\n",
       "      <td>ASUS TUF F15 Gaming Laptop, Intel Core i5-1140...</td>\n",
       "      <td>3.9 out of 5 stars</td>\n",
       "      <td>3.9\\n291 ratings</td>\n",
       "      <td>--</td>\n",
       "      <td>--</td>\n",
       "      <td>In stock</td>\n",
       "      <td></td>\n",
       "      <td>https://m.media-amazon.com/images/I/71-Fx3Vfq5...</td>\n",
       "    </tr>\n",
       "    <tr>\n",
       "      <th>91</th>\n",
       "      <td>BuyKarNow</td>\n",
       "      <td>BKN® Mini Premium Metal Folding Portable Lapto...</td>\n",
       "      <td>249 g</td>\n",
       "      <td>4.2\\n2,270 ratings</td>\n",
       "      <td>--</td>\n",
       "      <td>--</td>\n",
       "      <td>In stock</td>\n",
       "      <td>Technical Details Manufacturer BuyKarNow Count...</td>\n",
       "      <td>https://m.media-amazon.com/images/I/511cPUh3VQ...</td>\n",
       "    </tr>\n",
       "    <tr>\n",
       "      <th>92</th>\n",
       "      <td>BuyKarNow</td>\n",
       "      <td>BKN® Mini Premium Metal Folding Portable Lapto...</td>\n",
       "      <td>249 g</td>\n",
       "      <td>4.2\\n2,270 ratings</td>\n",
       "      <td>--</td>\n",
       "      <td>--</td>\n",
       "      <td>In stock</td>\n",
       "      <td>Technical Details Manufacturer BuyKarNow Count...</td>\n",
       "      <td>https://m.media-amazon.com/images/I/511cPUh3VQ...</td>\n",
       "    </tr>\n",
       "  </tbody>\n",
       "</table>\n",
       "<p>93 rows × 9 columns</p>\n",
       "</div>"
      ],
      "text/plain": [
       "        Brand                                Name of the product  \\\n",
       "0        Acer  Acer Aspire Lite 12th Gen Intel Core i5-1235U ...   \n",
       "1        Acer  Acer [Smartchoice] Aspire Lite AMD Ryzen 3 530...   \n",
       "2        ASUS  ASUS Vivobook Go 14 (2023), 14\" (35.56 cm) FHD...   \n",
       "3        Dell  Dell 14 Thin & Light Laptop, 12th Gen Intel Co...   \n",
       "4      Lenovo  (Refurbished) Lenovo ThinkPad 6th Gen Intel Co...   \n",
       "..        ...                                                ...   \n",
       "88       Dell  Dell [Smartchoice 15 Thin & Light Laptop, 12th...   \n",
       "89         --  Apple 2023 MacBook Pro (14-inch, M3 Pro chip w...   \n",
       "90       ASUS  ASUS TUF F15 Gaming Laptop, Intel Core i5-1140...   \n",
       "91  BuyKarNow  BKN® Mini Premium Metal Folding Portable Lapto...   \n",
       "92  BuyKarNow  BKN® Mini Premium Metal Folding Portable Lapto...   \n",
       "\n",
       "               Ratings       No of ratings Price Return/Exchange Availability  \\\n",
       "0   3.8 out of 5 stars    3.8\\n412 ratings    --              --     In stock   \n",
       "1   3.9 out of 5 stars    3.9\\n397 ratings    --              --           --   \n",
       "2   4.0 out of 5 stars  4.0\\n1,537 ratings    --              --     In stock   \n",
       "3   3.8 out of 5 stars    3.8\\n677 ratings    --              --     In stock   \n",
       "4   3.7 out of 5 stars    3.7\\n339 ratings    --              --     In stock   \n",
       "..                 ...                 ...   ...             ...          ...   \n",
       "88  3.8 out of 5 stars    3.8\\n677 ratings    --              --     In stock   \n",
       "89                  --     4.5\\n22 ratings    --              --     In stock   \n",
       "90  3.9 out of 5 stars    3.9\\n291 ratings    --              --     In stock   \n",
       "91               249 g  4.2\\n2,270 ratings    --              --     In stock   \n",
       "92               249 g  4.2\\n2,270 ratings    --              --     In stock   \n",
       "\n",
       "                                        Other details  \\\n",
       "0                                                       \n",
       "1                                                       \n",
       "2                                                       \n",
       "3                                                       \n",
       "4   Technical Details Brand Lenovo Manufacturer Le...   \n",
       "..                                                ...   \n",
       "88                                                      \n",
       "89                                                 --   \n",
       "90                                                      \n",
       "91  Technical Details Manufacturer BuyKarNow Count...   \n",
       "92  Technical Details Manufacturer BuyKarNow Count...   \n",
       "\n",
       "                                         Product Urls  \n",
       "0   https://m.media-amazon.com/images/I/71czGb00k5...  \n",
       "1   https://m.media-amazon.com/images/I/61CC9Mx2+a...  \n",
       "2   https://m.media-amazon.com/images/I/71mQMASiF7...  \n",
       "3   https://m.media-amazon.com/images/I/71tSrDl1Ta...  \n",
       "4   https://m.media-amazon.com/images/I/61vGumezio...  \n",
       "..                                                ...  \n",
       "88  https://m.media-amazon.com/images/I/71TcPkUibV...  \n",
       "89  https://m.media-amazon.com/images/I/61RJn0ofUs...  \n",
       "90  https://m.media-amazon.com/images/I/71-Fx3Vfq5...  \n",
       "91  https://m.media-amazon.com/images/I/511cPUh3VQ...  \n",
       "92  https://m.media-amazon.com/images/I/511cPUh3VQ...  \n",
       "\n",
       "[93 rows x 9 columns]"
      ]
     },
     "execution_count": 26,
     "metadata": {},
     "output_type": "execute_result"
    }
   ],
   "source": [
    "#creating data frame\n",
    "df=pd.DataFrame({})\n",
    "df['Brand']=brand_list\n",
    "df['Name of the product']=title_list\n",
    "df[\"Ratings\"]=rating_list\n",
    "df[\"No of ratings\"]=no_rating_list\n",
    "df['Price']=price_list\n",
    "df['Return/Exchange']=return_list\n",
    "df['Availability']=availability_list\n",
    "df['Other details']=details_list\n",
    "df['Product Urls']=img_url_list\n",
    "df"
   ]
  },
  {
   "cell_type": "code",
   "execution_count": null,
   "id": "2951299d",
   "metadata": {},
   "outputs": [],
   "source": [
    "\"\"\"3. Write a python program to access the search bar and search button on images.google.com and scrape 10\n",
    "images each for keywords ‘fruits’, ‘cars’ and ‘Machine Learning’, ‘Guitar’, ‘Cakes’.\"\"\""
   ]
  },
  {
   "cell_type": "code",
   "execution_count": 34,
   "id": "43b07963",
   "metadata": {},
   "outputs": [],
   "source": [
    "#fruitsimg \n",
    "\n",
    "browser_3 = webdriver.Chrome()\n",
    "\n",
    "browser_3.get('https://www.google.com/')\n",
    "\n",
    "browser_3.maximize_window()\n",
    "\n",
    "enter_name3 = browser_3.find_element(By.XPATH,\"/html/body/div[1]/div[3]/form/div[1]/div[1]/div[1]/div/div[2]/textarea\")\n",
    "enter_name3.send_keys('fruits')\n",
    "\n",
    "time.sleep(3)\n",
    "\n",
    "slsearch3 = browser_3.find_element(By.XPATH,\"//input[@class='gNO89b']\")\n",
    "slsearch3.click()\n",
    "\n",
    "time.sleep(3)\n",
    "\n",
    "imgbtn3 = browser_3.find_element(By.XPATH,\"/html/body/div[4]/div/div[4]/div/div[1]/div/div/div[1]/div/div/div/div[1]/div[1]/div/div[2]/a\")\n",
    "imgbtn3.click()\n",
    "\n",
    "time.sleep(3)\n",
    "\n",
    "images = []\n",
    "ele = browser_3.find_elements(By.XPATH,\"//img[@src]\")\n",
    "for e in ele:\n",
    "    images.append(e.get_attribute('src'))\n",
    "\n",
    "fltrimg = list(filter(lambda k: 'data' in k , images))"
   ]
  },
  {
   "cell_type": "code",
   "execution_count": 30,
   "id": "b7aef812",
   "metadata": {},
   "outputs": [],
   "source": [
    "#carsimg \n",
    "\n",
    "browser_3cars = webdriver.Chrome()\n",
    "\n",
    "browser_3cars.get('https://www.google.com/')\n",
    "browser_3cars.maximize_window()\n",
    "enter_name3 = browser_3cars.find_element(By.XPATH,\"/html/body/div[1]/div[3]/form/div[1]/div[1]/div[1]/div/div[2]/textarea\")\n",
    "enter_name3.send_keys('cars')\n",
    "\n",
    "time.sleep(3)\n",
    "\n",
    "slsearch3 = browser_3cars.find_element(By.XPATH,\"//input[@class='gNO89b']\")\n",
    "slsearch3.click()\n",
    "\n",
    "\n",
    "time.sleep(3)\n",
    "\n",
    "imgbtn3cars = browser_3cars.find_element(By.XPATH,\"/html/body/div[4]/div/div[3]/div/div/div/div/div/div[1]/div[1]/div/div[2]/a/div\")\n",
    "imgbtn3cars.click()\n",
    "\n",
    "time.sleep(3)\n",
    "\n",
    "imagescars = []\n",
    "ele = browser_3cars.find_elements(By.XPATH,\"//img[@src]\")\n",
    "for e in ele:\n",
    "    imagescars.append(e.get_attribute('src'))\n",
    "\n",
    "fltrimgcars = list(filter(lambda k: 'data' in k , imagescars))"
   ]
  },
  {
   "cell_type": "code",
   "execution_count": 38,
   "id": "151d4ed9",
   "metadata": {},
   "outputs": [],
   "source": [
    "#machinelearning \n",
    "\n",
    "browser_3ml= webdriver.Chrome()\n",
    "\n",
    "browser_3ml.get('https://www.google.com/')\n",
    "browser_3ml.maximize_window()\n",
    "enter_name3ml = browser_3ml.find_element(By.XPATH,\"/html/body/div[1]/div[3]/form/div[1]/div[1]/div[1]/div/div[2]/textarea\")\n",
    "enter_name3ml.send_keys('machine learning')\n",
    "\n",
    "time.sleep(3)\n",
    "\n",
    "slsearch3ml = browser_3ml.find_element(By.XPATH,\"//input[@class='gNO89b']\")\n",
    "slsearch3ml.click()\n",
    "\n",
    "\n",
    "time.sleep(3)\n",
    "\n",
    "imgbtn3ml = browser_3ml.find_element(By.XPATH,\"/html/body/div[4]/div/div[3]/div/div/div/div/div/div/div[1]/div/div[2]/a\")\n",
    "imgbtn3ml.click()\n",
    "\n",
    "time.sleep(3)\n",
    "\n",
    "imagesml = []\n",
    "ele = browser_3ml.find_elements(By.XPATH,\"//img[@src]\")\n",
    "for e in ele:\n",
    "    imagesml.append(e.get_attribute('src'))\n",
    "\n",
    "fltrimgml = list(filter(lambda k: 'data' in k , imagesml))"
   ]
  },
  {
   "cell_type": "code",
   "execution_count": 41,
   "id": "7a0c51b0",
   "metadata": {},
   "outputs": [],
   "source": [
    "#guitar\n",
    "\n",
    "browser_3g = webdriver.Chrome()\n",
    "\n",
    "browser_3g.get('https://www.google.com/')\n",
    "browser_3g.maximize_window()\n",
    "enter_name3g = browser_3g.find_element(By.XPATH,\"/html/body/div[1]/div[3]/form/div[1]/div[1]/div[1]/div/div[2]/textarea\")\n",
    "enter_name3g.send_keys('guitar')\n",
    "\n",
    "time.sleep(3)\n",
    "\n",
    "slsearch3g = browser_3g.find_element(By.XPATH,\"//input[@class='gNO89b']\")\n",
    "slsearch3g.click()\n",
    "\n",
    "\n",
    "time.sleep(3)\n",
    "\n",
    "imgbtn3g = browser_3g.find_element(By.XPATH,\"/html/body/div[4]/div/div[4]/div/div[1]/div/div/div[1]/div/div/div/div[1]/div[1]/div/div[3]/a\")\n",
    "imgbtn3g.click()\n",
    "\n",
    "time.sleep(3)\n",
    "\n",
    "imagesg = []\n",
    "ele = browser_3g.find_elements(By.XPATH,\"//img[@src]\")\n",
    "for e in ele:\n",
    "    imagesg.append(e.get_attribute('src'))\n",
    "\n",
    "fltrimgg = list(filter(lambda k: 'data' in k , imagesg))"
   ]
  },
  {
   "cell_type": "code",
   "execution_count": 43,
   "id": "fc16b3af",
   "metadata": {},
   "outputs": [],
   "source": [
    "#cakes\n",
    "\n",
    "browser_3ck = webdriver.Chrome()\n",
    "\n",
    "browser_3ck.get('https://www.google.com/')\n",
    "browser_3ck.maximize_window()\n",
    "enter_name3ck = browser_3ck.find_element(By.XPATH,\"/html/body/div[1]/div[3]/form/div[1]/div[1]/div[1]/div/div[2]/textarea\")\n",
    "enter_name3ck.send_keys('cakes')\n",
    "\n",
    "time.sleep(3)\n",
    "\n",
    "slsearch3ck = browser_3ck.find_element(By.XPATH,\"//input[@class='gNO89b']\")\n",
    "slsearch3ck.click()\n",
    "\n",
    "\n",
    "time.sleep(3)\n",
    "\n",
    "imgbtn3ck = browser_3ck.find_element(By.XPATH,\"/html/body/div[4]/div/div[4]/div/div[1]/div/div/div[1]/div/div/div/div[1]/div[1]/div/div[2]/a\")\n",
    "imgbtn3ck.click()\n",
    "\n",
    "time.sleep(3)\n",
    "\n",
    "imagesck = []\n",
    "ele = browser_3ck.find_elements(By.XPATH,\"//img[@src]\")\n",
    "for e in ele:\n",
    "    imagesck.append(e.get_attribute('src'))\n",
    "\n",
    "fltrimgck = list(filter(lambda k: 'data' in k , imagesck))\n"
   ]
  },
  {
   "cell_type": "code",
   "execution_count": 44,
   "id": "a6ae5c05",
   "metadata": {},
   "outputs": [],
   "source": [
    "df_img = pd.DataFrame()"
   ]
  },
  {
   "cell_type": "code",
   "execution_count": null,
   "id": "b12c6bd9",
   "metadata": {},
   "outputs": [],
   "source": [
    "df_img['Fruits images']=[fltrimg[0:10]]\n",
    "df_img['Cars img']=[fltrimgcars[0:10]]\n",
    "df_img['ML img']=[fltrimgml[0:10]]\n",
    "df_img['Guitar img']=[fltrimgg[0:10]]\n",
    "df_img['Cake images']=[fltrimgck[0:10]]\n",
    "\n",
    "df_img"
   ]
  },
  {
   "cell_type": "code",
   "execution_count": null,
   "id": "b98d5d11",
   "metadata": {},
   "outputs": [],
   "source": [
    "\"\"\" 4. Write a python program to search for a smartphone(e.g.: Oneplus Nord, pixel 4A, etc.) on\n",
    "www.flipkart.com and scrape following details for all the search results displayed on 1st page. Details to be \n",
    "scraped: “Brand Name”, “Smartphone name”, “Colour”, “RAM”, “Storage(ROM)”, “Primary Camera”, \n",
    "“Secondary Camera”, “Display Size”, “Battery Capacity”, “Price”, “Product URL”. Incase if any of the \n",
    "details is missing then replace it by “- “. Save your results in a dataframe and CSV\"\"\""
   ]
  },
  {
   "cell_type": "code",
   "execution_count": 52,
   "id": "328d9d39",
   "metadata": {},
   "outputs": [
    {
     "name": "stdout",
     "output_type": "stream",
     "text": [
      "Login Window is not present\n"
     ]
    }
   ],
   "source": [
    "# Connecting to webdriver\n",
    "driver=webdriver.Chrome()\n",
    "time.sleep(1)\n",
    "\n",
    "# Opening url in Chrome browser\n",
    "url='http://www.flipkart.com/'\n",
    "driver.get(url)\n",
    "time.sleep(3)\n",
    "\n",
    "try:\n",
    "    login_window = driver.find_element(By.XPATH,'//button[@class=\"_2KpZ6l _2doB4z\"]')\n",
    "    login_window.click()\n",
    "except NoSuchElementException:\n",
    "    print('Login Window is not present')\n",
    "    "
   ]
  },
  {
   "cell_type": "code",
   "execution_count": 56,
   "id": "d13b7ab2",
   "metadata": {},
   "outputs": [],
   "source": [
    "# Finding Search bar website by xpath\n",
    "Search=driver.find_element(By.XPATH,'/html/body/div[1]/div/div[1]/div/div/div/div/div[1]/div/div[1]/div/div[1]/div[1]/header/div[1]/div[2]/form/div/div/input')\n",
    "# Clearing any previous input in search bar\n",
    "Search.clear()\n",
    "# Feeding input 'Oneplus' in search bar\n",
    "Search.send_keys('Iphone Mobile')\n",
    "# Finding Search button for clicking through class name\n",
    "Search_button=driver.find_element(By.XPATH,'/html/body/div[1]/div/div[1]/div/div/div/div/div[1]/div/div[1]/div/div[1]/div[1]/header/div[1]/div[2]/form/div/button')\n",
    "# Clicking search button\n",
    "Search_button.click()"
   ]
  },
  {
   "cell_type": "code",
   "execution_count": 57,
   "id": "6a6f2a59",
   "metadata": {},
   "outputs": [],
   "source": [
    "# Making empty list to scrape data\n",
    "Brand =[]\n",
    "Smartphone =[]\n",
    "Colour =[]\n",
    "Storage_Rom =[]\n",
    "Primary_camera=[]\n",
    "Secondary_camera=[]\n",
    "Display_size=[]\n",
    "Display_resolution=[]\n",
    "Processor =[]\n",
    "Processor_cores=[]\n",
    "Battery_capacity=[]\n",
    "Price =[]"
   ]
  },
  {
   "cell_type": "code",
   "execution_count": 61,
   "id": "f11f7ca1",
   "metadata": {},
   "outputs": [],
   "source": [
    "URL=[]\n",
    "url=driver.find_elements(By.XPATH,'//a[@class=\"CGtC98\"]')\n",
    "for i in url:\n",
    "    Href=i.get_attribute('href')\n",
    "    URL.append(Href)"
   ]
  },
  {
   "cell_type": "code",
   "execution_count": 62,
   "id": "7f3c81ed",
   "metadata": {},
   "outputs": [
    {
     "data": {
      "text/plain": [
       "24"
      ]
     },
     "execution_count": 62,
     "metadata": {},
     "output_type": "execute_result"
    }
   ],
   "source": [
    "len(URL)"
   ]
  },
  {
   "cell_type": "code",
   "execution_count": null,
   "id": "43e164ed",
   "metadata": {},
   "outputs": [],
   "source": [
    "from tqdm import tqdm\n",
    "for i in tqdm(URL):\n",
    "    driver.get(i)\n",
    "    time.sleep(3)\n",
    "    \n",
    "    # Expanding specification table by clicking on read more button\n",
    "    try:\n",
    "        Read_more=driver.find_element(By.XPATH,'//button[@class=\"_2KpZ6l _1FH0tX\"]')\n",
    "        Read_more.click()\n",
    "        \n",
    "    except NoSuchElementException:\n",
    "        print('NoSuchElementException Occur')\n",
    "        pass\n",
    "    \n",
    "    # Extracting Brand Name via Xpath\n",
    "    try:\n",
    "        brand=driver.find_element(By.XPATH,'//span[@class=\"B_NuCI\"]')\n",
    "        Brand.append(brand.text.split()[0])\n",
    "    \n",
    "    except NoSuchElementException:\n",
    "        Brand.append('-')\n",
    "        \n",
    "    # Extracting Smartphone Model via Xpath\n",
    "    try:\n",
    "        smartphone=driver.find_element(By.XPATH,'//div[@class=\"_3k-BhJ\"][1]/table/tbody/tr[3]/td[2]/ul/li')\n",
    "        Smartphone.append(smartphone.text)\n",
    "    \n",
    "    except NoSuchElementException:\n",
    "        Smartphone.append('-')\n",
    "        \n",
    "    # Extracting Colour via Xpath\n",
    "    try:\n",
    "        colour=driver.find_element(By.XPATH,'//div[@class=\"_3k-BhJ\"][1]/table/tbody/tr[4]/td[2]/ul/li')\n",
    "        Colour.append(colour.text)\n",
    "    \n",
    "    except NoSuchElementException:\n",
    "        Colour.append('-')\n",
    "    \n",
    "    # Extracting Storage Rom via Xpath\n",
    "    try:\n",
    "        Rom=driver.find_element(By.XPATH,'//div[@class=\"_3k-BhJ\"][4]/table/tbody/tr[1]/td[2]/ul/li')\n",
    "        Storage_Rom.append(Rom.text)\n",
    "        \n",
    "    except NoSuchElementException:\n",
    "        Storage_Rom.append('Not Mention')\n",
    "        \n",
    "    # Extracting primary camera detail via Xpath\n",
    "    try:\n",
    "        primary_camera=driver.find_element(By.XPATH,'//div[@class=\"_3k-BhJ\"][5]/table/tbody/tr[2]/td[2]/ul/li')\n",
    "        Primary_camera.append(primary_camera.text)\n",
    "    \n",
    "    except NoSuchElementException:\n",
    "        Primary_camera.append('Not Mention')\n",
    "        \n",
    "    # Extracting Secondary Camera detail via Xpath\n",
    "    try:\n",
    "        secondary_cam=driver.find_element(By.XPATH,'//div[@class=\"_3k-BhJ\"][5]/table/tbody/tr[5]/td[2]/ul/li')\n",
    "        Secondary_camera.append(secondary_cam.text)\n",
    "    \n",
    "    except NoSuchElementException:\n",
    "        Secondary_camera.append('Not Mention')\n",
    "    \n",
    "    # Extracting Display size via Xpath\n",
    "    try:\n",
    "        display=driver.find_element(By.XPATH,'//div[@class=\"_3k-BhJ\"][2]/table/tbody/tr[1]/td[2]/ul/li')\n",
    "        Display_size.append(display.text)\n",
    "    except NoSuchElementException:\n",
    "        Display_size.append('-')\n",
    "    \n",
    "    # Extracting Display Resolution via Xpath\n",
    "    try:\n",
    "        resolution=driver.find_element(By.XPATH,'//div[@class=\"_3k-BhJ\"][2]/table/tbody/tr[2]/td[2]/ul/li')\n",
    "        Display_resolution.append(resolution.text)\n",
    "    except NoSuchElementException:\n",
    "        Display_resolution.append('-')\n",
    "    \n",
    "    # Extracting processor detail via xpath\n",
    "    try:\n",
    "        processor=driver.find_element(By.XPATH,'//div[@class=\"_3k-BhJ\"][3]/table/tbody/tr[2]/td[2]/ul/li')\n",
    "        Processor.append(processor.text)\n",
    "    \n",
    "    except NoSuchElementException:\n",
    "        Processor.append('-')\n",
    "        \n",
    "    # Extracting Processor core via xpath\n",
    "    try:\n",
    "        core=driver.find_element(By.XPATH,'//div[@class=\"_3k-BhJ\"][3]/table/tbody/tr[3]/td[2]/ul/li')\n",
    "        Processor_cores.append(core.text)\n",
    "    except NoSuchElementException:\n",
    "        Processor_cores.append('Not Mention')\n",
    "    \n",
    "    #Extracting Price via X path\n",
    "    try:\n",
    "        price=driver.find_element(By.XPATH,'//div[@class=\"_30jeq3 _16Jk6d\"]')\n",
    "        Price.append(price.text)\n",
    "    except NoSuchElementException:\n",
    "        Price.append('Not Mention')"
   ]
  },
  {
   "cell_type": "code",
   "execution_count": null,
   "id": "f32b7dde",
   "metadata": {},
   "outputs": [],
   "source": [
    "Iphone=pd.DataFrame({'Brand':Brand,'Smartphone':Smartphone,'Colour':Colour,'Price':Price,\n",
    "                        'Storage Rom':Storage_Rom,'Primary Camera':Primary_camera,'Display Size':Display_size,\n",
    "                        'Display Resolution':Display_resolution,'Processor':Processor,'Processor Cores':Processor_cores})\n",
    "print('\\033[1m'+'Flipkart Iphone Models :'+'\\033[0m')\n",
    "Iphone.head()"
   ]
  },
  {
   "cell_type": "code",
   "execution_count": null,
   "id": "b29a8a7a",
   "metadata": {},
   "outputs": [],
   "source": [
    "'''5. Write a program to scrap geospatial coordinates (latitude, longitude) of a city searched on google maps.'''"
   ]
  },
  {
   "cell_type": "code",
   "execution_count": 64,
   "id": "6cb29651",
   "metadata": {},
   "outputs": [],
   "source": [
    "driver=webdriver.Chrome()\n",
    "time.sleep(1)\n",
    "\n",
    "# Opening url in chrome browser\n",
    "url='https://www.google.co.in/maps'\n",
    "driver.get(url)\n",
    "time.sleep(3)"
   ]
  },
  {
   "cell_type": "code",
   "execution_count": 65,
   "id": "5eba630b",
   "metadata": {},
   "outputs": [],
   "source": [
    "# Finding search menu by xpath\n",
    "Search=driver.find_element(By.ID,\"searchboxinput\") \n",
    "# clearing any previous input in search bar\n",
    "Search.clear()\n",
    "# Feeding input specified by user to search menu through send keys\n",
    "Search.send_keys('Nashik')\n",
    "# Finding Search button for clicking through xpath\n",
    "Search_button=driver.find_element(By.ID,\"searchbox-searchbutton\")  \n",
    "# Clicking search button\n",
    "Search_button.click()"
   ]
  },
  {
   "cell_type": "code",
   "execution_count": 66,
   "id": "c82b1290",
   "metadata": {},
   "outputs": [
    {
     "name": "stdout",
     "output_type": "stream",
     "text": [
      "Current url : https://www.google.co.in/maps/place/Nashik,+Maharashtra/@19.0414848,73.0464256,13z/data=!4m6!3m5!1s0x3bddd290b09914b3:0xcb07845d9d28215c!8m2!3d19.9974533!4d73.7898023!16zL20vMDM3dmtr?entry=ttu\n"
     ]
    }
   ],
   "source": [
    "current_url=driver.current_url\n",
    "print('Current url :',current_url)"
   ]
  },
  {
   "cell_type": "code",
   "execution_count": 67,
   "id": "128455f5",
   "metadata": {},
   "outputs": [
    {
     "name": "stdout",
     "output_type": "stream",
     "text": [
      "Latitude of given Location: 19.0414848\n",
      "Longitude of given Location: 73.0464256\n"
     ]
    }
   ],
   "source": [
    "try:\n",
    "    if \"@\" in current_url:\n",
    "        location=current_url.split('@')[1].split(',*/data')[0].split(',')\n",
    "        location\n",
    "        print('Latitude of given Location:',location[0])\n",
    "        print('Longitude of given Location:',location[1])\n",
    "except:\n",
    "    print('Location detail not found in url')"
   ]
  },
  {
   "cell_type": "code",
   "execution_count": null,
   "id": "d2d09896",
   "metadata": {},
   "outputs": [],
   "source": [
    "'''6. Write a program to scrap all the available details of best gaming laptops from digit.in.'''"
   ]
  },
  {
   "cell_type": "code",
   "execution_count": 68,
   "id": "eb867572",
   "metadata": {},
   "outputs": [],
   "source": [
    "driver = webdriver.Chrome()\n",
    "url=\"https://www.digit.in/top-products/best-gaming-laptops-40.html\"\n",
    "driver.get(url)"
   ]
  },
  {
   "cell_type": "code",
   "execution_count": 69,
   "id": "ec64fb3c",
   "metadata": {},
   "outputs": [],
   "source": [
    "Brands=[]\n",
    "Products_Description=[]\n",
    "Specification=[]\n",
    "Price=[]"
   ]
  },
  {
   "cell_type": "code",
   "execution_count": null,
   "id": "a0756eb6",
   "metadata": {},
   "outputs": [],
   "source": [
    "br=driver.find_elements(By.XPATH,\"//div[@class='TopNumbeHeading active sticky-footer']\")\n",
    "len(br)\n",
    "for i in br:\n",
    "   \n",
    "    Brands.append(str(i.text).replace(\"\\n\",\"\"))\n",
    "Brands"
   ]
  },
  {
   "cell_type": "code",
   "execution_count": null,
   "id": "5aaf1919",
   "metadata": {},
   "outputs": [],
   "source": [
    "sp=driver.find_elements(By.XPATH,\"//div[@class='Specs-Wrap']\")\n",
    "len(sp)\n",
    "for i in sp:\n",
    "   \n",
    "    Specification.append(str(i.text).replace(\"\\n\",\"\"))\n",
    "Specification"
   ]
  },
  {
   "cell_type": "code",
   "execution_count": null,
   "id": "0260c561",
   "metadata": {},
   "outputs": [],
   "source": [
    "des=driver.find_elements(By.XPATH,\"//div[@class='Section-center']\")\n",
    "len(des)\n",
    "for i in des:\n",
    "   \n",
    "    Products_Description.append(str(i.text).replace(\"\\n\",\"\"))\n",
    "Products_Description"
   ]
  },
  {
   "cell_type": "code",
   "execution_count": null,
   "id": "374300ae",
   "metadata": {},
   "outputs": [],
   "source": [
    "pri=driver.find_elements(By.XPATH,\"//td[@class='smprice']\")\n",
    "len(pri)\n",
    "for i in pri:\n",
    "   \n",
    "    Price.append(str(i.text).replace(\"\\n\",\"\"))\n",
    "Price"
   ]
  },
  {
   "cell_type": "code",
   "execution_count": null,
   "id": "8af4de7e",
   "metadata": {},
   "outputs": [],
   "source": [
    "digit_lap=pd.DataFrame([])\n",
    "digit_lap['Brands']=Brands[0:10]\n",
    "digit_lap['Price']=Price[0:10]\n",
    "digit_lap['Specification']=Specification[0:10]\n",
    "digit_lap['Description']=Products_Description[0:10]\n",
    "digit_lap"
   ]
  },
  {
   "cell_type": "code",
   "execution_count": null,
   "id": "55358f10",
   "metadata": {},
   "outputs": [],
   "source": [
    "'''7. Write a python program to scrape the details for all billionaires from www.forbes.com. Details to be scrapped: “Rank”, “Name”, “Net worth”, “Age”, “Citizenship”, “Source”, “Industry”.'''"
   ]
  },
  {
   "cell_type": "code",
   "execution_count": 71,
   "id": "78858a8c",
   "metadata": {},
   "outputs": [],
   "source": [
    "import requests\n",
    "from bs4 import BeautifulSoup\n",
    "\n"
   ]
  },
  {
   "cell_type": "code",
   "execution_count": 73,
   "id": "e06fbb47",
   "metadata": {},
   "outputs": [
    {
     "data": {
      "text/plain": [
       "<Response [200]>"
      ]
     },
     "execution_count": 73,
     "metadata": {},
     "output_type": "execute_result"
    }
   ],
   "source": [
    "# Send a GET request to the Forbes website\n",
    "url = \"https://www.forbes.com/billionaires/\"\n",
    "response = requests.get(url)\n",
    "response\n"
   ]
  },
  {
   "cell_type": "code",
   "execution_count": 75,
   "id": "2d2b77d6",
   "metadata": {},
   "outputs": [
    {
     "data": {
      "text/plain": [
       "<!DOCTYPE html>\n",
       "<html><head><link as=\"font\" crossorigin=\"anonymous\" href=\"https://i.forbesimg.com/assets/fonts/EuclidCircular/EuclidCircularB-Regular.otf\" rel=\"preload\"/><meta charset=\"utf-8\"/><meta content=\"#000000\" name=\"theme-color\"/><title>Forbes Billionaires 2024</title><link href=\"https://i.forbesimg.com/favicon.ico\" rel=\"shortcut icon\"/><link href=\"https://www.forbes.com/billionaires/\" rel=\"canonical\"/><meta content=\"width=device-width,initial-scale=1,maximum-scale=1,user-scalable=yes\" name=\"viewport\"/><meta content=\"origin-when-cross-origin\" name=\"referrer\"/><meta content=\"Forbes presents the 2024 World's Billionaires List. View the richest people in the world including the youngest billionaires, female billionaires and newest billionaires.\" itemprop=\"description\" name=\"description\"/><meta content=\"billionaires, the world's billionaires, how many billionaires are there in the world, how many billionaires in the us, how many billionaires are there, wealth, Jeff Bezos, Kylie Jenner, Elon Musk, Kylie, Steward, Bezos, Laurene Powell Jobs, Donald Trump, richest people in the world, world’s billionaires, richest person in the world, richest woman in the world\" name=\"keywords\"/><meta content=\"English\" name=\"language\"/><meta content=\"app-id=588647136\" name=\"apple-itunes-app\"/><meta content=\"Forbes\" property=\"og:site_name\"/><meta content=\"Forbes Billionaires 2024\" property=\"og:title\"/><meta content=\"article\" property=\"og:type\"/><meta content=\"https://www.forbes.com/billionaires/\" property=\"og:url\"/><meta content=\"https://images.forbes.com/2024-billionaires-ver4/list-lander-1400x788.jpg\" property=\"og:image\"/><meta content=\"image/jpeg\" property=\"og:image:type\"/><meta content=\"Forbes presents the 2024 World's Billionaires List. View the richest people in the world including the youngest billionaires, female billionaires and newest billionaires.\" property=\"og:description\"/><meta content=\"123694841080850\" property=\"fb:app_id\"/><meta content=\"summary_large_image\" name=\"twitter:card\"/><meta content=\"@forbes\" name=\"twitter:site\"/><meta content=\"https://images.forbes.com/2024-billionaires-ver4/list-lander-1400x788.jpg\" name=\"twitter:image\"/><meta content=\"Forbes Billionaires 2024\" name=\"twitter:title\"/><meta content=\"Forbes presents the 2024 World's Billionaires List. View the richest people in the world including the youngest billionaires, female billionaires and newest billionaires.\" name=\"twitter:description\"/><meta content=\"https://images.forbes.com/2024-billionaires-ver4/list-lander-1400x788.jpg\" itemprop=\"thumbnailURL\"/><script data-react-helmet=\"true\" type=\"application/ld+json\">\n",
       "\t\t\t\t\t{\n",
       "\t\t\t\t\t\t&quot;@context&quot;: &quot;http://schema.org&quot;,\n",
       "\t\t\t\t\t\t&quot;@type&quot;:&quot;WebPage&quot;,\n",
       "\t\t\t\t\t\t&quot;name&quot;: &quot;Forbes Billionaires 2024&quot;,\n",
       "\t\t\t\t\t\t&quot;description&quot;: &quot;Forbes presents the 2024 World&#x27;s Billionaires List. View the richest people in the world including the youngest billionaires, female billionaires and newest billionaires.&quot;,\n",
       "          \t&quot;url&quot;: &quot;https://www.forbes.com/billionaires/&quot;,\n",
       "\t\t\t\t\t\t&quot;image&quot;: {\n",
       "\t\t\t\t\t\t\t&quot;@type&quot;: &quot;ImageObject&quot;,\n",
       "\t\t\t\t\t\t\t&quot;url&quot;: &quot;https://images.forbes.com/2024-billionaires-ver4/list-lander-1400x788.jpg&quot;\n",
       "\t\t\t\t\t\t},\n",
       "\t\t\t\t\t\t&quot;publisher&quot;: {\n",
       "\t\t\t\t\t\t\t&quot;@type&quot;: &quot;Organization&quot;,\n",
       "\t\t\t\t\t\t\t&quot;name&quot;: &quot;Forbes&quot;\n",
       "\t\t\t\t\t\t}\n",
       "\t\t\t\t\t}\n",
       "\t\t\t\t</script><meta content=\"27\" name=\"next-head-count\"/><link as=\"style\" crossorigin=\"\" href=\"./_next/static/css/bcfea940d0f32f89.css\" rel=\"preload\"/><link crossorigin=\"\" data-n-g=\"\" href=\"./_next/static/css/bcfea940d0f32f89.css\" rel=\"stylesheet\"/><link as=\"style\" crossorigin=\"\" href=\"./_next/static/css/b1cb3625b33480a2.css\" rel=\"preload\"/><link crossorigin=\"\" data-n-p=\"\" href=\"./_next/static/css/b1cb3625b33480a2.css\" rel=\"stylesheet\"/><noscript data-n-css=\"\"></noscript><script crossorigin=\"\" defer=\"\" nomodule=\"\" src=\"./_next/static/chunks/polyfills-c67a75d1b6f99dc8.js\"></script><script crossorigin=\"\" defer=\"\" src=\"./_next/static/chunks/webpack-6ccee6977e3bbced.js\"></script><script crossorigin=\"\" defer=\"\" src=\"./_next/static/chunks/framework-98741467467a0898.js\"></script><script crossorigin=\"\" defer=\"\" src=\"./_next/static/chunks/main-063911d7c74ba9fc.js\"></script><script crossorigin=\"\" defer=\"\" src=\"./_next/static/chunks/pages/_app-ab6f8fd9bbfbe659.js\"></script><script crossorigin=\"\" defer=\"\" src=\"./_next/static/chunks/435d5eac-3515d71e48168283.js\"></script><script crossorigin=\"\" defer=\"\" src=\"./_next/static/chunks/444-40a90ce9620c1046.js\"></script><script crossorigin=\"\" defer=\"\" src=\"./_next/static/chunks/998-565e1697f92b41ed.js\"></script><script crossorigin=\"\" defer=\"\" src=\"./_next/static/chunks/334-2fc4f73f9416aa11.js\"></script><script crossorigin=\"\" defer=\"\" src=\"./_next/static/chunks/pages/index-a406a28f7ed301f2.js\"></script><script crossorigin=\"\" defer=\"\" src=\"./_next/static/caLfhc5CktqTys8dvfdvZ/_buildManifest.js\"></script><script crossorigin=\"\" defer=\"\" src=\"./_next/static/caLfhc5CktqTys8dvfdvZ/_ssgManifest.js\"></script></head><body><div id=\"__next\"><div class=\"ForbesHeader_mainHeader__XuFcZ\"><header class=\"egtB2NsG\" role=\"banner\"><div class=\"Tjq-8GEk\"><div class=\"_8FT-x3t4\"><div aria-label=\"Open Navigation Menu\" class=\"_69hVhdY4\" role=\"button\" tabindex=\"0\"><svg class=\"hamburger_svg__fs-icon hamburger_svg__fs-icon--hamburger\" viewbox=\"0 0 24 24\" xmlns=\"http://www.w3.org/2000/svg\"><path clip-rule=\"evenodd\" d=\"M20 6v2H4V6h16zm0 5v2H4v-2h16zm0 5v2H4v-2h16z\" fill-rule=\"evenodd\"></path></svg></div></div></div><div class=\"kYdKHnOy\"><a aria-label=\"Forbes Logo\" class=\"EppQoOcL\" href=\"https://www.forbes.com/\"><svg class=\"forbes-logo_svg__fs-icon forbes-logo_svg__fs-icon--forbes-logo\" viewbox=\"0 0 200 54\" xmlns=\"http://www.w3.org/2000/svg\"><path d=\"M113.3 18.2c0-5.8.1-11.2.4-16.2L98.4 4.9v1.4l1.5.2c1.1.1 1.8.5 2.2 1.1.4.7.7 1.7.9 3.2.2 2.9.4 9.5.3 19.9 0 10.3-.1 16.8-.3 19.3 5.5 1.2 9.8 1.7 13 1.7 6 0 10.7-1.7 14.1-5.2 3.4-3.4 5.2-8.2 5.2-14.1 0-4.7-1.3-8.6-3.9-11.7-2.6-3.1-5.9-4.6-9.8-4.6-2.6 0-5.3.7-8.3 2.1zm.3 30.8c-.2-3.2-.4-12.8-.4-28.5.9-.3 2.1-.5 3.6-.5 2.4 0 4.3 1.2 5.7 3.7 1.4 2.5 2.1 5.5 2.1 9.3 0 4.7-.8 8.5-2.4 11.7-1.6 3.1-3.6 4.7-6.1 4.7-.8-.2-1.6-.3-2.5-.4zM41 3H1v2l2.1.2c1.6.3 2.7.9 3.4 1.8.7 1 1.1 2.6 1.2 4.8.8 10.8.8 20.9 0 30.2-.2 2.2-.6 3.8-1.2 4.8-.7 1-1.8 1.6-3.4 1.8l-2.1.3v2h25.8v-2l-2.7-.2c-1.6-.2-2.7-.9-3.4-1.8-.7-1-1.1-2.6-1.2-4.8-.3-4-.5-8.6-.5-13.7l5.4.1c2.9.1 4.9 2.3 5.9 6.7h2V18.9h-2c-1 4.3-2.9 6.5-5.9 6.6l-5.4.1c0-9 .2-15.4.5-19.3h7.9c5.6 0 9.4 3.6 11.6 10.8l2.4-.7L41 3zm-4.7 30.8c0 5.2 1.5 9.5 4.4 12.9 2.9 3.4 7.2 5 12.6 5s9.8-1.7 13-5.2c3.2-3.4 4.7-7.7 4.7-12.9s-1.5-9.5-4.4-12.9c-2.9-3.4-7.2-5-12.6-5s-9.8 1.7-13 5.2c-3.2 3.4-4.7 7.7-4.7 12.9zm22.3-11.4c1.2 2.9 1.7 6.7 1.7 11.3 0 10.6-2.2 15.8-6.5 15.8-2.2 0-3.9-1.5-5.1-4.5-1.2-3-1.7-6.8-1.7-11.3C47 23.2 49.2 18 53.5 18c2.2-.1 3.9 1.4 5.1 4.4zm84.5 24.3c3.3 3.3 7.5 5 12.5 5 3.1 0 5.8-.6 8.2-1.9 2.4-1.2 4.3-2.7 5.6-4.5l-1-1.2c-2.2 1.7-4.7 2.5-7.6 2.5-4 0-7.1-1.3-9.2-4-2.2-2.7-3.2-6.1-3-10.5H170c0-4.8-1.2-8.7-3.7-11.8-2.5-3-6-4.5-10.5-4.5-5.6 0-9.9 1.8-13 5.3-3.1 3.5-4.6 7.8-4.6 12.9 0 5.2 1.6 9.4 4.9 12.7zm7.4-25.1c1.1-2.4 2.5-3.6 4.4-3.6 3 0 4.5 3.8 4.5 11.5l-10.6.2c.1-3 .6-5.7 1.7-8.1zm46.4-4c-2.7-1.2-6.1-1.9-10.2-1.9-4.2 0-7.5 1.1-10 3.2s-3.8 4.7-3.8 7.8c0 2.7.8 4.8 2.3 6.3 1.5 1.5 3.9 2.8 7 3.9 2.8 1 4.8 2 5.8 2.9 1 1 1.6 2.1 1.6 3.6 0 1.4-.5 2.7-1.6 3.7-1 1.1-2.4 1.6-4.2 1.6-4.4 0-7.7-3.2-10-9.6l-1.7.5.4 10c3.6 1.4 7.6 2.1 12 2.1 4.6 0 8.1-1 10.7-3.1 2.6-2 3.9-4.9 3.9-8.5 0-2.4-.6-4.4-1.9-5.9-1.3-1.5-3.4-2.8-6.4-4-3.3-1.2-5.6-2.3-6.8-3.3-1.2-1-1.8-2.2-1.8-3.7s.4-2.7 1.3-3.7 2-1.4 3.4-1.4c4 0 6.9 2.9 8.7 8.6l1.7-.5-.4-8.6zm-96.2-.9c-1.4-.7-2.9-1-4.6-1-1.7 0-3.4.7-5.3 2.1-1.9 1.4-3.3 3.3-4.4 5.9l.1-8-15.2 3v1.4l1.5.1c1.9.2 3 1.7 3.2 4.4.6 6.2.6 12.8 0 19.8-.2 2.7-1.3 4.1-3.2 4.4l-1.5.2v1.9h21.2V49l-2.7-.2c-1.9-.2-3-1.7-3.2-4.4-.6-5.8-.7-12-.2-18.4.6-1 1.9-1.6 3.9-1.8 2-.2 4.3.4 6.7 1.8l3.7-9.3z\"></path></svg></a></div><div class=\"_1igOPQPx\"><nav class=\"vDhoPLgx\"><a aria-label=\"Search\" class=\"tqz2-Oiw lKMo-B1t\" href=\"https://www.forbes.com/search/\" type=\"button\"><svg class=\"search_svg__fs-icon search_svg__fs-icon--search\" viewbox=\"0 0 24 24\" xmlns=\"http://www.w3.org/2000/svg\"><path d=\"M9.5 14C7 14 5 12 5 9.5S7 5 9.5 5 14 7 14 9.5 12 14 9.5 14zm6 0h-.8l-.3-.3c1-1.1 1.6-2.6 1.6-4.2C16 5.9 13.1 3 9.5 3S3 5.9 3 9.5 5.9 16 9.5 16c1.6 0 3.1-.6 4.2-1.6l.3.3v.8l5 5 1.5-1.5-5-5z\"></path></svg></a></nav></div></header></div><div class=\"HorizontalDefaultLayout_contentWrapper__RvzTK\"><div class=\"DefaultLayout_container__s7kvH\"><style>\n",
       "        :root {\n",
       "          --lsts-color-primary: #06bffc;--lsts-color-border-title: #06bffc;--lsts-rail-background: #000;\n",
       "          \n",
       "        }</style><div style=\"display:flex;flex-direction:column\"></div></div></div><footer class=\"dFxAgmmB\" role=\"contentinfo\"><div class=\"fuHjA5Zk\"><div class=\"E1ZIGmlN\"><a aria-label=\"Link to Forbes Homepage\" class=\"PxRSBPvA\" href=\"https://www.forbes.com/\"><svg class=\"forbes-logo_svg__fs-icon forbes-logo_svg__fs-icon--forbes-logo\" viewbox=\"0 0 200 54\" xmlns=\"http://www.w3.org/2000/svg\"><path d=\"M113.3 18.2c0-5.8.1-11.2.4-16.2L98.4 4.9v1.4l1.5.2c1.1.1 1.8.5 2.2 1.1.4.7.7 1.7.9 3.2.2 2.9.4 9.5.3 19.9 0 10.3-.1 16.8-.3 19.3 5.5 1.2 9.8 1.7 13 1.7 6 0 10.7-1.7 14.1-5.2 3.4-3.4 5.2-8.2 5.2-14.1 0-4.7-1.3-8.6-3.9-11.7-2.6-3.1-5.9-4.6-9.8-4.6-2.6 0-5.3.7-8.3 2.1zm.3 30.8c-.2-3.2-.4-12.8-.4-28.5.9-.3 2.1-.5 3.6-.5 2.4 0 4.3 1.2 5.7 3.7 1.4 2.5 2.1 5.5 2.1 9.3 0 4.7-.8 8.5-2.4 11.7-1.6 3.1-3.6 4.7-6.1 4.7-.8-.2-1.6-.3-2.5-.4zM41 3H1v2l2.1.2c1.6.3 2.7.9 3.4 1.8.7 1 1.1 2.6 1.2 4.8.8 10.8.8 20.9 0 30.2-.2 2.2-.6 3.8-1.2 4.8-.7 1-1.8 1.6-3.4 1.8l-2.1.3v2h25.8v-2l-2.7-.2c-1.6-.2-2.7-.9-3.4-1.8-.7-1-1.1-2.6-1.2-4.8-.3-4-.5-8.6-.5-13.7l5.4.1c2.9.1 4.9 2.3 5.9 6.7h2V18.9h-2c-1 4.3-2.9 6.5-5.9 6.6l-5.4.1c0-9 .2-15.4.5-19.3h7.9c5.6 0 9.4 3.6 11.6 10.8l2.4-.7L41 3zm-4.7 30.8c0 5.2 1.5 9.5 4.4 12.9 2.9 3.4 7.2 5 12.6 5s9.8-1.7 13-5.2c3.2-3.4 4.7-7.7 4.7-12.9s-1.5-9.5-4.4-12.9c-2.9-3.4-7.2-5-12.6-5s-9.8 1.7-13 5.2c-3.2 3.4-4.7 7.7-4.7 12.9zm22.3-11.4c1.2 2.9 1.7 6.7 1.7 11.3 0 10.6-2.2 15.8-6.5 15.8-2.2 0-3.9-1.5-5.1-4.5-1.2-3-1.7-6.8-1.7-11.3C47 23.2 49.2 18 53.5 18c2.2-.1 3.9 1.4 5.1 4.4zm84.5 24.3c3.3 3.3 7.5 5 12.5 5 3.1 0 5.8-.6 8.2-1.9 2.4-1.2 4.3-2.7 5.6-4.5l-1-1.2c-2.2 1.7-4.7 2.5-7.6 2.5-4 0-7.1-1.3-9.2-4-2.2-2.7-3.2-6.1-3-10.5H170c0-4.8-1.2-8.7-3.7-11.8-2.5-3-6-4.5-10.5-4.5-5.6 0-9.9 1.8-13 5.3-3.1 3.5-4.6 7.8-4.6 12.9 0 5.2 1.6 9.4 4.9 12.7zm7.4-25.1c1.1-2.4 2.5-3.6 4.4-3.6 3 0 4.5 3.8 4.5 11.5l-10.6.2c.1-3 .6-5.7 1.7-8.1zm46.4-4c-2.7-1.2-6.1-1.9-10.2-1.9-4.2 0-7.5 1.1-10 3.2s-3.8 4.7-3.8 7.8c0 2.7.8 4.8 2.3 6.3 1.5 1.5 3.9 2.8 7 3.9 2.8 1 4.8 2 5.8 2.9 1 1 1.6 2.1 1.6 3.6 0 1.4-.5 2.7-1.6 3.7-1 1.1-2.4 1.6-4.2 1.6-4.4 0-7.7-3.2-10-9.6l-1.7.5.4 10c3.6 1.4 7.6 2.1 12 2.1 4.6 0 8.1-1 10.7-3.1 2.6-2 3.9-4.9 3.9-8.5 0-2.4-.6-4.4-1.9-5.9-1.3-1.5-3.4-2.8-6.4-4-3.3-1.2-5.6-2.3-6.8-3.3-1.2-1-1.8-2.2-1.8-3.7s.4-2.7 1.3-3.7 2-1.4 3.4-1.4c4 0 6.9 2.9 8.7 8.6l1.7-.5-.4-8.6zm-96.2-.9c-1.4-.7-2.9-1-4.6-1-1.7 0-3.4.7-5.3 2.1-1.9 1.4-3.3 3.3-4.4 5.9l.1-8-15.2 3v1.4l1.5.1c1.9.2 3 1.7 3.2 4.4.6 6.2.6 12.8 0 19.8-.2 2.7-1.3 4.1-3.2 4.4l-1.5.2v1.9h21.2V49l-2.7-.2c-1.9-.2-3-1.7-3.2-4.4-.6-5.8-.7-12-.2-18.4.6-1 1.9-1.6 3.9-1.8 2-.2 4.3.4 6.7 1.8l3.7-9.3z\"></path></svg></a><div class=\"oWjKnG8J\">© 2024 Forbes Media LLC. All Rights Reserved.</div></div><ul class=\"PQBTz1QR\"><li class=\"_2eUBXdbq\"><a class=\"XJ-n-B-x\" href=\"https://www.forbes.com/consent/editprivacy/?consent_ad_choices=true\" rel=\"noopener noreferrer\" target=\"_blank\">AdChoices</a></li><li class=\"_2eUBXdbq\"><a class=\"XJ-n-B-x\" href=\"https://www.forbes.com/fdc/privacy.html\" target=\"_self\">Privacy Statement</a></li><li class=\"_2eUBXdbq\"><a class=\"XJ-n-B-x\" href=\"https://www.forbes.com/consent/editprivacy/?consent_do_not_sell=true\" rel=\"noopener noreferrer\" target=\"_blank\">Do Not Sell or Share My Personal Information</a></li><li class=\"_2eUBXdbq\"><a class=\"XJ-n-B-x\" href=\"https://www.forbes.com/consent/editprivacy/?consent_limit=true\" rel=\"noopener noreferrer\" target=\"_blank\">Limit the Use of My Sensitive Personal Information</a></li><li class=\"_2eUBXdbq\"><a class=\"XJ-n-B-x\" href=\"https://www.forbes.com/consent/editprivacy/?consent_all_preferences=true\" rel=\"noopener noreferrer\" target=\"_self\">Privacy Preferences</a></li><li class=\"_2eUBXdbq\"><a class=\"XJ-n-B-x\" href=\"https://www.forbes.com/digital-terms-of-sale\" rel=\"noopener noreferrer\" target=\"_self\">Digital Terms of Sale</a></li><li class=\"_2eUBXdbq\"><a class=\"XJ-n-B-x\" href=\"https://www.forbes.com/terms/\" rel=\"noopener noreferrer\" target=\"_self\">Terms of Service</a></li><li class=\"_2eUBXdbq\"><a class=\"XJ-n-B-x\" href=\"https://www.forbes.com/fdc/contact.html\" target=\"_self\">Contact Us</a></li><li class=\"_2eUBXdbq\"><a class=\"XJ-n-B-x\" href=\"mailto:feedback@forbes.com\">Send Us Feedback</a></li><li class=\"_2eUBXdbq\"><a class=\"XJ-n-B-x\" href=\"https://www.forbes.com/contact/\" rel=\"noopener noreferrer\" target=\"_self\">Report a Security Issue</a></li><li class=\"_2eUBXdbq\"><a class=\"XJ-n-B-x\" href=\"https://www.forbes.com/sites/careers-at-forbes/\" target=\"_self\">Jobs At Forbes</a></li><li class=\"_2eUBXdbq\"><a class=\"XJ-n-B-x\" href=\"http://forbesreprints.magreprints.com/\" rel=\"noopener noreferrer\" target=\"_blank\">Reprints &amp; Permissions</a></li><li class=\"_2eUBXdbq\"><a class=\"XJ-n-B-x\" href=\"https://www.forbes.com/sites/forbespr/\" target=\"_self\">Forbes Press Room</a></li><li class=\"_2eUBXdbq\"><a class=\"XJ-n-B-x\" href=\"http://www.forbesmedia.com/\" rel=\"noopener noreferrer\" target=\"_blank\">Advertise</a></li><li class=\"_2eUBXdbq\"><a class=\"XJ-n-B-x\" href=\"https://www.forbes.com/ir/\" target=\"_blank\">Investors</a></li></ul></div></footer></div><script crossorigin=\"\" id=\"__NEXT_DATA__\" type=\"application/json\">{\"props\":{\"pageProps\":{\"rootLayout\":\"HorizontalDefaultLayout\",\"pageLayout\":\"DefaultLayout\",\"menuConfig\":[{\"color\":\"centennial-silver\",\"position\":1,\"sections\":[{\"featuredImage\":\"\",\"featuredTitle\":\"\",\"paidContent\":\"\",\"sectionLink\":\"\",\"sectionSponsored\":\"\",\"sectionTitle\":\"World's Billionaires\",\"sectionUrl\":\"https://www.forbes.com/billionaires/\",\"sections\":[]},{\"featuredImage\":\"\",\"featuredTitle\":\"\",\"paidContent\":\"\",\"sectionLink\":\"\",\"sectionSponsored\":\"\",\"sectionTitle\":\"Forbes 400\",\"sectionUrl\":\"https://www.forbes.com/forbes-400/\",\"sections\":[]},{\"featuredImage\":\"\",\"featuredTitle\":\"\",\"paidContent\":\"\",\"sectionLink\":\"\",\"sectionSponsored\":\"\",\"sectionTitle\":\"America's Richest Self-Made Women\",\"sectionUrl\":\"https://www.forbes.com/self-made-women/\",\"sections\":[]},{\"featuredImage\":\"\",\"featuredTitle\":\"\",\"paidContent\":\"\",\"sectionLink\":\"\",\"sectionSponsored\":\"\",\"sectionTitle\":\"China's Richest\",\"sectionUrl\":\"https://www.forbes.com/china-billionaires/\",\"sections\":[]},{\"featuredImage\":\"\",\"featuredTitle\":\"\",\"paidContent\":\"\",\"sectionLink\":\"\",\"sectionSponsored\":\"\",\"sectionTitle\":\"India's Richest\",\"sectionUrl\":\"https://www.forbes.com/india-billionaires/\",\"sections\":[]},{\"featuredImage\":\"\",\"featuredTitle\":\"\",\"paidContent\":\"\",\"sectionLink\":\"\",\"sectionSponsored\":\"\",\"sectionTitle\":\"Indonesia's Richest\",\"sectionUrl\":\"https://www.forbes.com/indonesia-billionaires/\",\"sections\":[]},{\"featuredImage\":\"\",\"featuredTitle\":\"\",\"paidContent\":\"\",\"sectionLink\":\"\",\"sectionSponsored\":\"\",\"sectionTitle\":\"Korea's Richest\",\"sectionUrl\":\"https://www.forbes.com/korea-billionaires/list/\",\"sections\":[]},{\"featuredImage\":\"\",\"featuredTitle\":\"\",\"paidContent\":\"\",\"sectionLink\":\"\",\"sectionSponsored\":\"\",\"sectionTitle\":\"Thailand's Richest\",\"sectionUrl\":\"https://www.forbes.com/thailand-billionaires/list/ \",\"sections\":[]},{\"featuredImage\":\"\",\"featuredTitle\":\"\",\"paidContent\":\"\",\"sectionLink\":\"\",\"sectionSponsored\":\"\",\"sectionTitle\":\"Japan's Richest\",\"sectionUrl\":\"https://www.forbes.com/japan-billionaires/list/\",\"sections\":[]},{\"featuredImage\":\"\",\"featuredTitle\":\"\",\"paidContent\":\"\",\"sectionLink\":\"\",\"sectionSponsored\":\"\",\"sectionTitle\":\"Australia's Richest\",\"sectionUrl\":\"https://www.forbes.com/australia-billionaires/\",\"sections\":[]},{\"featuredImage\":\"\",\"featuredTitle\":\"\",\"paidContent\":\"\",\"sectionLink\":\"\",\"sectionSponsored\":\"\",\"sectionTitle\":\"Taiwan's Richest\",\"sectionUrl\":\"https://www.forbes.com/taiwan-billionaires/\",\"sections\":[]},{\"featuredImage\":\"\",\"featuredTitle\":\"\",\"paidContent\":\"\",\"sectionLink\":\"\",\"sectionSponsored\":\"\",\"sectionTitle\":\"Singapore's Richest\",\"sectionUrl\":\"https://www.forbes.com/singapore-billionaires/\",\"sections\":[]},{\"featuredImage\":\"\",\"featuredTitle\":\"\",\"paidContent\":\"\",\"sectionLink\":\"\",\"sectionSponsored\":\"\",\"sectionTitle\":\"Philippines' Richest\",\"sectionUrl\":\"https://www.forbes.com/philippines-billionaires/\",\"sections\":[]},{\"featuredImage\":\"\",\"featuredTitle\":\"\",\"paidContent\":\"\",\"sectionLink\":\"\",\"sectionSponsored\":\"\",\"sectionTitle\":\"Hong Kong's Richest\",\"sectionUrl\":\"https://www.forbes.com/hong-kong-billionaires/\",\"sections\":[]},{\"featuredImage\":\"\",\"featuredTitle\":\"\",\"paidContent\":\"\",\"sectionLink\":\"\",\"sectionSponsored\":\"\",\"sectionTitle\":\"Malaysia's Richest\",\"sectionUrl\":\"https://www.forbes.com/malaysia-billionaires/\",\"sections\":[]},{\"featuredImage\":\"\",\"featuredTitle\":\"\",\"paidContent\":\"\",\"sectionLink\":\"\",\"sectionSponsored\":\"\",\"sectionTitle\":\"Money \\u0026 Politics \",\"sectionUrl\":\"https://www.forbes.com/money-politics/\",\"sections\":[]},{\"featuredImage\":\"\",\"featuredTitle\":\"\",\"paidContent\":\"\",\"sectionLink\":\"\",\"sectionSponsored\":\"\",\"sectionTitle\":\"2024 Election\",\"sectionUrl\":\"https://www.forbes.com/2024-election/\",\"sections\":[]}],\"title\":\"Billionaires\",\"url\":\"https://www.forbes.com/worlds-billionaires/\"},{\"color\":\"diamondring-blue\",\"position\":2,\"sections\":[{\"featuredImage\":\"\",\"featuredTitle\":\"\",\"paidContent\":\"\",\"sectionLink\":\"\",\"sectionSponsored\":\"\",\"sectionTitle\":\"AI\",\"sectionUrl\":\"https://www.forbes.com/ai/\",\"sections\":[]},{\"featuredImage\":\"\",\"featuredTitle\":\"\",\"paidContent\":\"\",\"sectionLink\":\"\",\"sectionSponsored\":\"\",\"sectionTitle\":\"Big Data\",\"sectionUrl\":\"https://www.forbes.com/big-data/\",\"sections\":[]},{\"featuredImage\":\"\",\"featuredTitle\":\"\",\"paidContent\":\"\",\"sectionLink\":\"\",\"sectionSponsored\":\"\",\"sectionTitle\":\"Cloud\",\"sectionUrl\":\"https://www.forbes.com/cloud/\",\"sections\":[]},{\"featuredImage\":\"\",\"featuredTitle\":\"\",\"paidContent\":\"\",\"sectionLink\":\"\",\"sectionSponsored\":\"\",\"sectionTitle\":\"Cloud 100\",\"sectionUrl\":\"https://www.forbes.com/cloud100/\",\"sections\":[]},{\"featuredImage\":\"\",\"featuredTitle\":\"\",\"paidContent\":\"\",\"sectionLink\":\"\",\"sectionSponsored\":\"\",\"sectionTitle\":\"Consumer Tech\",\"sectionUrl\":\"https://www.forbes.com/consumer-tech/\",\"sections\":[]},{\"featuredImage\":\"\",\"featuredTitle\":\"\",\"paidContent\":\"\",\"sectionLink\":\"\",\"sectionSponsored\":\"\",\"sectionTitle\":\"Creator Economy\",\"sectionUrl\":\"https://www.forbes.com/creator-economy/\",\"sections\":[]},{\"featuredImage\":\"\",\"featuredTitle\":\"\",\"paidContent\":\"\",\"sectionLink\":\"\",\"sectionSponsored\":\"\",\"sectionTitle\":\"Cybersecurity\",\"sectionUrl\":\"https://www.forbes.com/cybersecurity/\",\"sections\":[]},{\"featuredImage\":\"\",\"featuredTitle\":\"\",\"paidContent\":\"\",\"sectionLink\":\"\",\"sectionSponsored\":\"\",\"sectionTitle\":\"Digital Transformation\",\"sectionUrl\":\"https://www.forbes.com/digital-transformation/\",\"sections\":[]},{\"featuredImage\":\"\",\"featuredTitle\":\"\",\"paidContent\":\"\",\"sectionLink\":\"\",\"sectionSponsored\":\"\",\"sectionTitle\":\"Enterprise Tech\",\"sectionUrl\":\"https://www.forbes.com/enterprise-tech/\",\"sections\":[]},{\"featuredImage\":\"\",\"featuredTitle\":\"\",\"paidContent\":\"\",\"sectionLink\":\"\",\"sectionSponsored\":\"\",\"sectionTitle\":\"Future Of Work\",\"sectionUrl\":\"https://www.forbes.com/future-of-work\",\"sections\":[]},{\"featuredImage\":\"\",\"featuredTitle\":\"\",\"paidContent\":\"\",\"sectionLink\":\"\",\"sectionSponsored\":\"\",\"sectionTitle\":\"Games\",\"sectionUrl\":\"https://www.forbes.com/games/\",\"sections\":[]},{\"featuredImage\":\"\",\"featuredTitle\":\"\",\"paidContent\":\"\",\"sectionLink\":\"\",\"sectionSponsored\":\"\",\"sectionTitle\":\"Healthcare\",\"sectionUrl\":\"https://www.forbes.com/healthcare\",\"sections\":[]},{\"featuredImage\":\"\",\"featuredTitle\":\"\",\"paidContent\":\"\",\"sectionLink\":\"\",\"sectionSponsored\":\"\",\"sectionTitle\":\"Innovation Rules\",\"sectionUrl\":\"https://www.forbes.com/innovation-rules\",\"sections\":[]},{\"featuredImage\":\"\",\"featuredTitle\":\"\",\"paidContent\":\" | Paid Program\",\"sectionLink\":\"\",\"sectionSponsored\":\"\",\"sectionTitle\":\"SAP BrandVoice\",\"sectionUrl\":\"https://www.forbes.com/sites/sap/\",\"sections\":[]},{\"featuredImage\":\"\",\"featuredTitle\":\"\",\"paidContent\":\"\",\"sectionLink\":\"\",\"sectionSponsored\":\"\",\"sectionTitle\":\"Science\",\"sectionUrl\":\"https://www.forbes.com/science/\",\"sections\":[]},{\"featuredImage\":\"\",\"featuredTitle\":\"\",\"paidContent\":\"\",\"sectionLink\":\"\",\"sectionSponsored\":\"\",\"sectionTitle\":\"Social Media\",\"sectionUrl\":\"https://www.forbes.com/social-media/\",\"sections\":[]},{\"featuredImage\":\"\",\"featuredTitle\":\"\",\"paidContent\":\"\",\"sectionLink\":\"\",\"sectionSponsored\":\"\",\"sectionTitle\":\"Sustainability \\u0026 Climate\",\"sectionUrl\":\"https://www.forbes.com/sustainability/\",\"sections\":[]},{\"featuredImage\":\"\",\"featuredTitle\":\"\",\"paidContent\":\"\",\"sectionLink\":\"\",\"sectionSponsored\":\"\",\"sectionTitle\":\"Transportation\",\"sectionUrl\":\"https://www.forbes.com/transportation/\",\"sections\":[]},{\"featuredImage\":\"\",\"featuredTitle\":\"\",\"paidContent\":\"\",\"sectionLink\":\"\",\"sectionSponsored\":\"\",\"sectionTitle\":\"Venture Capital\",\"sectionUrl\":\"https://www.forbes.com/venture-capital/\",\"sections\":[]},{\"featuredImage\":\"\",\"featuredTitle\":\"\",\"paidContent\":\"\",\"sectionLink\":\"\",\"sectionSponsored\":\"\",\"sectionTitle\":\"Technology\",\"sectionUrl\":\"https://www.forbes.com/sites/technology/\",\"sections\":[]}],\"title\":\"Innovation\",\"url\":\"https://www.forbes.com/innovation/\"},{\"color\":\"fortknox-gold\",\"position\":3,\"sections\":[{\"featuredImage\":\"\",\"featuredTitle\":\"\",\"paidContent\":\"\",\"sectionLink\":\"\",\"sectionSponsored\":\"\",\"sectionTitle\":\"Careers\",\"sectionUrl\":\"https://www.forbes.com/careers/\",\"sections\":[]},{\"featuredImage\":\"\",\"featuredTitle\":\"\",\"paidContent\":\"\",\"sectionLink\":\"\",\"sectionSponsored\":\"\",\"sectionTitle\":\"CEO Network\",\"sectionUrl\":\"https://www.forbes.com/ceo-network\",\"sections\":[]},{\"featuredImage\":\"\",\"featuredTitle\":\"\",\"paidContent\":\"\",\"sectionLink\":\"\",\"sectionSponsored\":\"\",\"sectionTitle\":\"CFO Network\",\"sectionUrl\":\"https://www.forbes.com/cfo-network/\",\"sections\":[]},{\"featuredImage\":\"\",\"featuredTitle\":\"\",\"paidContent\":\"\",\"sectionLink\":\"\",\"sectionSponsored\":\"\",\"sectionTitle\":\"CHRO Network\",\"sectionUrl\":\"https://www.forbes.com/chro-network/\",\"sections\":[]},{\"featuredImage\":\"\",\"featuredTitle\":\"\",\"paidContent\":\"\",\"sectionLink\":\"\",\"sectionSponsored\":\"\",\"sectionTitle\":\"CIO Network\",\"sectionUrl\":\"https://www.forbes.com/cio-network/\",\"sections\":[]},{\"featuredImage\":\"\",\"featuredTitle\":\"\",\"paidContent\":\"\",\"sectionLink\":\"\",\"sectionSponsored\":\"\",\"sectionTitle\":\"CMO Network\",\"sectionUrl\":\"https://www.forbes.com/cmo-network/\",\"sections\":[]},{\"featuredImage\":\"\",\"featuredTitle\":\"\",\"paidContent\":\"\",\"sectionLink\":\"\",\"sectionSponsored\":\"\",\"sectionTitle\":\"CxO\",\"sectionUrl\":\"https://www.forbes.com/cxo\",\"sections\":[]},{\"featuredImage\":\"\",\"featuredTitle\":\"\",\"paidContent\":\" | Paid Program\",\"sectionLink\":\"\",\"sectionSponsored\":\"\",\"sectionTitle\":\"Dell Technologies BrandVoice\",\"sectionUrl\":\"https://www.forbes.com/sites/delltechnologies/?sh=6701342d3094\",\"sections\":[]},{\"featuredImage\":\"\",\"featuredTitle\":\"\",\"paidContent\":\" | Paid Program\",\"sectionLink\":\"\",\"sectionSponsored\":\"\",\"sectionTitle\":\"Deloitte BrandVoice\",\"sectionUrl\":\"https://www.forbes.com/sites/deloitte/?sh=3d55647a7953\",\"sections\":[]},{\"featuredImage\":\"\",\"featuredTitle\":\"\",\"paidContent\":\"\",\"sectionLink\":\"\",\"sectionSponsored\":\"\",\"sectionTitle\":\"Diversity, Equity \\u0026 Inclusion\",\"sectionUrl\":\"https://www.forbes.com/diversity-inclusion/\",\"sections\":[]},{\"featuredImage\":\"\",\"featuredTitle\":\"\",\"paidContent\":\"\",\"sectionLink\":\"\",\"sectionSponsored\":\"\",\"sectionTitle\":\"Education\",\"sectionUrl\":\"https://www.forbes.com/education/\",\"sections\":[]},{\"featuredImage\":\"\",\"featuredTitle\":\"\",\"paidContent\":\" | Paid Program\",\"sectionLink\":\"\",\"sectionSponsored\":\"\",\"sectionTitle\":\"Forbes EQ\",\"sectionUrl\":\"https://www.forbes.com/sites/forbeseq\",\"sections\":[]},{\"featuredImage\":\"\",\"featuredTitle\":\"\",\"paidContent\":\"\",\"sectionLink\":\"\",\"sectionSponsored\":\"\",\"sectionTitle\":\"ForbesBLK\",\"sectionUrl\":\"https://www.forbes.com/blk-leadership/\",\"sections\":[]},{\"featuredImage\":\"\",\"featuredTitle\":\"\",\"paidContent\":\"\",\"sectionLink\":\"\",\"sectionSponsored\":\"\",\"sectionTitle\":\"ForbesWomen\",\"sectionUrl\":\"https://www.forbes.com/women-at-forbes/\",\"sections\":[]},{\"featuredImage\":\"\",\"featuredTitle\":\"\",\"paidContent\":\"\",\"sectionLink\":\"\",\"sectionSponsored\":\"\",\"sectionTitle\":\"Leadership Strategy\",\"sectionUrl\":\"https://www.forbes.com/leadership-strategy/\",\"sections\":[]},{\"featuredImage\":\"\",\"featuredTitle\":\"\",\"paidContent\":\"\",\"sectionLink\":\"\",\"sectionSponsored\":\"\",\"sectionTitle\":\"Under 30\",\"sectionUrl\":\"https://www.forbes.com/under30/\",\"sections\":[]},{\"featuredImage\":\"\",\"featuredTitle\":\"\",\"paidContent\":\"\",\"sectionLink\":\"\",\"sectionSponsored\":\"\",\"sectionTitle\":\"Working Remote\",\"sectionUrl\":\"https://www.forbes.com/working-remote/\",\"sections\":[]},{\"featuredImage\":\"\",\"featuredTitle\":\"\",\"paidContent\":\"\",\"sectionLink\":\"\",\"sectionSponsored\":\"\",\"sectionTitle\":\"Over 50\",\"sectionUrl\":\"https://www.forbes.com/over-50/\",\"sections\":[]}],\"title\":\"Leadership\",\"url\":\"https://www.forbes.com/leadership/\"},{\"color\":\"benjamins-green\",\"position\":4,\"sections\":[{\"featuredImage\":\"\",\"featuredTitle\":\"\",\"paidContent\":\"\",\"sectionLink\":\"\",\"sectionSponsored\":\"\",\"sectionTitle\":\"Banking \\u0026 Insurance\",\"sectionUrl\":\"https://www.forbes.com/banking-insurance/\",\"sections\":[]},{\"featuredImage\":\"\",\"featuredTitle\":\"\",\"paidContent\":\"\",\"sectionLink\":\"\",\"sectionSponsored\":\"\",\"sectionTitle\":\"ETFs \\u0026 Mutual Funds\",\"sectionUrl\":\"https://www.forbes.com/etfs-mutual-funds/\",\"sections\":[]},{\"featuredImage\":\"\",\"featuredTitle\":\"\",\"paidContent\":\"\",\"sectionLink\":\"\",\"sectionSponsored\":\"\",\"sectionTitle\":\"Fintech\",\"sectionUrl\":\"https://www.forbes.com/fintech/\",\"sections\":[]},{\"featuredImage\":\"\",\"featuredTitle\":\"\",\"paidContent\":\"\",\"sectionLink\":\"\",\"sectionSponsored\":\"\",\"sectionTitle\":\"Hedge Funds \\u0026 Private Equity\",\"sectionUrl\":\"https://www.forbes.com/hedge-funds-private-equity/\",\"sections\":[]},{\"featuredImage\":\"\",\"featuredTitle\":\"\",\"paidContent\":\"\",\"sectionLink\":\"\",\"sectionSponsored\":\"\",\"sectionTitle\":\"Investing\",\"sectionUrl\":\"https://www.forbes.com/investing/\",\"sections\":[]},{\"featuredImage\":\"\",\"featuredTitle\":\"\",\"paidContent\":\"\",\"sectionLink\":\"\",\"sectionSponsored\":\"\",\"sectionTitle\":\"Investor Hub\",\"sectionUrl\":\"https://www.forbes.com/sites/investor-hub/\",\"sections\":[]},{\"featuredImage\":\"\",\"featuredTitle\":\"\",\"paidContent\":\"\",\"sectionLink\":\"\",\"sectionSponsored\":\"\",\"sectionTitle\":\"Markets\",\"sectionUrl\":\"https://www.forbes.com/markets/\",\"sections\":[]},{\"featuredImage\":\"\",\"featuredTitle\":\"\",\"paidContent\":\"\",\"sectionLink\":\"\",\"sectionSponsored\":\"\",\"sectionTitle\":\"Personal Finance\",\"sectionUrl\":\"https://www.forbes.com/personal-finance/\",\"sections\":[]},{\"featuredImage\":\"\",\"featuredTitle\":\"\",\"paidContent\":\"\",\"sectionLink\":\"\",\"sectionSponsored\":\"\",\"sectionTitle\":\"Premium Investing Newsletters\",\"sectionUrl\":\"https://www.forbes.com/newsletters/\",\"sections\":[]},{\"featuredImage\":\"\",\"featuredTitle\":\"\",\"paidContent\":\"\",\"sectionLink\":\"\",\"sectionSponsored\":\"\",\"sectionTitle\":\"Retirement\",\"sectionUrl\":\"https://www.forbes.com/retirement/\",\"sections\":[]},{\"featuredImage\":\"\",\"featuredTitle\":\"\",\"paidContent\":\"\",\"sectionLink\":\"\",\"sectionSponsored\":\"\",\"sectionTitle\":\"Taxes\",\"sectionUrl\":\"https://www.forbes.com/taxes/\",\"sections\":[]},{\"featuredImage\":\"\",\"featuredTitle\":\"\",\"paidContent\":\"\",\"sectionLink\":\"\",\"sectionSponsored\":\"\",\"sectionTitle\":\"Top Advisor | SHOOK\",\"sectionUrl\":\"https://www.forbes.com/top-advisor-shook/ \",\"sections\":[]},{\"featuredImage\":\"\",\"featuredTitle\":\"\",\"paidContent\":\"\",\"sectionLink\":\"\",\"sectionSponsored\":\"\",\"sectionTitle\":\"Wealth Management\",\"sectionUrl\":\"https://www.forbes.com/wealth-management/ \",\"sections\":[]}],\"title\":\"Money\",\"url\":\"https://www.forbes.com/money/\"},{\"position\":5,\"sections\":[{\"featuredImage\":\"\",\"featuredTitle\":\"\",\"paidContent\":\"\",\"sectionLink\":\"\",\"sectionSponsored\":\"\",\"sectionTitle\":\"Home\",\"sectionUrl\":\"https://www.forbes.com/digital-assets/\",\"sections\":[]},{\"featuredImage\":\"\",\"featuredTitle\":\"\",\"paidContent\":\"\",\"sectionLink\":\"\",\"sectionSponsored\":\"\",\"sectionTitle\":\"Web3 Community\",\"sectionUrl\":\"https://www.forbes.com/digital-assets/community/\",\"sections\":[]},{\"featuredImage\":\"\",\"featuredTitle\":\"\",\"paidContent\":\"\",\"sectionLink\":\"\",\"sectionSponsored\":\"\",\"sectionTitle\":\"News\",\"sectionUrl\":\"https://www.forbes.com/digital-assets/news/\",\"sections\":[]},{\"featuredImage\":\"\",\"featuredTitle\":\"\",\"paidContent\":\"\",\"sectionLink\":\"\",\"sectionSponsored\":\"\",\"sectionTitle\":\"Crypto Prices\",\"sectionUrl\":\"https://www.forbes.com/digital-assets/crypto-prices/\",\"sections\":[]},{\"featuredImage\":\"\",\"featuredTitle\":\"\",\"paidContent\":\"\",\"sectionLink\":\"\",\"sectionSponsored\":\"\",\"sectionTitle\":\"NFTs\",\"sectionUrl\":\"https://www.forbes.com/digital-assets/nft-prices/\",\"sections\":[]},{\"featuredImage\":\"\",\"featuredTitle\":\"\",\"paidContent\":\"\",\"sectionLink\":\"\",\"sectionSponsored\":\"\",\"sectionTitle\":\"Research\",\"sectionUrl\":\"https://www.forbes.com/digital-assets/research/\",\"sections\":[]},{\"featuredImage\":\"\",\"featuredTitle\":\"\",\"paidContent\":\"\",\"sectionLink\":\"\",\"sectionSponsored\":\"\",\"sectionTitle\":\"Learn\",\"sectionUrl\":\"https://www.forbes.com/digital-assets/learn/\",\"sections\":[{\"featuredImage\":\"\",\"featuredTitle\":\"\",\"paidContent\":\"\",\"sectionLink\":\"\",\"sectionSponsored\":\"\",\"sectionTitle\":\"Crypto Basics\",\"sectionUrl\":\"https://www.forbes.com/digital-assets/learn/crypto-basics/\"},{\"featuredImage\":\"\",\"featuredTitle\":\"\",\"paidContent\":\"\",\"sectionLink\":\"\",\"sectionSponsored\":\"\",\"sectionTitle\":\"BTC\",\"sectionUrl\":\"https://www.forbes.com/digital-assets/learn/btc/\"},{\"featuredImage\":\"\",\"featuredTitle\":\"\",\"paidContent\":\"\",\"sectionLink\":\"\",\"sectionSponsored\":\"\",\"sectionTitle\":\"DeFi\",\"sectionUrl\":\"https://www.forbes.com/digital-assets/learn/defi/\"},{\"featuredImage\":\"\",\"featuredTitle\":\"\",\"paidContent\":\"\",\"sectionLink\":\"\",\"sectionSponsored\":\"\",\"sectionTitle\":\"Web3 Education\",\"sectionUrl\":\"https://www.forbes.com/digital-assets/learn/web3-education/\"},{\"featuredImage\":\"\",\"featuredTitle\":\"\",\"paidContent\":\"\",\"sectionLink\":\"\",\"sectionSponsored\":\"\",\"sectionTitle\":\"NFTs\",\"sectionUrl\":\"https://www.forbes.com/digital-assets/learn/nfts/\"},{\"featuredImage\":\"\",\"featuredTitle\":\"\",\"paidContent\":\"\",\"sectionLink\":\"\",\"sectionSponsored\":\"\",\"sectionTitle\":\"Crypto Investments\",\"sectionUrl\":\"https://www.forbes.com/digital-assets/learn/crypto-investments/\"}]},{\"featuredImage\":\"\",\"featuredTitle\":\"\",\"paidContent\":\"\",\"sectionLink\":\"\",\"sectionSponsored\":\"\",\"sectionTitle\":\"Events\",\"sectionUrl\":\"https://www.forbes.com/digital-assets/events/\",\"sections\":[]},{\"featuredImage\":\"\",\"featuredTitle\":\"\",\"paidContent\":\"\",\"sectionLink\":\"\",\"sectionSponsored\":\"\",\"sectionTitle\":\"Crypto Portfolios\",\"sectionUrl\":\"https://www.forbes.com/digital-assets/crypto-advisor-portfolio/\",\"sections\":[]}],\"title\":\"Forbes Digital Assets\",\"url\":\"https://www.forbes.com/digital-assets/\"},{\"position\":6,\"sections\":[],\"title\":\"Investment Newsletters\",\"url\":\"https://www.forbes.com/newsletters/\"},{\"color\":\"capitalist-teal\",\"position\":7,\"sections\":[{\"featuredImage\":\"\",\"featuredTitle\":\"\",\"paidContent\":\"\",\"sectionLink\":\"\",\"sectionSponsored\":\"\",\"sectionTitle\":\"Aerospace \\u0026 Defense\",\"sectionUrl\":\"https://www.forbes.com/aerospace-defense/\",\"sections\":[]},{\"featuredImage\":\"\",\"featuredTitle\":\"\",\"paidContent\":\"\",\"sectionLink\":\"\",\"sectionSponsored\":\"\",\"sectionTitle\":\"Energy\",\"sectionUrl\":\"https://www.forbes.com/energy/\",\"sections\":[]},{\"featuredImage\":\"\",\"featuredTitle\":\"\",\"paidContent\":\"\",\"sectionLink\":\"\",\"sectionSponsored\":\"\",\"sectionTitle\":\"Food \\u0026 Drink\",\"sectionUrl\":\"https://www.forbes.com/food-drink/\",\"sections\":[]},{\"featuredImage\":\"\",\"featuredTitle\":\"\",\"paidContent\":\"\",\"sectionLink\":\"\",\"sectionSponsored\":\"\",\"sectionTitle\":\"Hollywood \\u0026 Entertainment\",\"sectionUrl\":\"https://www.forbes.com/hollywood-entertainment/\",\"sections\":[]},{\"featuredImage\":\"\",\"featuredTitle\":\"\",\"paidContent\":\"\",\"sectionLink\":\"\",\"sectionSponsored\":\"\",\"sectionTitle\":\"Law\",\"sectionUrl\":\"https://www.forbes.com/law/\",\"sections\":[]},{\"featuredImage\":\"\",\"featuredTitle\":\"\",\"paidContent\":\"\",\"sectionLink\":\"\",\"sectionSponsored\":\"\",\"sectionTitle\":\"Manufacturing\",\"sectionUrl\":\"https://www.forbes.com/manufacturing/\",\"sections\":[]},{\"featuredImage\":\"\",\"featuredTitle\":\"\",\"paidContent\":\"\",\"sectionLink\":\"\",\"sectionSponsored\":\"\",\"sectionTitle\":\"Media\",\"sectionUrl\":\"https://www.forbes.com/media/\",\"sections\":[]},{\"featuredImage\":\"\",\"featuredTitle\":\"\",\"paidContent\":\"\",\"sectionLink\":\"\",\"sectionSponsored\":\"\",\"sectionTitle\":\"Policy\",\"sectionUrl\":\"https://www.forbes.com/policy/\",\"sections\":[]},{\"featuredImage\":\"\",\"featuredTitle\":\"\",\"paidContent\":\"\",\"sectionLink\":\"\",\"sectionSponsored\":\"\",\"sectionTitle\":\"Retail\",\"sectionUrl\":\"https://www.forbes.com/retail/\",\"sections\":[]},{\"featuredImage\":\"\",\"featuredTitle\":\"\",\"paidContent\":\"\",\"sectionLink\":\"\",\"sectionSponsored\":\"\",\"sectionTitle\":\"SportsMoney\",\"sectionUrl\":\"https://www.forbes.com/sportsmoney/\",\"sections\":[]},{\"featuredImage\":\"\",\"featuredTitle\":\"\",\"paidContent\":\"\",\"sectionLink\":\"\",\"sectionSponsored\":\"\",\"sectionTitle\":\"Entertainment Digest\",\"sectionUrl\":\"https://www.forbes.com/sites/entertainment/\",\"sections\":[]}],\"title\":\"Business\",\"url\":\"https://www.forbes.com/business/\"},{\"color\":\"statuesque-bronze\",\"position\":8,\"sections\":[{\"featuredImage\":\"\",\"featuredTitle\":\"\",\"paidContent\":\"\",\"sectionLink\":\"\",\"sectionSponsored\":\"\",\"sectionTitle\":\"Entrepreneurs\",\"sectionUrl\":\"https://www.forbes.com/entrepreneurs/\",\"sections\":[]},{\"featuredImage\":\"\",\"featuredTitle\":\"\",\"paidContent\":\"\",\"sectionLink\":\"\",\"sectionSponsored\":\"\",\"sectionTitle\":\"Franchises\",\"sectionUrl\":\"https://www.forbes.com/franchises/\",\"sections\":[]},{\"featuredImage\":\"\",\"featuredTitle\":\"\",\"paidContent\":\"\",\"sectionLink\":\"\",\"sectionSponsored\":\"\",\"sectionTitle\":\"Small Business Strategy\",\"sectionUrl\":\"https://www.forbes.com/small-business-strategy/\",\"sections\":[]}],\"title\":\"Small Business\",\"url\":\"https://www.forbes.com/small-business/\"},{\"color\":\"merlot-burgundy\",\"position\":9,\"sections\":[{\"featuredImage\":\"\",\"featuredTitle\":\"\",\"paidContent\":\"\",\"sectionLink\":\"\",\"sectionSponsored\":\"\",\"sectionTitle\":\"Arts\",\"sectionUrl\":\"https://www.forbes.com/arts/\",\"sections\":[]},{\"featuredImage\":\"\",\"featuredTitle\":\"\",\"paidContent\":\"\",\"sectionLink\":\"\",\"sectionSponsored\":\"\",\"sectionTitle\":\"Boats \\u0026 Planes\",\"sectionUrl\":\"https://www.forbes.com/boats-planes/\",\"sections\":[]},{\"featuredImage\":\"\",\"featuredTitle\":\"\",\"paidContent\":\"\",\"sectionLink\":\"\",\"sectionSponsored\":\"\",\"sectionTitle\":\"Cars \\u0026 Bikes\",\"sectionUrl\":\"https://www.forbes.com/cars-bikes/\",\"sections\":[]},{\"featuredImage\":\"\",\"featuredTitle\":\"\",\"paidContent\":\"\",\"sectionLink\":\"\",\"sectionSponsored\":\"\",\"sectionTitle\":\"Dining\",\"sectionUrl\":\"https://www.forbes.com/dining/\",\"sections\":[]},{\"featuredImage\":\"\",\"featuredTitle\":\"\",\"paidContent\":\"\",\"sectionLink\":\"\",\"sectionSponsored\":\"\",\"sectionTitle\":\"ForbesLife\",\"sectionUrl\":\"https://www.forbes.com/forbeslife/\",\"sections\":[]},{\"featuredImage\":\"\",\"featuredTitle\":\"\",\"paidContent\":\"\",\"sectionLink\":\"\",\"sectionSponsored\":\"\",\"sectionTitle\":\"Forbes Travel Guide\",\"sectionUrl\":\"https://www.forbes.com/forbes-travel-guide/\",\"sections\":[]},{\"featuredImage\":\"\",\"featuredTitle\":\"\",\"paidContent\":\"\",\"sectionLink\":\"\",\"sectionSponsored\":\"\",\"sectionTitle\":\"Spirits\",\"sectionUrl\":\"https://www.forbes.com/spirits/\",\"sections\":[]},{\"featuredImage\":\"\",\"featuredTitle\":\"\",\"paidContent\":\"\",\"sectionLink\":\"\",\"sectionSponsored\":\"\",\"sectionTitle\":\"Style \\u0026 Beauty\",\"sectionUrl\":\"https://www.forbes.com/style-beauty/\",\"sections\":[]},{\"featuredImage\":\"\",\"featuredTitle\":\"\",\"paidContent\":\"\",\"sectionLink\":\"\",\"sectionSponsored\":\"\",\"sectionTitle\":\"Travel\",\"sectionUrl\":\"https://www.forbes.com/travel/\",\"sections\":[]},{\"featuredImage\":\"\",\"featuredTitle\":\"\",\"paidContent\":\"\",\"sectionLink\":\"\",\"sectionSponsored\":\"\",\"sectionTitle\":\"Vices\",\"sectionUrl\":\"https://www.forbes.com/vices/\",\"sections\":[]},{\"featuredImage\":\"\",\"featuredTitle\":\"\",\"paidContent\":\"\",\"sectionLink\":\"\",\"sectionSponsored\":\"\",\"sectionTitle\":\"Watches\",\"sectionUrl\":\"https://www.forbes.com/watches-jewelry/\",\"sections\":[]}],\"title\":\"Lifestyle\",\"url\":\"https://www.forbes.com/lifestyle/\"},{\"position\":10,\"sections\":[{\"featuredImage\":\"\",\"featuredTitle\":\"\",\"paidContent\":\"\",\"sectionLink\":\"\",\"sectionSponsored\":\"\",\"sectionTitle\":\"Commercial Real Estate\",\"sectionUrl\":\"https://www.forbes.com/commercial-real-estate\",\"sections\":[]},{\"featuredImage\":\"\",\"featuredTitle\":\"\",\"paidContent\":\"\",\"sectionLink\":\"\",\"sectionSponsored\":\"\",\"sectionTitle\":\"Forbes Global Properties\",\"sectionUrl\":\"https://www.forbes.com/forbes-global-properties\",\"sections\":[]},{\"featuredImage\":\"\",\"featuredTitle\":\"\",\"paidContent\":\"\",\"sectionLink\":\"\",\"sectionSponsored\":\"\",\"sectionTitle\":\"Residential Real Estate\",\"sectionUrl\":\"https://www.forbes.com/residential-real-estate\",\"sections\":[]}],\"title\":\"Real Estate\",\"url\":\"https://www.forbes.com/real-estate\"},{\"position\":11,\"sections\":[{\"featuredImage\":\"\",\"featuredTitle\":\"\",\"paidContent\":\"\",\"sectionLink\":\"\",\"sectionSponsored\":\"\",\"sectionTitle\":\"U30 Collection\",\"sectionUrl\":\"https://www.store.forbes.com/pages/30u30?utm_medium=display\\u0026utm_source=Forbes\\u0026utm_campaign=Overall\\u0026utm_content=sidenav-u30\",\"sections\":[]},{\"featuredImage\":\"\",\"featuredTitle\":\"\",\"paidContent\":\"\",\"sectionLink\":\"\",\"sectionSponsored\":\"\",\"sectionTitle\":\"ForbesWomen Collection\",\"sectionUrl\":\"https://www.store.forbes.com/pages/forbeswomen?utm_medium=display\\u0026utm_source=Forbes\\u0026utm_campaign=Overall\\u0026utm_content=sidenav-forbeswomen\",\"sections\":[]},{\"featuredImage\":\"\",\"featuredTitle\":\"\",\"paidContent\":\"\",\"sectionLink\":\"\",\"sectionSponsored\":\"\",\"sectionTitle\":\"Core Collection\",\"sectionUrl\":\"https://www.store.forbes.com/collections/core-collection?utm_medium=display\\u0026utm_source=Forbes\\u0026utm_campaign=Overall\\u0026utm_content=sidenav-core\",\"sections\":[]}],\"title\":\"Forbes Store\",\"url\":\"https://store.forbes.com/?utm_medium=display\\u0026utm_source=Forbes\\u0026utm_campaign=Overall\\u0026utm_content=sidenav-home\"},{\"color\":\"shopping-salmon\",\"position\":12,\"sections\":[{\"featuredImage\":\"\",\"featuredTitle\":\"\",\"paidContent\":\"\",\"sectionLink\":\"\",\"sectionSponsored\":\"\",\"sectionTitle\":\"Mattress \\u0026 Sleep\",\"sectionUrl\":\"https://www.forbes.com/vetted/mattress-sleep/\",\"sections\":[{\"featuredImage\":\"\",\"featuredTitle\":\"\",\"paidContent\":\"\",\"sectionLink\":\"\",\"sectionSponsored\":\"\",\"sectionTitle\":\"Bed Frames\",\"sectionUrl\":\"https://www.forbes.com/vetted/mattress-sleep/bed-frames/\"},{\"featuredImage\":\"\",\"featuredTitle\":\"\",\"paidContent\":\"\",\"sectionLink\":\"\",\"sectionSponsored\":\"\",\"sectionTitle\":\"Mattresses\",\"sectionUrl\":\"https://www.forbes.com/vetted/mattress-sleep/mattresses/\"},{\"featuredImage\":\"\",\"featuredTitle\":\"\",\"paidContent\":\"\",\"sectionLink\":\"\",\"sectionSponsored\":\"\",\"sectionTitle\":\"Mattress Toppers\",\"sectionUrl\":\"https://www.forbes.com/vetted/mattress-sleep/mattress-toppers/\"},{\"featuredImage\":\"\",\"featuredTitle\":\"\",\"paidContent\":\"\",\"sectionLink\":\"\",\"sectionSponsored\":\"\",\"sectionTitle\":\"Pillows\",\"sectionUrl\":\"https://www.forbes.com/vetted/mattress-sleep/pillows/\"},{\"featuredImage\":\"\",\"featuredTitle\":\"\",\"paidContent\":\"\",\"sectionLink\":\"\",\"sectionSponsored\":\"\",\"sectionTitle\":\"Sheets \\u0026 Bedding\",\"sectionUrl\":\"https://www.forbes.com/vetted/mattress-sleep/sheets-bedding/\"},{\"featuredImage\":\"\",\"featuredTitle\":\"\",\"paidContent\":\"\",\"sectionLink\":\"\",\"sectionSponsored\":\"\",\"sectionTitle\":\"Sleep Products\",\"sectionUrl\":\"https://www.forbes.com/vetted/mattress-sleep/sleep-products/\"}]},{\"featuredImage\":\"\",\"featuredTitle\":\"\",\"paidContent\":\"\",\"sectionLink\":\"\",\"sectionSponsored\":\"\",\"sectionTitle\":\"Home\",\"sectionUrl\":\"https://www.forbes.com/vetted/home/\",\"sections\":[{\"featuredImage\":\"\",\"featuredTitle\":\"\",\"paidContent\":\"\",\"sectionLink\":\"\",\"sectionSponsored\":\"\",\"sectionTitle\":\"Bathroom\",\"sectionUrl\":\"https://www.forbes.com/vetted/home/bathroom/\"},{\"featuredImage\":\"\",\"featuredTitle\":\"\",\"paidContent\":\"\",\"sectionLink\":\"\",\"sectionSponsored\":\"\",\"sectionTitle\":\"Cleaning \\u0026 Laundry\",\"sectionUrl\":\"https://www.forbes.com/vetted/home/cleaning-laundry/\"},{\"featuredImage\":\"\",\"featuredTitle\":\"\",\"paidContent\":\"\",\"sectionLink\":\"\",\"sectionSponsored\":\"\",\"sectionTitle\":\"Decor\",\"sectionUrl\":\"https://www.forbes.com/vetted/home/decor/\"},{\"featuredImage\":\"\",\"featuredTitle\":\"\",\"paidContent\":\"\",\"sectionLink\":\"\",\"sectionSponsored\":\"\",\"sectionTitle\":\"Furniture\",\"sectionUrl\":\"https://www.forbes.com/vetted/home/furniture/\"},{\"featuredImage\":\"\",\"featuredTitle\":\"\",\"paidContent\":\"\",\"sectionLink\":\"\",\"sectionSponsored\":\"\",\"sectionTitle\":\"Heating \\u0026 Cooling\",\"sectionUrl\":\"https://www.forbes.com/vetted/home/heating-cooling/\"},{\"featuredImage\":\"\",\"featuredTitle\":\"\",\"paidContent\":\"\",\"sectionLink\":\"\",\"sectionSponsored\":\"\",\"sectionTitle\":\"Hobbies\",\"sectionUrl\":\"https://www.forbes.com/vetted/home/hobbies/\"},{\"featuredImage\":\"\",\"featuredTitle\":\"\",\"paidContent\":\"\",\"sectionLink\":\"\",\"sectionSponsored\":\"\",\"sectionTitle\":\"Home Office\",\"sectionUrl\":\"https://www.forbes.com/vetted/home-office/\"},{\"featuredImage\":\"\",\"featuredTitle\":\"\",\"paidContent\":\"\",\"sectionLink\":\"\",\"sectionSponsored\":\"\",\"sectionTitle\":\"Kitchen \\u0026 Dining\",\"sectionUrl\":\"https://www.forbes.com/vetted/home/kitchen-dining/\"},{\"featuredImage\":\"\",\"featuredTitle\":\"\",\"paidContent\":\"\",\"sectionLink\":\"\",\"sectionSponsored\":\"\",\"sectionTitle\":\"Outdoor\",\"sectionUrl\":\"https://www.forbes.com/vetted/home/outdoor/\"},{\"featuredImage\":\"\",\"featuredTitle\":\"\",\"paidContent\":\"\",\"sectionLink\":\"\",\"sectionSponsored\":\"\",\"sectionTitle\":\"Pets\",\"sectionUrl\":\"https://www.forbes.com/vetted/home/pets/\"},{\"featuredImage\":\"\",\"featuredTitle\":\"\",\"paidContent\":\"\",\"sectionLink\":\"\",\"sectionSponsored\":\"\",\"sectionTitle\":\"Storage \\u0026 Organization\",\"sectionUrl\":\"https://www.forbes.com/vetted/home/storage-organization/\"},{\"featuredImage\":\"\",\"featuredTitle\":\"\",\"paidContent\":\"\",\"sectionLink\":\"\",\"sectionSponsored\":\"\",\"sectionTitle\":\"Tools\",\"sectionUrl\":\"https://www.forbes.com/vetted/home/tools/\"},{\"featuredImage\":\"\",\"featuredTitle\":\"\",\"paidContent\":\"\",\"sectionLink\":\"\",\"sectionSponsored\":\"\",\"sectionTitle\":\"Wine \\u0026 Bar\",\"sectionUrl\":\"https://www.forbes.com/vetted/home/wine-bar/\"}]},{\"featuredImage\":\"\",\"featuredTitle\":\"\",\"paidContent\":\"\",\"sectionLink\":\"\",\"sectionSponsored\":\"\",\"sectionTitle\":\"Fashion\",\"sectionUrl\":\"https://www.forbes.com/vetted/fashion/\",\"sections\":[{\"featuredImage\":\"\",\"featuredTitle\":\"\",\"paidContent\":\"\",\"sectionLink\":\"\",\"sectionSponsored\":\"\",\"sectionTitle\":\"Accessories\",\"sectionUrl\":\"https://www.forbes.com/vetted/fashion/accessories/\"},{\"featuredImage\":\"\",\"featuredTitle\":\"\",\"paidContent\":\"\",\"sectionLink\":\"\",\"sectionSponsored\":\"\",\"sectionTitle\":\"Clothing\",\"sectionUrl\":\"https://www.forbes.com/vetted/fashion/clothing/\"},{\"featuredImage\":\"\",\"featuredTitle\":\"\",\"paidContent\":\"\",\"sectionLink\":\"\",\"sectionSponsored\":\"\",\"sectionTitle\":\"Eyewear\",\"sectionUrl\":\"https://www.forbes.com/vetted/fashion/eyewear/\"},{\"featuredImage\":\"\",\"featuredTitle\":\"\",\"paidContent\":\"\",\"sectionLink\":\"\",\"sectionSponsored\":\"\",\"sectionTitle\":\"Footwear\",\"sectionUrl\":\"https://www.forbes.com/vetted/fashion/footwear/\"},{\"featuredImage\":\"\",\"featuredTitle\":\"\",\"paidContent\":\"\",\"sectionLink\":\"\",\"sectionSponsored\":\"\",\"sectionTitle\":\"Jewelry\",\"sectionUrl\":\"https://www.forbes.com/vetted/fashion/jewelry/\"},{\"featuredImage\":\"\",\"featuredTitle\":\"\",\"paidContent\":\"\",\"sectionLink\":\"\",\"sectionSponsored\":\"\",\"sectionTitle\":\"Handbags \\u0026 Purses\",\"sectionUrl\":\"https://www.forbes.com/vetted/fashion/handbags-purses/\"},{\"featuredImage\":\"\",\"featuredTitle\":\"\",\"paidContent\":\"\",\"sectionLink\":\"\",\"sectionSponsored\":\"\",\"sectionTitle\":\"Lingerie \\u0026 Sleepwear\",\"sectionUrl\":\"https://www.forbes.com/vetted/fashion/lingerie-sleepwear/\"},{\"featuredImage\":\"\",\"featuredTitle\":\"\",\"paidContent\":\"\",\"sectionLink\":\"\",\"sectionSponsored\":\"\",\"sectionTitle\":\"Outdoor \\u0026 Fitness Apparel\",\"sectionUrl\":\"https://www.forbes.com/vetted/fashion/outdoor-fitness-apparel/\"},{\"featuredImage\":\"\",\"featuredTitle\":\"\",\"paidContent\":\"\",\"sectionLink\":\"\",\"sectionSponsored\":\"\",\"sectionTitle\":\"Outerwear\",\"sectionUrl\":\"https://www.forbes.com/vetted/fashion/outerwear/\"},{\"featuredImage\":\"\",\"featuredTitle\":\"\",\"paidContent\":\"\",\"sectionLink\":\"\",\"sectionSponsored\":\"\",\"sectionTitle\":\"Watches\",\"sectionUrl\":\"https://www.forbes.com/vetted/fashion/watches/\"}]},{\"featuredImage\":\"\",\"featuredTitle\":\"\",\"paidContent\":\"\",\"sectionLink\":\"\",\"sectionSponsored\":\"\",\"sectionTitle\":\"Kids \\u0026 Baby Gear\",\"sectionUrl\":\"https://www.forbes.com/vetted/kids-baby-gear/\",\"sections\":[{\"featuredImage\":\"\",\"featuredTitle\":\"\",\"paidContent\":\"\",\"sectionLink\":\"\",\"sectionSponsored\":\"\",\"sectionTitle\":\"Baby Gear\",\"sectionUrl\":\"https://www.forbes.com/vetted/kids-baby-gear/baby-gear/\"},{\"featuredImage\":\"\",\"featuredTitle\":\"\",\"paidContent\":\"\",\"sectionLink\":\"\",\"sectionSponsored\":\"\",\"sectionTitle\":\"Kids Clothes \\u0026 Accessories\",\"sectionUrl\":\"https://www.forbes.com/vetted/kids-baby-gear/kids-clothes-accessories/\"},{\"featuredImage\":\"\",\"featuredTitle\":\"\",\"paidContent\":\"\",\"sectionLink\":\"\",\"sectionSponsored\":\"\",\"sectionTitle\":\"Nursery\",\"sectionUrl\":\"https://www.forbes.com/vetted/kids-baby-gear/nursery/\"},{\"featuredImage\":\"\",\"featuredTitle\":\"\",\"paidContent\":\"\",\"sectionLink\":\"\",\"sectionSponsored\":\"\",\"sectionTitle\":\"Pregnancy \\u0026 Postpartum\",\"sectionUrl\":\"https://www.forbes.com/vetted/kids-baby-gear/pregnancy-postpartum/\"},{\"featuredImage\":\"\",\"featuredTitle\":\"\",\"paidContent\":\"\",\"sectionLink\":\"\",\"sectionSponsored\":\"\",\"sectionTitle\":\"Toys \\u0026 Books\",\"sectionUrl\":\"https://www.forbes.com/vetted/kids-baby-gear/toys-books/\"}]},{\"featuredImage\":\"\",\"featuredTitle\":\"\",\"paidContent\":\"\",\"sectionLink\":\"\",\"sectionSponsored\":\"\",\"sectionTitle\":\"Gear\",\"sectionUrl\":\"https://www.forbes.com/vetted/gear/\",\"sections\":[{\"featuredImage\":\"\",\"featuredTitle\":\"\",\"paidContent\":\"\",\"sectionLink\":\"\",\"sectionSponsored\":\"\",\"sectionTitle\":\"Apparel \\u0026 Accessories\",\"sectionUrl\":\"https://www.forbes.com/vetted/gear/apparel-accessories/\"},{\"featuredImage\":\"\",\"featuredTitle\":\"\",\"paidContent\":\"\",\"sectionLink\":\"\",\"sectionSponsored\":\"\",\"sectionTitle\":\"Bikes\",\"sectionUrl\":\"https://www.forbes.com/vetted/gear/bikes/\"},{\"featuredImage\":\"\",\"featuredTitle\":\"\",\"paidContent\":\"\",\"sectionLink\":\"\",\"sectionSponsored\":\"\",\"sectionTitle\":\"Camping \\u0026 Hiking\",\"sectionUrl\":\"https://www.forbes.com/vetted/gear/camping-hiking/\"},{\"featuredImage\":\"\",\"featuredTitle\":\"\",\"paidContent\":\"\",\"sectionLink\":\"\",\"sectionSponsored\":\"\",\"sectionTitle\":\"Climbing\",\"sectionUrl\":\"https://www.forbes.com/vetted/gear/climbing/\"},{\"featuredImage\":\"\",\"featuredTitle\":\"\",\"paidContent\":\"\",\"sectionLink\":\"\",\"sectionSponsored\":\"\",\"sectionTitle\":\"Fishing \\u0026 Hunting\",\"sectionUrl\":\"https://www.forbes.com/vetted/gear/fishing-hunting/\"},{\"featuredImage\":\"\",\"featuredTitle\":\"\",\"paidContent\":\"\",\"sectionLink\":\"\",\"sectionSponsored\":\"\",\"sectionTitle\":\"Fitness\",\"sectionUrl\":\"https://www.forbes.com/vetted/gear/fitness/\"},{\"featuredImage\":\"\",\"featuredTitle\":\"\",\"paidContent\":\"\",\"sectionLink\":\"\",\"sectionSponsored\":\"\",\"sectionTitle\":\"Golf\",\"sectionUrl\":\"https://www.forbes.com/vetted/gear/golf/\"},{\"featuredImage\":\"\",\"featuredTitle\":\"\",\"paidContent\":\"\",\"sectionLink\":\"\",\"sectionSponsored\":\"\",\"sectionTitle\":\"Running\",\"sectionUrl\":\"https://www.forbes.com/vetted/gear/running/\"},{\"featuredImage\":\"\",\"featuredTitle\":\"\",\"paidContent\":\"\",\"sectionLink\":\"\",\"sectionSponsored\":\"\",\"sectionTitle\":\"Tennis \\u0026 Racket Sports\",\"sectionUrl\":\"https://www.forbes.com/vetted/gear/tennis-racket-sports/\"},{\"featuredImage\":\"\",\"featuredTitle\":\"\",\"paidContent\":\"\",\"sectionLink\":\"\",\"sectionSponsored\":\"\",\"sectionTitle\":\"Tools \\u0026 Tech\",\"sectionUrl\":\"https://www.forbes.com/vetted/gear/tools-tech/\"},{\"featuredImage\":\"\",\"featuredTitle\":\"\",\"paidContent\":\"\",\"sectionLink\":\"\",\"sectionSponsored\":\"\",\"sectionTitle\":\"Training \\u0026 Recovery\",\"sectionUrl\":\"https://ww.forbes.com/vetted/gear/training-recovery/\"},{\"featuredImage\":\"\",\"featuredTitle\":\"\",\"paidContent\":\"\",\"sectionLink\":\"\",\"sectionSponsored\":\"\",\"sectionTitle\":\"Water Sports\",\"sectionUrl\":\"https://www.forbes.com/vetted/gear/water-sports/\"},{\"featuredImage\":\"\",\"featuredTitle\":\"\",\"paidContent\":\"\",\"sectionLink\":\"\",\"sectionSponsored\":\"\",\"sectionTitle\":\"Wellness\",\"sectionUrl\":\"https://www.forbes.com/vetted/gear/wellness/\"},{\"featuredImage\":\"\",\"featuredTitle\":\"\",\"paidContent\":\"\",\"sectionLink\":\"\",\"sectionSponsored\":\"\",\"sectionTitle\":\"Winter Sports\",\"sectionUrl\":\"https://www.forbes.com/vetted/gear/winter-sports/\"}]},{\"featuredImage\":\"\",\"featuredTitle\":\"\",\"paidContent\":\"\",\"sectionLink\":\"\",\"sectionSponsored\":\"\",\"sectionTitle\":\"Beauty \\u0026 Grooming\",\"sectionUrl\":\"https://www.forbes.com/vetted/beauty-grooming/\",\"sections\":[{\"featuredImage\":\"\",\"featuredTitle\":\"\",\"paidContent\":\"\",\"sectionLink\":\"\",\"sectionSponsored\":\"\",\"sectionTitle\":\"Haircare\",\"sectionUrl\":\"https://www.forbes.com/vetted/beauty-grooming/haircare/\"},{\"featuredImage\":\"\",\"featuredTitle\":\"\",\"paidContent\":\"\",\"sectionLink\":\"\",\"sectionSponsored\":\"\",\"sectionTitle\":\"Makeup\",\"sectionUrl\":\"https://www.forbes.com/vetted/beauty-grooming/makeup/\"},{\"featuredImage\":\"\",\"featuredTitle\":\"\",\"paidContent\":\"\",\"sectionLink\":\"\",\"sectionSponsored\":\"\",\"sectionTitle\":\"Nailcare\",\"sectionUrl\":\"https://www.forbes.com/vetted/beauty-grooming/nailcare/\"},{\"featuredImage\":\"\",\"featuredTitle\":\"\",\"paidContent\":\"\",\"sectionLink\":\"\",\"sectionSponsored\":\"\",\"sectionTitle\":\"Shaving\",\"sectionUrl\":\"https://www.forbes.com/vetted/beauty-grooming/shaving/\"},{\"featuredImage\":\"\",\"featuredTitle\":\"\",\"paidContent\":\"\",\"sectionLink\":\"\",\"sectionSponsored\":\"\",\"sectionTitle\":\"Skincare\",\"sectionUrl\":\"https://www.forbes.com/vetted/beauty-grooming/skincare/\"},{\"featuredImage\":\"\",\"featuredTitle\":\"\",\"paidContent\":\"\",\"sectionLink\":\"\",\"sectionSponsored\":\"\",\"sectionTitle\":\"Personal Products\",\"sectionUrl\":\"https://www.forbes.com/vetted/beauty-grooming/personal-products/\"},{\"featuredImage\":\"\",\"featuredTitle\":\"\",\"paidContent\":\"\",\"sectionLink\":\"\",\"sectionSponsored\":\"\",\"sectionTitle\":\"Wellness \\u0026 Self Care\",\"sectionUrl\":\"https://www.forbes.com/vetted/beauty-grooming/wellness-self-care/\"}]},{\"featuredImage\":\"\",\"featuredTitle\":\"\",\"paidContent\":\"\",\"sectionLink\":\"\",\"sectionSponsored\":\"\",\"sectionTitle\":\"Tech \\u0026 Electronics\",\"sectionUrl\":\"https://www.forbes.com/vetted/tech-electronics/\",\"sections\":[{\"featuredImage\":\"\",\"featuredTitle\":\"\",\"paidContent\":\"\",\"sectionLink\":\"\",\"sectionSponsored\":\"\",\"sectionTitle\":\"Audio\",\"sectionUrl\":\"https://www.forbes.com/vetted/tech-electronics/audio/\"},{\"featuredImage\":\"\",\"featuredTitle\":\"\",\"paidContent\":\"\",\"sectionLink\":\"\",\"sectionSponsored\":\"\",\"sectionTitle\":\"Cameras\",\"sectionUrl\":\"https://www.forbes.com/vetted/tech-electronics/cameras/\"},{\"featuredImage\":\"\",\"featuredTitle\":\"\",\"paidContent\":\"\",\"sectionLink\":\"\",\"sectionSponsored\":\"\",\"sectionTitle\":\"Computers, Tablets \\u0026 Accessories\",\"sectionUrl\":\"https://www.forbes.com/vetted/tech-electronics/computers-tablets-accessories/\"},{\"featuredImage\":\"\",\"featuredTitle\":\"\",\"paidContent\":\"\",\"sectionLink\":\"\",\"sectionSponsored\":\"\",\"sectionTitle\":\"Gaming\",\"sectionUrl\":\"https://www.forbes.com/vetted/tech-electronics/gaming/\"},{\"featuredImage\":\"\",\"featuredTitle\":\"\",\"paidContent\":\"\",\"sectionLink\":\"\",\"sectionSponsored\":\"\",\"sectionTitle\":\"Home Office\",\"sectionUrl\":\"https://www.forbes.com/vetted/tech-electronics/home-office/\"},{\"featuredImage\":\"\",\"featuredTitle\":\"\",\"paidContent\":\"\",\"sectionLink\":\"\",\"sectionSponsored\":\"\",\"sectionTitle\":\"Online Tools\",\"sectionUrl\":\"https://www.forbes.com/vetted/tech-electronics/online-tools/\"},{\"featuredImage\":\"\",\"featuredTitle\":\"\",\"paidContent\":\"\",\"sectionLink\":\"\",\"sectionSponsored\":\"\",\"sectionTitle\":\"Smart Home Devices\",\"sectionUrl\":\"https://www.forbes.com/vetted/tech-electronics/smart-home-devices/\"},{\"featuredImage\":\"\",\"featuredTitle\":\"\",\"paidContent\":\"\",\"sectionLink\":\"\",\"sectionSponsored\":\"\",\"sectionTitle\":\"Smartphones, Smartwatches \\u0026 Accessories\",\"sectionUrl\":\"https://www.forbes.com/vetted/tech-electronics/smartphones-smartwatches-accessories/\"},{\"featuredImage\":\"\",\"featuredTitle\":\"\",\"paidContent\":\"\",\"sectionLink\":\"\",\"sectionSponsored\":\"\",\"sectionTitle\":\"Streaming\",\"sectionUrl\":\"https://www.forbes.com/vetted/tech-electronics/streaming/\"},{\"featuredImage\":\"\",\"featuredTitle\":\"\",\"paidContent\":\"\",\"sectionLink\":\"\",\"sectionSponsored\":\"\",\"sectionTitle\":\"TVs\",\"sectionUrl\":\"https://www.forbes.com/vetted/tech-electronics/tvs/\"}]},{\"featuredImage\":\"\",\"featuredTitle\":\"\",\"paidContent\":\"\",\"sectionLink\":\"\",\"sectionSponsored\":\"\",\"sectionTitle\":\"Travel\",\"sectionUrl\":\"https://www.forbes.com/vetted/travel/\",\"sections\":[{\"featuredImage\":\"\",\"featuredTitle\":\"\",\"paidContent\":\"\",\"sectionLink\":\"\",\"sectionSponsored\":\"\",\"sectionTitle\":\"Cruises\",\"sectionUrl\":\"https://www.forbes.com/vetted/travel/cruises/\"},{\"featuredImage\":\"\",\"featuredTitle\":\"\",\"paidContent\":\"\",\"sectionLink\":\"\",\"sectionSponsored\":\"\",\"sectionTitle\":\"Hotels \\u0026 Lodging\",\"sectionUrl\":\"https://www.forbes.com/vetted/travel/hotels-lodging/\"},{\"featuredImage\":\"\",\"featuredTitle\":\"\",\"paidContent\":\"\",\"sectionLink\":\"\",\"sectionSponsored\":\"\",\"sectionTitle\":\"Luggage\",\"sectionUrl\":\"https://www.forbes.com/vetted/travel/luggage/\"},{\"featuredImage\":\"\",\"featuredTitle\":\"\",\"paidContent\":\"\",\"sectionLink\":\"\",\"sectionSponsored\":\"\",\"sectionTitle\":\"Travel Products\",\"sectionUrl\":\"https://www.forbes.com/vetted/travel/travel-products/\"}]},{\"featuredImage\":\"\",\"featuredTitle\":\"\",\"paidContent\":\"\",\"sectionLink\":\"\",\"sectionSponsored\":\"\",\"sectionTitle\":\"Gifts\",\"sectionUrl\":\"https://www.forbes.com/vetted/gifts/\",\"sections\":[{\"featuredImage\":\"\",\"featuredTitle\":\"\",\"paidContent\":\"\",\"sectionLink\":\"\",\"sectionSponsored\":\"\",\"sectionTitle\":\"Father's Day\",\"sectionUrl\":\"https://www.forbes.com/vetted/gifts/fathers-day/\"},{\"featuredImage\":\"\",\"featuredTitle\":\"\",\"paidContent\":\"\",\"sectionLink\":\"\",\"sectionSponsored\":\"\",\"sectionTitle\":\"Holiday\",\"sectionUrl\":\"https://www.forbes.com/vetted/gifts/holiday/\"},{\"featuredImage\":\"\",\"featuredTitle\":\"\",\"paidContent\":\"\",\"sectionLink\":\"\",\"sectionSponsored\":\"\",\"sectionTitle\":\"Mother's Day\",\"sectionUrl\":\"https://www.forbes.com/vetted/gifts/mothers-day/\"},{\"featuredImage\":\"\",\"featuredTitle\":\"\",\"paidContent\":\"\",\"sectionLink\":\"\",\"sectionSponsored\":\"\",\"sectionTitle\":\"Valentine's Day\",\"sectionUrl\":\"https://www.forbes.com/vetted/gifts/valentines-day/\"},{\"featuredImage\":\"\",\"featuredTitle\":\"\",\"paidContent\":\"\",\"sectionLink\":\"\",\"sectionSponsored\":\"\",\"sectionTitle\":\"Wedding\",\"sectionUrl\":\"https://www.forbes.com/vetted/gifts/wedding/\"}]},{\"featuredImage\":\"\",\"featuredTitle\":\"\",\"paidContent\":\"\",\"sectionLink\":\"\",\"sectionSponsored\":\"\",\"sectionTitle\":\"Deals\",\"sectionUrl\":\"https://www.forbes.com/vetted/deals/\",\"sections\":[{\"featuredImage\":\"\",\"featuredTitle\":\"\",\"paidContent\":\"\",\"sectionLink\":\"\",\"sectionSponsored\":\"\",\"sectionTitle\":\"Amazon Prime Day\",\"sectionUrl\":\"https://www.forbes.com/vetted/deals/amazon-prime-day/\"},{\"featuredImage\":\"\",\"featuredTitle\":\"\",\"paidContent\":\"\",\"sectionLink\":\"\",\"sectionSponsored\":\"\",\"sectionTitle\":\"Beauty \\u0026 Grooming\",\"sectionUrl\":\"https://www.forbes.com/vetted/deals/beauty-grooming/\"},{\"featuredImage\":\"\",\"featuredTitle\":\"\",\"paidContent\":\"\",\"sectionLink\":\"\",\"sectionSponsored\":\"\",\"sectionTitle\":\"Big Sales\",\"sectionUrl\":\"https://www.forbes.com/vetted/deals/big-sales/\"},{\"featuredImage\":\"\",\"featuredTitle\":\"\",\"paidContent\":\"\",\"sectionLink\":\"\",\"sectionSponsored\":\"\",\"sectionTitle\":\"Fashion\",\"sectionUrl\":\"https://www.forbes.com/vetted/deals/fashion/\"},{\"featuredImage\":\"\",\"featuredTitle\":\"\",\"paidContent\":\"\",\"sectionLink\":\"\",\"sectionSponsored\":\"\",\"sectionTitle\":\"Gear\",\"sectionUrl\":\"https://www.forbes.com/vetted/deals/gear/\"},{\"featuredImage\":\"\",\"featuredTitle\":\"\",\"paidContent\":\"\",\"sectionLink\":\"\",\"sectionSponsored\":\"\",\"sectionTitle\":\"Home\",\"sectionUrl\":\"https://www.forbes.com/vetted/deals/home/\"},{\"featuredImage\":\"\",\"featuredTitle\":\"\",\"paidContent\":\"\",\"sectionLink\":\"\",\"sectionSponsored\":\"\",\"sectionTitle\":\"Tech \\u0026 Electronics\",\"sectionUrl\":\"https://www.forbes.com/vetted/deals/tech-electronics/\"},{\"featuredImage\":\"\",\"featuredTitle\":\"\",\"paidContent\":\"\",\"sectionLink\":\"\",\"sectionSponsored\":\"\",\"sectionTitle\":\"Travel Deals\",\"sectionUrl\":\"https://www.forbes.com/vetted/deals/travel-deals/\"},{\"featuredImage\":\"\",\"featuredTitle\":\"\",\"paidContent\":\"\",\"sectionLink\":\"\",\"sectionSponsored\":\"\",\"sectionTitle\":\"Mattress \\u0026 Sleep\",\"sectionUrl\":\"https://www.forbes.com/vetted/deals/mattress-sleep/\"}]}],\"title\":\"Vetted\",\"url\":\"https://www.forbes.com/vetted/\"},{\"position\":13,\"sections\":[{\"featuredImage\":\"\",\"featuredTitle\":\"\",\"paidContent\":\"\",\"sectionLink\":\"\",\"sectionSponsored\":\"\",\"sectionTitle\":\"Dell\",\"sectionUrl\":\"https://www.forbes.com/coupons/dell.com/\",\"sections\":[]},{\"featuredImage\":\"\",\"featuredTitle\":\"\",\"paidContent\":\"\",\"sectionLink\":\"\",\"sectionSponsored\":\"\",\"sectionTitle\":\"Lululemon\",\"sectionUrl\":\"https://www.forbes.com/coupons/lululemon.com/\",\"sections\":[]},{\"featuredImage\":\"\",\"featuredTitle\":\"\",\"paidContent\":\"\",\"sectionLink\":\"\",\"sectionSponsored\":\"\",\"sectionTitle\":\"Purple\",\"sectionUrl\":\"https://www.forbes.com/coupons/purple.com/\",\"sections\":[]},{\"featuredImage\":\"\",\"featuredTitle\":\"\",\"paidContent\":\"\",\"sectionLink\":\"\",\"sectionSponsored\":\"\",\"sectionTitle\":\"Verizon\",\"sectionUrl\":\"https://www.forbes.com/coupons/verizonwireless.com/\",\"sections\":[]},{\"featuredImage\":\"\",\"featuredTitle\":\"\",\"paidContent\":\"\",\"sectionLink\":\"\",\"sectionSponsored\":\"\",\"sectionTitle\":\"Lowe's\",\"sectionUrl\":\"https://www.forbes.com/coupons/lowes.com/\",\"sections\":[]},{\"featuredImage\":\"\",\"featuredTitle\":\"\",\"paidContent\":\"\",\"sectionLink\":\"\",\"sectionSponsored\":\"\",\"sectionTitle\":\"Zenni\",\"sectionUrl\":\"https://www.forbes.com/coupons/zennioptical.com/\",\"sections\":[]},{\"featuredImage\":\"\",\"featuredTitle\":\"\",\"paidContent\":\"\",\"sectionLink\":\"\",\"sectionSponsored\":\"\",\"sectionTitle\":\"Home Depot\",\"sectionUrl\":\"https://www.forbes.com/coupons/homedepot.com/\",\"sections\":[]},{\"featuredImage\":\"\",\"featuredTitle\":\"\",\"paidContent\":\"\",\"sectionLink\":\"\",\"sectionSponsored\":\"\",\"sectionTitle\":\"Walmart\",\"sectionUrl\":\"https://www.forbes.com/coupons/walmart.com/\",\"sections\":[]},{\"featuredImage\":\"\",\"featuredTitle\":\"\",\"paidContent\":\"\",\"sectionLink\":\"\",\"sectionSponsored\":\"\",\"sectionTitle\":\"Samsung\",\"sectionUrl\":\"https://www.forbes.com/coupons/samsung.com/\",\"sections\":[]},{\"featuredImage\":\"\",\"featuredTitle\":\"\",\"paidContent\":\"\",\"sectionLink\":\"\",\"sectionSponsored\":\"\",\"sectionTitle\":\"QVC\",\"sectionUrl\":\"https://www.forbes.com/coupons/qvc.com/\",\"sections\":[]},{\"featuredImage\":\"\",\"featuredTitle\":\"\",\"paidContent\":\"\",\"sectionLink\":\"\",\"sectionSponsored\":\"\",\"sectionTitle\":\"Walgreens\",\"sectionUrl\":\"https://www.forbes.com/coupons/walgreens.com/\",\"sections\":[]},{\"featuredImage\":\"\",\"featuredTitle\":\"\",\"paidContent\":\"\",\"sectionLink\":\"\",\"sectionSponsored\":\"\",\"sectionTitle\":\"Sephora\",\"sectionUrl\":\"https://www.forbes.com/coupons/sephora.com/\",\"sections\":[]},{\"featuredImage\":\"\",\"featuredTitle\":\"\",\"paidContent\":\"\",\"sectionLink\":\"\",\"sectionSponsored\":\"\",\"sectionTitle\":\"Hotels.com\",\"sectionUrl\":\"https://www.forbes.com/coupons/hotels.com/\",\"sections\":[]}],\"title\":\"Coupons\",\"url\":\"https://www.forbes.com/coupons/\"},{\"position\":14,\"sections\":[],\"title\":\"Forbes 101\",\"url\":\"https://www.forbes.com/forbes-101/\"},{\"color\":\"advisor-amethyst\",\"position\":15,\"sections\":[{\"featuredImage\":\"\",\"featuredTitle\":\"\",\"paidContent\":\"\",\"sectionLink\":\"\",\"sectionSponsored\":\"\",\"sectionTitle\":\"Best Credit Cards Of 2024\",\"sectionUrl\":\"https://www.forbes.com/advisor/credit-cards/best-credit-cards/\",\"sections\":[]},{\"featuredImage\":\"\",\"featuredTitle\":\"\",\"paidContent\":\"\",\"sectionLink\":\"\",\"sectionSponsored\":\"\",\"sectionTitle\":\"Compare Credit Cards\",\"sectionUrl\":\"https://www.forbes.com/advisor/credit-cards/compare/\",\"sections\":[]},{\"featuredImage\":\"\",\"featuredTitle\":\"\",\"paidContent\":\"\",\"sectionLink\":\"\",\"sectionSponsored\":\"\",\"sectionTitle\":\"Balance Transfer Credit Cards\",\"sectionUrl\":\"https://www.forbes.com/advisor/credit-cards/best/balance-transfer/\",\"sections\":[]},{\"featuredImage\":\"\",\"featuredTitle\":\"\",\"paidContent\":\"\",\"sectionLink\":\"\",\"sectionSponsored\":\"\",\"sectionTitle\":\"Cash Back Credit Cards\",\"sectionUrl\":\"https://www.forbes.com/advisor/credit-cards/best/cash-back/\",\"sections\":[]},{\"featuredImage\":\"\",\"featuredTitle\":\"\",\"paidContent\":\"\",\"sectionLink\":\"\",\"sectionSponsored\":\"\",\"sectionTitle\":\"Travel Credit Cards\",\"sectionUrl\":\"https://www.forbes.com/advisor/credit-cards/best/travel/\",\"sections\":[]},{\"featuredImage\":\"\",\"featuredTitle\":\"\",\"paidContent\":\"\",\"sectionLink\":\"\",\"sectionSponsored\":\"\",\"sectionTitle\":\"Business Credit Cards\",\"sectionUrl\":\"https://www.forbes.com/advisor/credit-cards/best/business/\",\"sections\":[]},{\"featuredImage\":\"\",\"featuredTitle\":\"\",\"paidContent\":\"\",\"sectionLink\":\"\",\"sectionSponsored\":\"\",\"sectionTitle\":\"Mortgages \\u0026 Loans\",\"sectionUrl\":\"https://www.forbes.com/advisor/mortgages/\",\"sections\":[{\"featuredImage\":\"\",\"featuredTitle\":\"\",\"paidContent\":\"\",\"sectionLink\":\"\",\"sectionSponsored\":\"\",\"sectionTitle\":\"Best Mortgage Lenders\",\"sectionUrl\":\"https://www.forbes.com/advisor/mortgages/best-mortgage-lenders/\"},{\"featuredImage\":\"\",\"featuredTitle\":\"\",\"paidContent\":\"\",\"sectionLink\":\"\",\"sectionSponsored\":\"\",\"sectionTitle\":\"Today's Mortgage Rates\",\"sectionUrl\":\"https://www.forbes.com/advisor/mortgages/mortgage-rates/\"},{\"featuredImage\":\"\",\"featuredTitle\":\"\",\"paidContent\":\"\",\"sectionLink\":\"\",\"sectionSponsored\":\"\",\"sectionTitle\":\"Today's Refinance Rates\",\"sectionUrl\":\"https://www.forbes.com/advisor/mortgages/refinance/refinance-rates/\"},{\"featuredImage\":\"\",\"featuredTitle\":\"\",\"paidContent\":\"\",\"sectionLink\":\"\",\"sectionSponsored\":\"\",\"sectionTitle\":\"Best Personal Loans\",\"sectionUrl\":\"https://www.forbes.com/advisor/personal-loans/best-personal-loans/\"},{\"featuredImage\":\"\",\"featuredTitle\":\"\",\"paidContent\":\"\",\"sectionLink\":\"\",\"sectionSponsored\":\"\",\"sectionTitle\":\"Compare Loans\",\"sectionUrl\":\"https://www.forbes.com/advisor/personal-loans/compare-loans/\"},{\"featuredImage\":\"\",\"featuredTitle\":\"\",\"paidContent\":\"\",\"sectionLink\":\"\",\"sectionSponsored\":\"\",\"sectionTitle\":\"Loans For Bad Credit\",\"sectionUrl\":\"https://www.forbes.com/advisor/personal-loans/bad-credit-loans/\"},{\"featuredImage\":\"\",\"featuredTitle\":\"\",\"paidContent\":\"\",\"sectionLink\":\"\",\"sectionSponsored\":\"\",\"sectionTitle\":\"Best Debt Consolidation Loans\",\"sectionUrl\":\"https://www.forbes.com/advisor/personal-loans/best-debt-consolidation-loans/\"},{\"featuredImage\":\"\",\"featuredTitle\":\"\",\"paidContent\":\"\",\"sectionLink\":\"\",\"sectionSponsored\":\"\",\"sectionTitle\":\"Best Student Loan Lenders\",\"sectionUrl\":\"https://www.forbes.com/advisor/student-loans/best-private-student-loans/\"},{\"featuredImage\":\"\",\"featuredTitle\":\"\",\"paidContent\":\"\",\"sectionLink\":\"\",\"sectionSponsored\":\"\",\"sectionTitle\":\"Best Student Loan Refinance Lenders\",\"sectionUrl\":\"https://www.forbes.com/advisor/student-loans/best-student-loan-refinance-lenders/\"},{\"featuredImage\":\"\",\"featuredTitle\":\"\",\"paidContent\":\"\",\"sectionLink\":\"\",\"sectionSponsored\":\"\",\"sectionTitle\":\"Business Loans\",\"sectionUrl\":\"https://www.forbes.com/advisor/business-loans/best-small-business-loans/\"}]},{\"featuredImage\":\"\",\"featuredTitle\":\"\",\"paidContent\":\"\",\"sectionLink\":\"\",\"sectionSponsored\":\"\",\"sectionTitle\":\"Banking\",\"sectionUrl\":\"https://www.forbes.com/advisor/banking/\",\"sections\":[{\"featuredImage\":\"\",\"featuredTitle\":\"\",\"paidContent\":\"\",\"sectionLink\":\"\",\"sectionSponsored\":\"\",\"sectionTitle\":\"Best Online Banks\",\"sectionUrl\":\"https://www.forbes.com/advisor/banking/best-online-banks/\"},{\"featuredImage\":\"\",\"featuredTitle\":\"\",\"paidContent\":\"\",\"sectionLink\":\"\",\"sectionSponsored\":\"\",\"sectionTitle\":\"CD Rates\",\"sectionUrl\":\"https://www.forbes.com/advisor/banking/cds/best-cd-rates/\"},{\"featuredImage\":\"\",\"featuredTitle\":\"\",\"paidContent\":\"\",\"sectionLink\":\"\",\"sectionSponsored\":\"\",\"sectionTitle\":\"High-Yield Savings Accounts\",\"sectionUrl\":\"https://www.forbes.com/advisor/banking/savings/best-high-yield-savings-accounts/\"},{\"featuredImage\":\"\",\"featuredTitle\":\"\",\"paidContent\":\"\",\"sectionLink\":\"\",\"sectionSponsored\":\"\",\"sectionTitle\":\"Money Market Account\",\"sectionUrl\":\"https://www.forbes.com/advisor/banking/money-market-account/best-money-market-accounts/\"}]},{\"featuredImage\":\"\",\"featuredTitle\":\"\",\"paidContent\":\"\",\"sectionLink\":\"\",\"sectionSponsored\":\"\",\"sectionTitle\":\"Life Insurance\",\"sectionUrl\":\"https://www.forbes.com/advisor/life-insurance/best-life-insurance-companies/\",\"sections\":[]},{\"featuredImage\":\"\",\"featuredTitle\":\"\",\"paidContent\":\"\",\"sectionLink\":\"\",\"sectionSponsored\":\"\",\"sectionTitle\":\"Cheap Life Insurance\",\"sectionUrl\":\"https://www.forbes.com/advisor/life-insurance/cheap-life-insurance/\",\"sections\":[]},{\"featuredImage\":\"\",\"featuredTitle\":\"\",\"paidContent\":\"\",\"sectionLink\":\"\",\"sectionSponsored\":\"\",\"sectionTitle\":\"No Exam Life Insurance\",\"sectionUrl\":\"https://www.forbes.com/advisor/life-insurance/best-no-exam-life-insurance/\",\"sections\":[]},{\"featuredImage\":\"\",\"featuredTitle\":\"\",\"paidContent\":\"\",\"sectionLink\":\"\",\"sectionSponsored\":\"\",\"sectionTitle\":\"Travel Insurance\",\"sectionUrl\":\"https://www.forbes.com/advisor/travel-insurance/best-travel-insurance-companies/\",\"sections\":[]},{\"featuredImage\":\"\",\"featuredTitle\":\"\",\"paidContent\":\"\",\"sectionLink\":\"\",\"sectionSponsored\":\"\",\"sectionTitle\":\"Covid-19 Travel Insurance\",\"sectionUrl\":\"https://www.forbes.com/advisor/travel-insurance/best-pandemic-travel-insurance/\",\"sections\":[]},{\"featuredImage\":\"\",\"featuredTitle\":\"\",\"paidContent\":\"\",\"sectionLink\":\"\",\"sectionSponsored\":\"\",\"sectionTitle\":\"Cheap Travel Insurance Companies\",\"sectionUrl\":\"https://www.forbes.com/advisor/travel-insurance/cheap-travel-insurance/\",\"sections\":[]},{\"featuredImage\":\"\",\"featuredTitle\":\"\",\"paidContent\":\"\",\"sectionLink\":\"\",\"sectionSponsored\":\"\",\"sectionTitle\":\"Best Car Insurance\",\"sectionUrl\":\"https://www.forbes.com/advisor/car-insurance/best-car-insurance-companies/\",\"sections\":[]},{\"featuredImage\":\"\",\"featuredTitle\":\"\",\"paidContent\":\"\",\"sectionLink\":\"\",\"sectionSponsored\":\"\",\"sectionTitle\":\"Compare Car Insurance Quotes\",\"sectionUrl\":\"https://www.forbes.com/advisor/car-insurance/car-insurance-quotes/\",\"sections\":[]},{\"featuredImage\":\"\",\"featuredTitle\":\"\",\"paidContent\":\"\",\"sectionLink\":\"\",\"sectionSponsored\":\"\",\"sectionTitle\":\"Cost Of Car Insurance\",\"sectionUrl\":\"https://www.forbes.com/advisor/car-insurance/average-cost-of-car-insurance/\",\"sections\":[]},{\"featuredImage\":\"\",\"featuredTitle\":\"\",\"paidContent\":\"\",\"sectionLink\":\"\",\"sectionSponsored\":\"\",\"sectionTitle\":\"Cheap Car Insurance\",\"sectionUrl\":\"https://www.forbes.com/advisor/car-insurance/cheapest-car-insurance/\",\"sections\":[]},{\"featuredImage\":\"\",\"featuredTitle\":\"\",\"paidContent\":\"\",\"sectionLink\":\"\",\"sectionSponsored\":\"\",\"sectionTitle\":\"Pet Insurance\",\"sectionUrl\":\"https://www.forbes.com/advisor/pet-insurance/best-pet-insurance/\",\"sections\":[]},{\"featuredImage\":\"\",\"featuredTitle\":\"\",\"paidContent\":\"\",\"sectionLink\":\"\",\"sectionSponsored\":\"\",\"sectionTitle\":\"How Much Is Pet Insurance?\",\"sectionUrl\":\"https://www.forbes.com/advisor/pet-insurance/pet-insurance-cost/\",\"sections\":[]},{\"featuredImage\":\"\",\"featuredTitle\":\"\",\"paidContent\":\"\",\"sectionLink\":\"\",\"sectionSponsored\":\"\",\"sectionTitle\":\"Cheap Pet Insurance\",\"sectionUrl\":\"https://www.forbes.com/advisor/pet-insurance/best-cheap-pet-insurance/\",\"sections\":[]},{\"featuredImage\":\"\",\"featuredTitle\":\"\",\"paidContent\":\"\",\"sectionLink\":\"\",\"sectionSponsored\":\"\",\"sectionTitle\":\"Business Services\",\"sectionUrl\":\"https://www.forbes.com/advisor/business/\",\"sections\":[{\"featuredImage\":\"\",\"featuredTitle\":\"\",\"paidContent\":\"\",\"sectionLink\":\"\",\"sectionSponsored\":\"\",\"sectionTitle\":\"Best LLC Services\",\"sectionUrl\":\"https://www.forbes.com/advisor/business/best-llc-service/\"},{\"featuredImage\":\"\",\"featuredTitle\":\"\",\"paidContent\":\"\",\"sectionLink\":\"\",\"sectionSponsored\":\"\",\"sectionTitle\":\"Best Registered Agent Services\",\"sectionUrl\":\"https://www.forbes.com/advisor/business/best-registered-agent-services/\"},{\"featuredImage\":\"\",\"featuredTitle\":\"\",\"paidContent\":\"\",\"sectionLink\":\"\",\"sectionSponsored\":\"\",\"sectionTitle\":\"How To Set Up An LLC\",\"sectionUrl\":\"https://www.forbes.com/advisor/business/how-to-set-up-an-llc-in-7-steps/\"},{\"featuredImage\":\"\",\"featuredTitle\":\"\",\"paidContent\":\"\",\"sectionLink\":\"\",\"sectionSponsored\":\"\",\"sectionTitle\":\"How To Start A Business\",\"sectionUrl\":\"https://www.forbes.com/advisor/business/how-to-start-a-business/\"},{\"featuredImage\":\"\",\"featuredTitle\":\"\",\"paidContent\":\"\",\"sectionLink\":\"\",\"sectionSponsored\":\"\",\"sectionTitle\":\"Cost To Start An LLC\",\"sectionUrl\":\"https://www.forbes.com/advisor/business/cost-to-form-llc/\"},{\"featuredImage\":\"\",\"featuredTitle\":\"\",\"paidContent\":\"\",\"sectionLink\":\"\",\"sectionSponsored\":\"\",\"sectionTitle\":\"Best Payroll Services\",\"sectionUrl\":\"https://www.forbes.com/advisor/business/software/best-payroll-services/\"},{\"featuredImage\":\"\",\"featuredTitle\":\"\",\"paidContent\":\"\",\"sectionLink\":\"\",\"sectionSponsored\":\"\",\"sectionTitle\":\"Best HR Software\",\"sectionUrl\":\"https://www.forbes.com/advisor/business/software/best-human-resource-management-systems/\"},{\"featuredImage\":\"\",\"featuredTitle\":\"\",\"paidContent\":\"\",\"sectionLink\":\"\",\"sectionSponsored\":\"\",\"sectionTitle\":\"Best HRIS Systems\",\"sectionUrl\":\"https://www.forbes.com/advisor/business/software/hris-systems/\"},{\"featuredImage\":\"\",\"featuredTitle\":\"\",\"paidContent\":\"\",\"sectionLink\":\"\",\"sectionSponsored\":\"\",\"sectionTitle\":\"Best PEO Services\",\"sectionUrl\":\"https://www.forbes.com/advisor/business/software/best-peo-services/\"},{\"featuredImage\":\"\",\"featuredTitle\":\"\",\"paidContent\":\"\",\"sectionLink\":\"\",\"sectionSponsored\":\"\",\"sectionTitle\":\"Best Applicant Tracking Systems\",\"sectionUrl\":\"https://www.forbes.com/advisor/business/best-applicant-tracking-systems/\"},{\"featuredImage\":\"\",\"featuredTitle\":\"\",\"paidContent\":\"\",\"sectionLink\":\"\",\"sectionSponsored\":\"\",\"sectionTitle\":\"Best Website Builders\",\"sectionUrl\":\"https://www.forbes.com/advisor/business/software/best-website-builders/\"},{\"featuredImage\":\"\",\"featuredTitle\":\"\",\"paidContent\":\"\",\"sectionLink\":\"\",\"sectionSponsored\":\"\",\"sectionTitle\":\"Best Web Hosting Services\",\"sectionUrl\":\"https://www.forbes.com/advisor/business/software/best-web-hosting-services/\"},{\"featuredImage\":\"\",\"featuredTitle\":\"\",\"paidContent\":\"\",\"sectionLink\":\"\",\"sectionSponsored\":\"\",\"sectionTitle\":\"Best Domain Registrar\",\"sectionUrl\":\"https://www.forbes.com/advisor/business/software/best-domain-registrar/\"},{\"featuredImage\":\"\",\"featuredTitle\":\"\",\"paidContent\":\"\",\"sectionLink\":\"\",\"sectionSponsored\":\"\",\"sectionTitle\":\"Best Ecommerce Platform\",\"sectionUrl\":\"https://www.forbes.com/advisor/business/software/best-ecommerce-platform/\"},{\"featuredImage\":\"\",\"featuredTitle\":\"\",\"paidContent\":\"\",\"sectionLink\":\"\",\"sectionSponsored\":\"\",\"sectionTitle\":\"Best Landing Page Builder\",\"sectionUrl\":\"https://www.forbes.com/advisor/business/software/best-landing-page-builder/\"},{\"featuredImage\":\"\",\"featuredTitle\":\"\",\"paidContent\":\"\",\"sectionLink\":\"\",\"sectionSponsored\":\"\",\"sectionTitle\":\"Best VoIP Service\",\"sectionUrl\":\"https://www.forbes.com/advisor/business/software/best-voip-service/\"},{\"featuredImage\":\"\",\"featuredTitle\":\"\",\"paidContent\":\"\",\"sectionLink\":\"\",\"sectionSponsored\":\"\",\"sectionTitle\":\"What Is VoIP?\",\"sectionUrl\":\"https://www.forbes.com/advisor/business/software/what-voip/ \"},{\"featuredImage\":\"\",\"featuredTitle\":\"\",\"paidContent\":\"\",\"sectionLink\":\"\",\"sectionSponsored\":\"\",\"sectionTitle\":\"Best Answering Services\",\"sectionUrl\":\"https://www.forbes.com/advisor/business/software/best-answering-services/\"},{\"featuredImage\":\"\",\"featuredTitle\":\"\",\"paidContent\":\"\",\"sectionLink\":\"\",\"sectionSponsored\":\"\",\"sectionTitle\":\"Best Call Center Software\",\"sectionUrl\":\"https://www.forbes.com/advisor/business/software/best-call-center-software/\"},{\"featuredImage\":\"\",\"featuredTitle\":\"\",\"paidContent\":\"\",\"sectionLink\":\"\",\"sectionSponsored\":\"\",\"sectionTitle\":\"Best Cloud Phone System\",\"sectionUrl\":\"https://www.forbes.com/advisor/business/cloud-phone-system/\"},{\"featuredImage\":\"\",\"featuredTitle\":\"\",\"paidContent\":\"\",\"sectionLink\":\"\",\"sectionSponsored\":\"\",\"sectionTitle\":\"Best Project Management Software\",\"sectionUrl\":\"https://www.forbes.com/advisor/business/software/best-project-management-software/\"},{\"featuredImage\":\"\",\"featuredTitle\":\"\",\"paidContent\":\"\",\"sectionLink\":\"\",\"sectionSponsored\":\"\",\"sectionTitle\":\"Free Project Management Software\",\"sectionUrl\":\"https://www.forbes.com/advisor/business/software/free-project-management-software/\"},{\"featuredImage\":\"\",\"featuredTitle\":\"\",\"paidContent\":\"\",\"sectionLink\":\"\",\"sectionSponsored\":\"\",\"sectionTitle\":\"Best Task Management Software\",\"sectionUrl\":\"https://www.forbes.com/advisor/business/software/best-task-management-software/\"},{\"featuredImage\":\"\",\"featuredTitle\":\"\",\"paidContent\":\"\",\"sectionLink\":\"\",\"sectionSponsored\":\"\",\"sectionTitle\":\"Free Task Management Software\",\"sectionUrl\":\"https://www.forbes.com/advisor/business/software/free-task-management-software/\"},{\"featuredImage\":\"\",\"featuredTitle\":\"\",\"paidContent\":\"\",\"sectionLink\":\"\",\"sectionSponsored\":\"\",\"sectionTitle\":\"Best Gantt Chart Software\",\"sectionUrl\":\"https://www.forbes.com/advisor/business/software/best-gantt-chart-software/\"},{\"featuredImage\":\"\",\"featuredTitle\":\"\",\"paidContent\":\"\",\"sectionLink\":\"\",\"sectionSponsored\":\"\",\"sectionTitle\":\"Best VPN\",\"sectionUrl\":\"https://www.forbes.com/advisor/business/software/best-vpn/\"},{\"featuredImage\":\"\",\"featuredTitle\":\"\",\"paidContent\":\"\",\"sectionLink\":\"\",\"sectionSponsored\":\"\",\"sectionTitle\":\"Best Free VPN\",\"sectionUrl\":\"https://www.forbes.com/advisor/business/best-free-vpn/\"},{\"featuredImage\":\"\",\"featuredTitle\":\"\",\"paidContent\":\"\",\"sectionLink\":\"\",\"sectionSponsored\":\"\",\"sectionTitle\":\"Best Cheap VPN\",\"sectionUrl\":\"https://www.forbes.com/advisor/business/software/best-cheap-vpn/\"},{\"featuredImage\":\"\",\"featuredTitle\":\"\",\"paidContent\":\"\",\"sectionLink\":\"\",\"sectionSponsored\":\"\",\"sectionTitle\":\"Best Antivirus Software\",\"sectionUrl\":\"https://www.forbes.com/advisor/business/software/best-antivirus-software/\"},{\"featuredImage\":\"\",\"featuredTitle\":\"\",\"paidContent\":\"\",\"sectionLink\":\"\",\"sectionSponsored\":\"\",\"sectionTitle\":\"Best Password Managers\",\"sectionUrl\":\"https://www.forbes.com/advisor/business/software/best-password-managers/\"}]},{\"featuredImage\":\"\",\"featuredTitle\":\"\",\"paidContent\":\"\",\"sectionLink\":\"\",\"sectionSponsored\":\"\",\"sectionTitle\":\"Home Services\",\"sectionUrl\":\"https://www.forbes.com/home-improvement/\",\"sections\":[{\"featuredImage\":\"\",\"featuredTitle\":\"\",\"paidContent\":\"\",\"sectionLink\":\"\",\"sectionSponsored\":\"\",\"sectionTitle\":\"Best Moving Companies\",\"sectionUrl\":\"https://www.forbes.com/home-improvement/moving-services/best-moving-companies/\"},{\"featuredImage\":\"\",\"featuredTitle\":\"\",\"paidContent\":\"\",\"sectionLink\":\"\",\"sectionSponsored\":\"\",\"sectionTitle\":\"Best Long Distance Moving Companies\",\"sectionUrl\":\"https://www.forbes.com/home-improvement/moving-services/best-long-distance-moving-companies/\"},{\"featuredImage\":\"\",\"featuredTitle\":\"\",\"paidContent\":\"\",\"sectionLink\":\"\",\"sectionSponsored\":\"\",\"sectionTitle\":\"Best Car Shipping Companies\",\"sectionUrl\":\"https://www.forbes.com/home-improvement/moving-services/best-car-shipping-companies/\"},{\"featuredImage\":\"\",\"featuredTitle\":\"\",\"paidContent\":\"\",\"sectionLink\":\"\",\"sectionSponsored\":\"\",\"sectionTitle\":\"Best Interstate Moving Companies\",\"sectionUrl\":\"https://www.forbes.com/home-improvement/moving-services/best-interstate-moving-companies/\"},{\"featuredImage\":\"\",\"featuredTitle\":\"\",\"paidContent\":\"\",\"sectionLink\":\"\",\"sectionSponsored\":\"\",\"sectionTitle\":\"How Much Do Movers Cost?\",\"sectionUrl\":\"https://www.forbes.com/home-improvement/moving-services/movers-and-packers-cost/\"},{\"featuredImage\":\"\",\"featuredTitle\":\"\",\"paidContent\":\"\",\"sectionLink\":\"\",\"sectionSponsored\":\"\",\"sectionTitle\":\"Best Home Warranty Companies\",\"sectionUrl\":\"https://www.forbes.com/home-improvement/home-warranty/best-home-warranty-companies/\"},{\"featuredImage\":\"\",\"featuredTitle\":\"\",\"paidContent\":\"\",\"sectionLink\":\"\",\"sectionSponsored\":\"\",\"sectionTitle\":\"Cheapest Home Warranty Companies\",\"sectionUrl\":\"https://www.forbes.com/home-improvement/home-warranty/cheapest-warranty-companies/\"},{\"featuredImage\":\"\",\"featuredTitle\":\"\",\"paidContent\":\"\",\"sectionLink\":\"\",\"sectionSponsored\":\"\",\"sectionTitle\":\"Are Home Warranties Worth It?\",\"sectionUrl\":\"https://www.forbes.com/home-improvement/home-warranty/are-home-warranties-worth-it/\"},{\"featuredImage\":\"\",\"featuredTitle\":\"\",\"paidContent\":\"\",\"sectionLink\":\"\",\"sectionSponsored\":\"\",\"sectionTitle\":\"Home Warranty Cost\",\"sectionUrl\":\"https://www.forbes.com/home-improvement/home-warranty/home-warranty-cost/\"},{\"featuredImage\":\"\",\"featuredTitle\":\"\",\"paidContent\":\"\",\"sectionLink\":\"\",\"sectionSponsored\":\"\",\"sectionTitle\":\"Best Home Appliance Insurance\",\"sectionUrl\":\"https://www.forbes.com/home-improvement/home-warranty/best-home-appliance-insurance/\"},{\"featuredImage\":\"\",\"featuredTitle\":\"\",\"paidContent\":\"\",\"sectionLink\":\"\",\"sectionSponsored\":\"\",\"sectionTitle\":\"Best Solar Companies\",\"sectionUrl\":\"https://www.forbes.com/home-improvement/solar/best-solar-companies/\"},{\"featuredImage\":\"\",\"featuredTitle\":\"\",\"paidContent\":\"\",\"sectionLink\":\"\",\"sectionSponsored\":\"\",\"sectionTitle\":\"Best Solar Panels\",\"sectionUrl\":\"https://www.forbes.com/home-improvement/solar/best-solar-panels/\"},{\"featuredImage\":\"\",\"featuredTitle\":\"\",\"paidContent\":\"\",\"sectionLink\":\"\",\"sectionSponsored\":\"\",\"sectionTitle\":\"Cost Of Solar Panels\",\"sectionUrl\":\"https://www.forbes.com/home-improvement/solar/cost-of-solar-panels/\"},{\"featuredImage\":\"\",\"featuredTitle\":\"\",\"paidContent\":\"\",\"sectionLink\":\"\",\"sectionSponsored\":\"\",\"sectionTitle\":\"Solar Tax Credit By State\",\"sectionUrl\":\"https://www.forbes.com/home-improvement/solar/solar-tax-credit-by-state/\"},{\"featuredImage\":\"\",\"featuredTitle\":\"\",\"paidContent\":\"\",\"sectionLink\":\"\",\"sectionSponsored\":\"\",\"sectionTitle\":\"Are Solar Panels Worth It?\",\"sectionUrl\":\"https://www.forbes.com/home-improvement/solar/are-solar-panels-worth-it/\"},{\"featuredImage\":\"\",\"featuredTitle\":\"\",\"paidContent\":\"\",\"sectionLink\":\"\",\"sectionSponsored\":\"\",\"sectionTitle\":\"Best Pest Control Companies\",\"sectionUrl\":\"https://www.forbes.com/home-improvement/pest-control/best-pest-control-companies/\"},{\"featuredImage\":\"\",\"featuredTitle\":\"\",\"paidContent\":\"\",\"sectionLink\":\"\",\"sectionSponsored\":\"\",\"sectionTitle\":\"Best Termite Control Companies\",\"sectionUrl\":\"https://www.forbes.com/home-improvement/pest-control/best-termite-control-companies/\"},{\"featuredImage\":\"\",\"featuredTitle\":\"\",\"paidContent\":\"\",\"sectionLink\":\"\",\"sectionSponsored\":\"\",\"sectionTitle\":\"Best Mosquito Control Companies\",\"sectionUrl\":\"https://www.forbes.com/home-improvement/pest-control/best-mosquito-control-companies/\"},{\"featuredImage\":\"\",\"featuredTitle\":\"\",\"paidContent\":\"\",\"sectionLink\":\"\",\"sectionSponsored\":\"\",\"sectionTitle\":\"Pest Control Cost\",\"sectionUrl\":\"https://www.forbes.com/home-improvement/pest-control/pest-control-cost/\"},{\"featuredImage\":\"\",\"featuredTitle\":\"\",\"paidContent\":\"\",\"sectionLink\":\"\",\"sectionSponsored\":\"\",\"sectionTitle\":\"How Much Do Exterminators Cost?\",\"sectionUrl\":\"https://www.forbes.com/home-improvement/pest-control/how-much-does-exterminator-cost/\"},{\"featuredImage\":\"\",\"featuredTitle\":\"\",\"paidContent\":\"\",\"sectionLink\":\"\",\"sectionSponsored\":\"\",\"sectionTitle\":\"Best Home Security Companies\",\"sectionUrl\":\"https://www.forbes.com/home-improvement/home-security/best-home-security-companies/\"},{\"featuredImage\":\"\",\"featuredTitle\":\"\",\"paidContent\":\"\",\"sectionLink\":\"\",\"sectionSponsored\":\"\",\"sectionTitle\":\"Best Home Security Systems\",\"sectionUrl\":\"https://www.forbes.com/home-improvement/home-security/best-home-security-systems/\"},{\"featuredImage\":\"\",\"featuredTitle\":\"\",\"paidContent\":\"\",\"sectionLink\":\"\",\"sectionSponsored\":\"\",\"sectionTitle\":\"Home Security System Cost\",\"sectionUrl\":\"https://www.forbes.com/home-improvement/home-security/home-security-system-cost/\"},{\"featuredImage\":\"\",\"featuredTitle\":\"\",\"paidContent\":\"\",\"sectionLink\":\"\",\"sectionSponsored\":\"\",\"sectionTitle\":\"Cheapest Home Security Systems\",\"sectionUrl\":\"https://www.forbes.com/home-improvement/home-security/cheapest-home-security-systems/\"},{\"featuredImage\":\"\",\"featuredTitle\":\"\",\"paidContent\":\"\",\"sectionLink\":\"\",\"sectionSponsored\":\"\",\"sectionTitle\":\"Best Wireless Home Security Systems\",\"sectionUrl\":\"https://www.forbes.com/home-improvement/home-security/best-wireless-home-security-system/\"},{\"featuredImage\":\"\",\"featuredTitle\":\"\",\"paidContent\":\"\",\"sectionLink\":\"\",\"sectionSponsored\":\"\",\"sectionTitle\":\"Best Internet Providers\",\"sectionUrl\":\"https://www.forbes.com/home-improvement/internet/best-internet-providers/\"},{\"featuredImage\":\"\",\"featuredTitle\":\"\",\"paidContent\":\"\",\"sectionLink\":\"\",\"sectionSponsored\":\"\",\"sectionTitle\":\"Cheapest Internet Plans\",\"sectionUrl\":\"https://www.forbes.com/home-improvement/internet/cheapest-internet-plans/\"},{\"featuredImage\":\"\",\"featuredTitle\":\"\",\"paidContent\":\"\",\"sectionLink\":\"\",\"sectionSponsored\":\"\",\"sectionTitle\":\"Fastest High Speed Internet Providers\",\"sectionUrl\":\"https://www.forbes.com/home-improvement/internet/fastest-high-speed-internet-provider/\"},{\"featuredImage\":\"\",\"featuredTitle\":\"\",\"paidContent\":\"\",\"sectionLink\":\"\",\"sectionSponsored\":\"\",\"sectionTitle\":\"Best Internet Only Plans\",\"sectionUrl\":\"https://www.forbes.com/home-improvement/internet/best-internet-only-plans/\"},{\"featuredImage\":\"\",\"featuredTitle\":\"\",\"paidContent\":\"\",\"sectionLink\":\"\",\"sectionSponsored\":\"\",\"sectionTitle\":\"Best Fiber Internet Providers\",\"sectionUrl\":\"https://www.forbes.com/home-improvement/internet/best-fiber-internet-providers/\"}]},{\"featuredImage\":\"\",\"featuredTitle\":\"\",\"paidContent\":\"\",\"sectionLink\":\"\",\"sectionSponsored\":\"\",\"sectionTitle\":\"Forbes Advisor UK\",\"sectionUrl\":\"https://www.forbes.com/uk/advisor/\",\"sections\":[]}],\"title\":\"Advisor\",\"url\":\"https://www.forbes.com/advisor/\"},{\"color\":\"insights-blue\",\"position\":16,\"sections\":[{\"featuredImage\":\"\",\"featuredTitle\":\"\",\"paidContent\":\"\",\"sectionLink\":\"\",\"sectionSponsored\":\"\",\"sectionTitle\":\"Best Diets\",\"sectionUrl\":\"https://www.forbes.com/health/nutrition/diet/best-diets/\",\"sections\":[]},{\"featuredImage\":\"\",\"featuredTitle\":\"\",\"paidContent\":\"\",\"sectionLink\":\"\",\"sectionSponsored\":\"\",\"sectionTitle\":\"Healthy Aging\",\"sectionUrl\":\"https://www.forbes.com/health/healthy-aging/\",\"sections\":[]},{\"featuredImage\":\"\",\"featuredTitle\":\"\",\"paidContent\":\"\",\"sectionLink\":\"\",\"sectionSponsored\":\"\",\"sectionTitle\":\"Best Medical Alert Systems\",\"sectionUrl\":\"https://www.forbes.com/health/medical-alert-systems/best-medical-alert-systems/\",\"sections\":[]},{\"featuredImage\":\"\",\"featuredTitle\":\"\",\"paidContent\":\"\",\"sectionLink\":\"\",\"sectionSponsored\":\"\",\"sectionTitle\":\"Medicare\",\"sectionUrl\":\"https://www.forbes.com/health/medicare/\",\"sections\":[]},{\"featuredImage\":\"\",\"featuredTitle\":\"\",\"paidContent\":\"\",\"sectionLink\":\"\",\"sectionSponsored\":\"\",\"sectionTitle\":\"Medicare Advantage Plans\",\"sectionUrl\":\"https://www.forbes.com/health/medicare/best-medicare-advantage-providers/\",\"sections\":[]},{\"featuredImage\":\"\",\"featuredTitle\":\"\",\"paidContent\":\"\",\"sectionLink\":\"\",\"sectionSponsored\":\"\",\"sectionTitle\":\"Medicare Supplement Plans\",\"sectionUrl\":\"https://www.forbes.com/health/medicare/best-medicare-supplement-providers/\",\"sections\":[]},{\"featuredImage\":\"\",\"featuredTitle\":\"\",\"paidContent\":\"\",\"sectionLink\":\"\",\"sectionSponsored\":\"\",\"sectionTitle\":\"Medicare Advantage By State\",\"sectionUrl\":\"https://www.forbes.com/health/medicare/medicare-advantage-by-state/\",\"sections\":[]},{\"featuredImage\":\"\",\"featuredTitle\":\"\",\"paidContent\":\"\",\"sectionLink\":\"\",\"sectionSponsored\":\"\",\"sectionTitle\":\"Health Insurance\",\"sectionUrl\":\"https://www.forbes.com/advisor/health-insurance/best-health-insurance-companies/\",\"sections\":[]},{\"featuredImage\":\"\",\"featuredTitle\":\"\",\"paidContent\":\"\",\"sectionLink\":\"\",\"sectionSponsored\":\"\",\"sectionTitle\":\"Hearing Aids\",\"sectionUrl\":\"https://www.forbes.com/health/hearing-aids/\",\"sections\":[]},{\"featuredImage\":\"\",\"featuredTitle\":\"\",\"paidContent\":\"\",\"sectionLink\":\"\",\"sectionSponsored\":\"\",\"sectionTitle\":\"Best Hearing Aids\",\"sectionUrl\":\"https://www.forbes.com/health/hearing-aids/best-hearing-aids/\",\"sections\":[]},{\"featuredImage\":\"\",\"featuredTitle\":\"\",\"paidContent\":\"\",\"sectionLink\":\"\",\"sectionSponsored\":\"\",\"sectionTitle\":\"Senior Living\",\"sectionUrl\":\"https://www.forbes.com/health/senior-living/\",\"sections\":[]},{\"featuredImage\":\"\",\"featuredTitle\":\"\",\"paidContent\":\"\",\"sectionLink\":\"\",\"sectionSponsored\":\"\",\"sectionTitle\":\"Mind\",\"sectionUrl\":\"https://www.forbes.com/health/mind/\",\"sections\":[]},{\"featuredImage\":\"\",\"featuredTitle\":\"\",\"paidContent\":\"\",\"sectionLink\":\"\",\"sectionSponsored\":\"\",\"sectionTitle\":\"Best Online Therapy\",\"sectionUrl\":\"https://www.forbes.com/health/mind/best-online-therapy/\",\"sections\":[]},{\"featuredImage\":\"\",\"featuredTitle\":\"\",\"paidContent\":\"\",\"sectionLink\":\"\",\"sectionSponsored\":\"\",\"sectionTitle\":\"Best CBD Gummies\",\"sectionUrl\":\"https://www.forbes.com/health/cbd/best-cbd-gummies/\",\"sections\":[]},{\"featuredImage\":\"\",\"featuredTitle\":\"\",\"paidContent\":\"\",\"sectionLink\":\"\",\"sectionSponsored\":\"\",\"sectionTitle\":\"Best CBD Oil\",\"sectionUrl\":\"https://www.forbes.com/health/cbd/best-cbd-oil/\",\"sections\":[]}],\"title\":\"Health\",\"url\":\"https://www.forbes.com/health/\"},{\"color\":\"default-gray\",\"position\":17,\"sections\":[],\"title\":\"Lists\",\"url\":\"https://www.forbes.com/lists/\"},{\"color\":\"opulent-purple\",\"position\":18,\"sections\":[],\"title\":\"Video\",\"url\":\"https://www.forbes.com/video/\"},{\"color\":\"default-gray\",\"position\":19,\"sections\":[{\"featuredImage\":\"\",\"featuredTitle\":\"\",\"paidContent\":\"\",\"sectionLink\":\"\",\"sectionSponsored\":\"\",\"sectionTitle\":\"Crypto Confidential\",\"sectionUrl\":\"http://bit.ly/2Y2rVX8\",\"sections\":[]},{\"featuredImage\":\"\",\"featuredTitle\":\"\",\"paidContent\":\"\",\"sectionLink\":\"\",\"sectionSponsored\":\"\",\"sectionTitle\":\"Editorial Newsletters\",\"sectionUrl\":\"https://account.forbes.com/newsletters/?utm_source=forbes\\u0026utm_medium=featured\\u0026utm_campaign=navigation\",\"sections\":[]},{\"featuredImage\":\"\",\"featuredTitle\":\"\",\"paidContent\":\"\",\"sectionLink\":\"\",\"sectionSponsored\":\"\",\"sectionTitle\":\"Investing Digest\",\"sectionUrl\":\"https://bit.ly/2Rkd9oN\",\"sections\":[]},{\"featuredImage\":\"\",\"featuredTitle\":\"\",\"paidContent\":\"\",\"sectionLink\":\"\",\"sectionSponsored\":\"\",\"sectionTitle\":\"Premium Investing Newsletters\",\"sectionUrl\":\"https://www.forbes.com/newsletters/\",\"sections\":[]}],\"title\":\"Newsletters\",\"url\":\"https://account.forbes.com/newsletters/?utm_source=forbes\\u0026utm_medium=featured\\u0026utm_campaign=navigation\"},{\"position\":20,\"sections\":[],\"title\":\"Frase by Forbes\",\"url\":\"https://www.forbes.com/frase\"},{\"color\":\"merlot-burgundy\",\"position\":21,\"sections\":[{\"featuredImage\":\"\",\"featuredTitle\":\"\",\"paidContent\":\"\",\"sectionLink\":\"\",\"sectionSponsored\":\"\",\"sectionTitle\":\"Forbes Asia\",\"sectionUrl\":\"https://www.forbes.com/forbesasia/#7cb46d1d2f95\",\"sections\":[]},{\"featuredImage\":\"\",\"featuredTitle\":\"\",\"paidContent\":\"\",\"sectionLink\":\"\",\"sectionSponsored\":\"\",\"sectionTitle\":\"Free Issue of Forbes\",\"sectionUrl\":\"https://w1.buysub.com/pubs/B4/FRB/16-forbes_relaunch_landingpage_2freetrial.jsp?cds_mag_code=FRB\\u0026cds_page_id=241223\",\"sections\":[]}],\"title\":\"Forbes Magazine\",\"url\":\"https://www.forbes.com/forbes-magazine/#42ad043030a4\"},{\"color\":\"default-gray\",\"position\":22,\"sections\":[{\"featuredImage\":\"\",\"featuredTitle\":\"\",\"paidContent\":\"\",\"sectionLink\":\"\",\"sectionSponsored\":\"\",\"sectionTitle\":\"Coronavirus Coverage\",\"sectionUrl\":\"https://www.forbes.com/coronavirus/#59d4597c20dd\",\"sections\":[]},{\"featuredImage\":\"\",\"featuredTitle\":\"\",\"paidContent\":\"\",\"sectionLink\":\"\",\"sectionSponsored\":\"\",\"sectionTitle\":\"Daily Cover Stories\",\"sectionUrl\":\"https://www.forbes.com/daily-cover-stories/#78127e5b6a74\",\"sections\":[]},{\"featuredImage\":\"\",\"featuredTitle\":\"\",\"paidContent\":\"\",\"sectionLink\":\"\",\"sectionSponsored\":\"\",\"sectionTitle\":\"Dark Capital\",\"sectionUrl\":\"https://www.forbes.com/dark-capital/#4bf21bb954c9\",\"sections\":[]},{\"featuredImage\":\"\",\"featuredTitle\":\"\",\"paidContent\":\"\",\"sectionLink\":\"\",\"sectionSponsored\":\"\",\"sectionTitle\":\"Editors' Picks\",\"sectionUrl\":\"https://www.forbes.com/editors-picks/#15c416d878bf\",\"sections\":[]}],\"title\":\"Latest\",\"url\":\"\"},{\"color\":\"default-gray\",\"position\":23,\"sections\":[{\"featuredImage\":\"\",\"featuredTitle\":\"\",\"paidContent\":\"\",\"sectionLink\":\"\",\"sectionSponsored\":\"\",\"sectionTitle\":\"30 Under 30 2023\",\"sectionUrl\":\"https://www.forbes.com/30-under-30/2023/\",\"sections\":[]},{\"featuredImage\":\"\",\"featuredTitle\":\"\",\"paidContent\":\"\",\"sectionLink\":\"\",\"sectionSponsored\":\"\",\"sectionTitle\":\"721 Matches, 405,000 Signature Cocktails, $65 Million In Prize Money: The 2023 U.S. Open By The Numbers\",\"sectionUrl\":\"https://www.forbes.com/sites/brettknight/2023/08/25/721-matches-405000-signature-cocktails-65-million-in-prize-money-the-2023-us-open-by-the-numbers/?sh=5f6475434cd2\",\"sections\":[]},{\"featuredImage\":\"\",\"featuredTitle\":\"\",\"paidContent\":\"\",\"sectionLink\":\"\",\"sectionSponsored\":\"\",\"sectionTitle\":\"AI’s Nuanced Impact And A Quest To Quantify It\",\"sectionUrl\":\"https://www.forbes.com/sites/forbes-research/2023/10/26/c-suite-data-reveals-ais-nuanced-impact--a-quest-to-quantify-it/?sh=2e0ce1152c4a\",\"sections\":[]},{\"featuredImage\":\"\",\"featuredTitle\":\"\",\"paidContent\":\"\",\"sectionLink\":\"\",\"sectionSponsored\":\"\",\"sectionTitle\":\"Best-In-State Wealth Management Teams 2024\",\"sectionUrl\":\"https://www.forbes.com/lists/wealth-management-teams-best-in-state/?sh=1c9c097176f2\",\"sections\":[]},{\"featuredImage\":\"\",\"featuredTitle\":\"\",\"paidContent\":\"\",\"sectionLink\":\"\",\"sectionSponsored\":\"\",\"sectionTitle\":\"Behind On Your Investing Goals? This 5 Step Approach Can Help\",\"sectionUrl\":\"https://www.forbes.com/video/6345131948112/behind-on-your-investing-goals-this-5-step-approach-can-help/?sh=37aae8ea9bd7\",\"sections\":[]},{\"featuredImage\":\"\",\"featuredTitle\":\"\",\"paidContent\":\" | Paid Program\",\"sectionLink\":\"\",\"sectionSponsored\":\"\",\"sectionTitle\":\"BMC Insights\",\"sectionUrl\":\"https://www.forbes.com/sites/insights-bmc/2023/12/05/bring-the-power-of-ai-to-it-operations-with-aiops/?sh=795aa7e665c8\",\"sections\":[]},{\"featuredImage\":\"\",\"featuredTitle\":\"\",\"paidContent\":\"\",\"sectionLink\":\"\",\"sectionSponsored\":\"\",\"sectionTitle\":\"DNA of Success\",\"sectionUrl\":\"https://www.forbes.com/sites/forbesvideo/2023/11/01/dna-of-success-2023\",\"sections\":[]},{\"featuredImage\":\"\",\"featuredTitle\":\"\",\"paidContent\":\"\",\"sectionLink\":\"\",\"sectionSponsored\":\"\",\"sectionTitle\":\"Embracing And Bracing For AI\",\"sectionUrl\":\"https://www.forbes.com/sites/forbes-research/2023/10/26/new-forbes-survey-reveals-how-executives-are-embracing---and-bracing-for---ai/?sh=4c9ec37647fe\",\"sections\":[]},{\"featuredImage\":\"\",\"featuredTitle\":\"\",\"paidContent\":\"\",\"sectionLink\":\"\",\"sectionSponsored\":\"\",\"sectionTitle\":\"Facing A Volatile Market, C-Suites Look To The CFO For Strategic Guidance\",\"sectionUrl\":\"https://www.forbes.com/sites/forbes-research/2023/11/01/facing-a-volatile-market-c-suites-look-to-the-cfo-for-strategic-guidance/?sh=5ebd4e0f8752\",\"sections\":[]},{\"featuredImage\":\"\",\"featuredTitle\":\"\",\"paidContent\":\"\",\"sectionLink\":\"\",\"sectionSponsored\":\"\",\"sectionTitle\":\"Forbes Billionaires 2023: The Richest People In The World\",\"sectionUrl\":\"https://www.forbes.com/billionaires/\",\"sections\":[]},{\"featuredImage\":\"\",\"featuredTitle\":\"\",\"paidContent\":\"\",\"sectionLink\":\"\",\"sectionSponsored\":\"\",\"sectionTitle\":\"Forbes Research 2023 AI Study: For Bigger AI Wins, Sync Up The C-Suite\",\"sectionUrl\":\"https://www.forbes.com/sites/forbes-research/2024/01/26/for-bigger-ai-wins-sync-up-the-c-suite/?sh=14cd82672cdc\",\"sections\":[]},{\"featuredImage\":\"\",\"featuredTitle\":\"\",\"paidContent\":\"\",\"sectionLink\":\"\",\"sectionSponsored\":\"\",\"sectionTitle\":\"Forbes Research: 2023 Small Business Survey\",\"sectionUrl\":\"https://www.forbes.com/sites/forbes-research/2023/06/07/resiliency-and-ingenuity-revealed-in-new-forbes-small-business-research/?sh=7933ed832cee\",\"sections\":[]},{\"featuredImage\":\"\",\"featuredTitle\":\"\",\"paidContent\":\"\",\"sectionLink\":\"\",\"sectionSponsored\":\"\",\"sectionTitle\":\"Leadership Lessons\",\"sectionUrl\":\"https://www.forbes.com/sites/forbesvideo/article/forbes-leadership-lessons/?sh=304ced86d2af\",\"sections\":[]},{\"featuredImage\":\"\",\"featuredTitle\":\"\",\"paidContent\":\" | Paid Program\",\"sectionLink\":\"\",\"sectionSponsored\":\"\",\"sectionTitle\":\"Teradata Insights\",\"sectionUrl\":\"https://www.forbes.com/sites/insights-teradata/2023/10/17/an-executives-guide-to-creating-an-ai-ready-enterprise/?sh=5abb67f278f0\",\"sections\":[]},{\"featuredImage\":\"\",\"featuredTitle\":\"\",\"paidContent\":\"\",\"sectionLink\":\"\",\"sectionSponsored\":\"\",\"sectionTitle\":\"The Forbes World's Most Influential CMOs List: 2023\",\"sectionUrl\":\"https://www.forbes.com/sites/sethmatlins/2023/06/22/the-forbes-worlds-most-influential-cmos-list-2023/?sh=4240a0fd4bab\",\"sections\":[]},{\"featuredImage\":\"\",\"featuredTitle\":\"\",\"paidContent\":\"\",\"sectionLink\":\"\",\"sectionSponsored\":\"\",\"sectionTitle\":\"CXO Spotlight\",\"sectionUrl\":\"https://www.forbes.com/sites/forbesvideo/2024/02/21/cxo-spotlight/\",\"sections\":[]},{\"featuredImage\":\"\",\"featuredTitle\":\"\",\"paidContent\":\"\",\"sectionLink\":\"\",\"sectionSponsored\":\"\",\"sectionTitle\":\"Forbes Leadership Lessons On Financial Literacy\",\"sectionUrl\":\"https://www.forbes.com/sites/forbesvideo/2024/02/22/forbes-leadership-lessons-on-financial-literacy/\",\"sections\":[]},{\"featuredImage\":\"\",\"featuredTitle\":\"\",\"paidContent\":\"\",\"sectionLink\":\"\",\"sectionSponsored\":\"\",\"sectionTitle\":\"Beyond Old Vs. New Tech: A Fresh Perspective On Enterprise Modernization\",\"sectionUrl\":\"https://www.forbes.com/sites/insights-thoughtworks/2024/03/20/beyond-old-vs-new-tech-a-fresh-perspective-on-enterprise-modernization/\",\"sections\":[]},{\"featuredImage\":\"\",\"featuredTitle\":\"\",\"paidContent\":\"\",\"sectionLink\":\"\",\"sectionSponsored\":\"\",\"sections\":[]},{\"featuredImage\":\"\",\"featuredTitle\":\"\",\"paidContent\":\"\",\"sectionLink\":\"\",\"sectionSponsored\":\"\",\"sections\":[]}],\"title\":\"Featured\",\"url\":\"\"}],\"project\":\"billionaires\",\"schema\":{\"//\":\"Read the Sections portion of the README.md file for more information\",\"listName\":\"billionaires\",\"listType\":\"person\",\"rootLayout\":\"HorizontalDefaultLayout\",\"pageLayout\":\"DefaultLayout\",\"dataUrl\":\"https://bacon.forbes.com/bacon-forbes-prd/billionaires-2024-directory/payload.json\",\"fonts\":{\"primary\":\"https://i.forbesimg.com/assets/fonts/EuclidCircular/EuclidCircularB-Regular.otf\"},\"theme\":{\"colors\":{\"color-primary\":\"#06bffc\",\"color-border-title\":\"#06bffc\",\"rail-background\":\"#000\"}},\"metadata\":{\"canonicalUrl\":\"https://www.forbes.com/billionaires/\",\"description\":\"Forbes presents the 2024 World's Billionaires List. View the richest people in the world including the youngest billionaires, female billionaires and newest billionaires.\",\"imageUrl\":\"https://images.forbes.com/2024-billionaires-ver4/list-lander-1400x788.jpg\",\"keywords\":\"billionaires, the world's billionaires, how many billionaires are there in the world, how many billionaires in the us, how many billionaires are there, wealth, Jeff Bezos, Kylie Jenner, Elon Musk, Kylie, Steward, Bezos, Laurene Powell Jobs, Donald Trump, richest people in the world, world’s billionaires, richest person in the world, richest woman in the world\",\"title\":\"Forbes Billionaires 2024\"},\"adSettings\":{\"pageTitle\":\"Forbes Billionaires 2024\",\"url\":\"/billionaires\",\"channel\":[\"leadership\"],\"section\":[\"\"],\"slot\":\"billionaires\",\"edit\":\"list-billionaires-2024\",\"insights\":\"\",\"bertie\":\"false\",\"pageType\":\"csf\",\"dfpZone\":\"csf\",\"paragraphs\":\"0\",\"pageNumber\":\"0\",\"pageTotal\":\"0\",\"brandVoiceLive\":\"false\",\"bvProgramType\":\"special_feature\",\"heroImage\":\"false\",\"imageCount\":0,\"contribActive\":\"false\",\"primaryChannel\":\"\",\"primarySection\":\"\",\"allowSwimlane\":true,\"videoPreroll\":false,\"author\":\"\",\"publishDate\":\"2023-11-1\"},\"sections\":[{\"componentId\":\"IntroHeading\",\"component\":\"IntroHeading/index\",\"passedProps\":[\"global\"],\"props\":{\"headingTitle\":\"Forbes Richest World's Billionaires List 2024\",\"introTitle\":\"imgs/billionaires-logo.svg\",\"altImage\":\"Forbes Richest World's Billionaires List 2024\",\"isSponsored\":true,\"isSponsoredAd\":true,\"hasHeadingDot\":true}},{\"componentId\":\"Ad-0\",\"component\":\"Ad/AdWrapper\",\"props\":{\"mobileSize\":\"mobilerec\",\"desktopSize\":\"top\",\"typeAd\":\"default\"}},{\"componentId\":\"Table\",\"component\":\"Table/Billionaires2024Table/index\",\"passedProps\":[\"featuredBillionaires\"],\"props\":{\"spreadSheetLink\":\"Please send me pricing for a spreadsheet version of the Forbes 2024 Billionaires List\",\"title\":\"The Richest People In The World\",\"tableDataApi\":\"https://www.forbes.com/forbesapi/person/billionaires/2024/position/true.json?filter=uri,finalWorth,age,country,source,qas,rank,category,person,personName,industries,organization,gender,firstName,lastName,squareImage,bios\"}},{\"componentId\":\"FeaturedArticles\",\"passedProps\":[\"featuredArticles\"],\"component\":\"FeaturedArticles/index\"},{\"componentId\":\"CreditsSectionWrapper\",\"passedProps\":[\"methodology\",\"acknowledgements\",\"credits\"],\"component\":\"CreditsSectionWrapper/index\"}]}},\"__N_SSG\":true},\"page\":\"/\",\"query\":{},\"buildId\":\"caLfhc5CktqTys8dvfdvZ\",\"assetPrefix\":\".\",\"isFallback\":false,\"gsp\":true,\"scriptLoader\":[]}</script></body></html>"
      ]
     },
     "execution_count": 75,
     "metadata": {},
     "output_type": "execute_result"
    }
   ],
   "source": [
    "# Create a BeautifulSoup object to parse the HTML content\n",
    "soup = BeautifulSoup(response.content, \"html.parser\")\n",
    "soup\n"
   ]
  },
  {
   "cell_type": "code",
   "execution_count": null,
   "id": "c26ab3b2",
   "metadata": {},
   "outputs": [],
   "source": [
    "# Find the table containing the billionaire details\n",
    "table = soup.find(\"table\", class_=\"table\")\n",
    "\n",
    "# Find all the rows in the table\n",
    "rows = table.find_all(\"tr\")\n",
    "\n",
    "# Iterate over each row and extract the required details\n",
    "for row in rows:\n",
    "  # Find all the columns in the row\n",
    "  columns = row.find_all(\"td\")\n",
    "  \n",
    "  # Extract the required details from the columns\n",
    "  rank = columns[0].text.strip()\n",
    "  name = columns[1].text.strip()\n",
    "  net_worth = columns[2].text.strip()\n",
    "  age = columns[3].text.strip()\n",
    "  citizenship = columns[4].text.strip()\n",
    "  source = columns[5].text.strip()\n",
    "  industry = columns[6].text.strip()\n",
    "  \n",
    "  # Print the extracted details\n",
    "  print(\"Rank:\", rank)\n",
    "  print(\"Name:\", name)\n",
    "  print(\"Net Worth:\", net_worth)\n",
    "  print(\"Age:\", age)\n",
    "  print(\"Citizenship:\", citizenship)\n",
    "  print(\"Source:\", source)\n",
    "  print(\"Industry:\", industry)\n",
    "  print()"
   ]
  },
  {
   "cell_type": "code",
   "execution_count": null,
   "id": "fb0ee75a",
   "metadata": {},
   "outputs": [],
   "source": [
    "'''8. Write a program to extract at least 500 Comments, Comment upvote and time when comment was posted from any YouTube Video.'''"
   ]
  },
  {
   "cell_type": "code",
   "execution_count": 80,
   "id": "f82fe2c3",
   "metadata": {},
   "outputs": [],
   "source": [
    "# Connecting to webdriver\n",
    "driver=webdriver.Chrome()\n",
    "time.sleep(1)\n",
    "\n",
    "# Opening url in chrome browser\n",
    "url=\"https://www.youtube.com\"\n",
    "driver.get(url)\n",
    "time.sleep(3)"
   ]
  },
  {
   "cell_type": "code",
   "execution_count": 85,
   "id": "4ae0e882",
   "metadata": {},
   "outputs": [],
   "source": [
    "Search=driver.find_element(By.CLASS_NAME,'style-scope ytd-searchbox') \n",
    "# Feeding input video name by user to search menu through send keys\n",
    "Search.send_keys('Google’s $2 Trillion Business Model | How Google Earns Money? | Dhruv Rathee')\n",
    "# Finding Search button for clicking through xpath\n",
    "Search_button=driver.find_element(By.XPATH,'/html/body/ytd-app/div[1]/div/ytd-masthead/div[4]/div[2]/ytd-searchbox/button')  \n",
    "# Clicking search button\n",
    "Search_button.click()\n",
    "time.sleep(2)"
   ]
  },
  {
   "cell_type": "code",
   "execution_count": 86,
   "id": "07be646c",
   "metadata": {},
   "outputs": [],
   "source": [
    "link = driver.find_element(By.XPATH,\"/html/body/ytd-app/div[1]/ytd-page-manager/ytd-search/div[1]/ytd-two-column-search-results-renderer/div/ytd-section-list-renderer/div[2]/ytd-item-section-renderer/div[3]/ytd-shelf-renderer[1]/div[1]/div[2]/ytd-vertical-list-renderer/div[1]/ytd-video-renderer[1]/div[1]/div/div[1]/div/h3/a/yt-formatted-string\")\n",
    "link.click()\n",
    "time.sleep(3)"
   ]
  },
  {
   "cell_type": "code",
   "execution_count": 150,
   "id": "8ab59369",
   "metadata": {},
   "outputs": [],
   "source": [
    "# Empty lists to scrap data\n",
    "Comments = []\n",
    "Comment_posted_ago = []\n",
    "Timeline = []\n",
    "Likes = []\n",
    "No_of_Likes = []"
   ]
  },
  {
   "cell_type": "code",
   "execution_count": 151,
   "id": "603a85a5",
   "metadata": {},
   "outputs": [],
   "source": [
    "driver.execute_script(\"window.scrollBy(0,1000000)\",\"\")"
   ]
  },
  {
   "cell_type": "code",
   "execution_count": 152,
   "id": "0694b40a",
   "metadata": {},
   "outputs": [
    {
     "name": "stderr",
     "output_type": "stream",
     "text": [
      "100%|██████████████████████████████████████████████████████████████████████████████| 1060/1060 [00:52<00:00, 20.24it/s]\n"
     ]
    }
   ],
   "source": [
    "comment = driver.find_elements(By.ID,\"content-text\")\n",
    "time.sleep(3)\n",
    "from tqdm import tqdm\n",
    "for i in tqdm(comment):\n",
    "    if i.text is None:\n",
    "        Comments.append(\"--\")\n",
    "    else:\n",
    "        Comments.append(i.text)\n",
    "time.sleep(2)"
   ]
  },
  {
   "cell_type": "code",
   "execution_count": 153,
   "id": "76369c52",
   "metadata": {},
   "outputs": [
    {
     "name": "stderr",
     "output_type": "stream",
     "text": [
      "100%|██████████████████████████████████████████████████████████████████████████████| 1060/1060 [00:47<00:00, 22.26it/s]\n",
      "100%|████████████████████████████████████████████████████████████████████████████████████████| 530/530 [00:00<?, ?it/s]\n"
     ]
    }
   ],
   "source": [
    "# Extracting time of commenting\n",
    "timeline = driver.find_elements(By.XPATH,\"//a[contains(text(),'ago')]\")\n",
    "time.sleep(3)\n",
    "from tqdm import tqdm\n",
    "for i in tqdm(timeline):\n",
    "    if i.text is None:\n",
    "        Timeline.append(\"-\")\n",
    "    else:\n",
    "        Timeline.append(i.text)\n",
    "for i in tqdm(range(0,len(Timeline),2)):\n",
    "    Comment_posted_ago.append(Timeline[i])"
   ]
  },
  {
   "cell_type": "code",
   "execution_count": 154,
   "id": "3e040320",
   "metadata": {},
   "outputs": [],
   "source": [
    "# scrape the comment likes\n",
    "like = driver.find_elements(By.ID,\"vote-count-middle\")\n",
    "for i in like:\n",
    "    Likes.append(i.text)\n",
    "    \n",
    "for i in range(1,len(Likes),2):\n",
    "    No_of_Likes.append(Likes[i])\n",
    "time.sleep(3)"
   ]
  },
  {
   "cell_type": "code",
   "execution_count": 155,
   "id": "e777ada6",
   "metadata": {},
   "outputs": [
    {
     "data": {
      "text/plain": [
       "(1060, 530, 530)"
      ]
     },
     "execution_count": 155,
     "metadata": {},
     "output_type": "execute_result"
    }
   ],
   "source": [
    "len(Comments),len(Comment_posted_ago),len(No_of_Likes)"
   ]
  },
  {
   "cell_type": "code",
   "execution_count": 156,
   "id": "01e93456",
   "metadata": {},
   "outputs": [
    {
     "data": {
      "text/html": [
       "<div>\n",
       "<style scoped>\n",
       "    .dataframe tbody tr th:only-of-type {\n",
       "        vertical-align: middle;\n",
       "    }\n",
       "\n",
       "    .dataframe tbody tr th {\n",
       "        vertical-align: top;\n",
       "    }\n",
       "\n",
       "    .dataframe thead th {\n",
       "        text-align: right;\n",
       "    }\n",
       "</style>\n",
       "<table border=\"1\" class=\"dataframe\">\n",
       "  <thead>\n",
       "    <tr style=\"text-align: right;\">\n",
       "      <th></th>\n",
       "      <th>Comments</th>\n",
       "      <th>Comment Posted Ago</th>\n",
       "      <th>No. of Likes</th>\n",
       "    </tr>\n",
       "  </thead>\n",
       "  <tbody>\n",
       "    <tr>\n",
       "      <th>0</th>\n",
       "      <td>Since Many people don’t know about my Spotify ...</td>\n",
       "      <td>3 years ago (edited)</td>\n",
       "      <td>1.7K</td>\n",
       "    </tr>\n",
       "    <tr>\n",
       "      <th>1</th>\n",
       "      <td>Best thing of Dhruv who revealed his professio...</td>\n",
       "      <td>3 years ago</td>\n",
       "      <td>121</td>\n",
       "    </tr>\n",
       "    <tr>\n",
       "      <th>2</th>\n",
       "      <td>If my parents caught me talking to that airpod...</td>\n",
       "      <td>5 months ago</td>\n",
       "      <td>412</td>\n",
       "    </tr>\n",
       "    <tr>\n",
       "      <th>3</th>\n",
       "      <td>Namaskar dosto</td>\n",
       "      <td>3 years ago</td>\n",
       "      <td>52</td>\n",
       "    </tr>\n",
       "    <tr>\n",
       "      <th>4</th>\n",
       "      <td>You are the only one YouTuber.. Who is very st...</td>\n",
       "      <td>2 months ago</td>\n",
       "      <td>654</td>\n",
       "    </tr>\n",
       "    <tr>\n",
       "      <th>...</th>\n",
       "      <td>...</td>\n",
       "      <td>...</td>\n",
       "      <td>...</td>\n",
       "    </tr>\n",
       "    <tr>\n",
       "      <th>495</th>\n",
       "      <td>Are you notice that suddenly dhruvs voice changed</td>\n",
       "      <td>5 months ago</td>\n",
       "      <td></td>\n",
       "    </tr>\n",
       "    <tr>\n",
       "      <th>496</th>\n",
       "      <td>Make a video on, if the current GDP decline is...</td>\n",
       "      <td>6 months ago</td>\n",
       "      <td></td>\n",
       "    </tr>\n",
       "    <tr>\n",
       "      <th>497</th>\n",
       "      <td>\"Who's been a TRUE fan of \"Dhruv\" for a year\"</td>\n",
       "      <td>2 months ago</td>\n",
       "      <td></td>\n",
       "    </tr>\n",
       "    <tr>\n",
       "      <th>498</th>\n",
       "      <td>thanku bro</td>\n",
       "      <td>7 months ago</td>\n",
       "      <td></td>\n",
       "    </tr>\n",
       "    <tr>\n",
       "      <th>499</th>\n",
       "      <td>Nice information</td>\n",
       "      <td>1 month ago</td>\n",
       "      <td></td>\n",
       "    </tr>\n",
       "  </tbody>\n",
       "</table>\n",
       "<p>500 rows × 3 columns</p>\n",
       "</div>"
      ],
      "text/plain": [
       "                                              Comments    Comment Posted Ago  \\\n",
       "0    Since Many people don’t know about my Spotify ...  3 years ago (edited)   \n",
       "1    Best thing of Dhruv who revealed his professio...           3 years ago   \n",
       "2    If my parents caught me talking to that airpod...          5 months ago   \n",
       "3                                      Namaskar dosto            3 years ago   \n",
       "4    You are the only one YouTuber.. Who is very st...          2 months ago   \n",
       "..                                                 ...                   ...   \n",
       "495  Are you notice that suddenly dhruvs voice changed          5 months ago   \n",
       "496  Make a video on, if the current GDP decline is...          6 months ago   \n",
       "497     \"Who's been a TRUE fan of \"Dhruv\" for a year\"           2 months ago   \n",
       "498                                         thanku bro          7 months ago   \n",
       "499                                   Nice information           1 month ago   \n",
       "\n",
       "    No. of Likes  \n",
       "0           1.7K  \n",
       "1            121  \n",
       "2            412  \n",
       "3             52  \n",
       "4            654  \n",
       "..           ...  \n",
       "495               \n",
       "496               \n",
       "497               \n",
       "498               \n",
       "499               \n",
       "\n",
       "[500 rows x 3 columns]"
      ]
     },
     "execution_count": 156,
     "metadata": {},
     "output_type": "execute_result"
    }
   ],
   "source": [
    "YT=pd.DataFrame({})\n",
    "YT['Comments']=Comments[:500]\n",
    "YT['Comment Posted Ago']=Comment_posted_ago[:500]\n",
    "YT['No. of Likes']=No_of_Likes[:500]\n",
    "YT"
   ]
  },
  {
   "cell_type": "code",
   "execution_count": null,
   "id": "741f696d",
   "metadata": {},
   "outputs": [],
   "source": [
    "'''9. Write a python program to scrape a data for all available Hostels from https://www.hostelworld.com/ in “London” location. You have to scrape hostel name, distance from city centre, ratings, total reviews, overall reviews, privates from price, dorms from price, facilities and property description.'''"
   ]
  },
  {
   "cell_type": "code",
   "execution_count": 157,
   "id": "451bae11",
   "metadata": {},
   "outputs": [],
   "source": [
    "# Connecting to webdriver\n",
    "driver=webdriver.Chrome()\n",
    "time.sleep(1)\n",
    "\n",
    "# Opening url in chrome browser\n",
    "url=\"https://www.hostelworld.com\"\n",
    "driver.get(url)\n",
    "time.sleep(2)"
   ]
  },
  {
   "cell_type": "code",
   "execution_count": 167,
   "id": "b9b970f4",
   "metadata": {},
   "outputs": [],
   "source": [
    "#locating the location search bar\n",
    "Search = driver.find_element(By.XPATH,'/html/body/div[3]/div/div[2]/main/header/div/div[2]/div[1]/div[1]/div/div[1]/div[1]/div/div[2]/label/input')\n",
    "\n",
    "# Sending input London in search bar\n",
    "Search.send_keys(\"London\")\n",
    "time.sleep(1)\n",
    "\n",
    "#select london\n",
    "london = driver.find_element(By.XPATH,'/html/body/div[3]/div/div[2]/main/header/div/div[2]/div[1]/div[1]/div/div[1]/div[2]/div/ul/li[2]/button')\n",
    "london.click()\n",
    "time.sleep(2)\n",
    "\n",
    "# do click on search button\n",
    "Search_button = driver.find_element(By.XPATH,'/html/body/div[3]/div/div[2]/main/header/div/div[2]/div[1]/div[1]/div/div[5]/button[1]/div')\n",
    "Search_button.click()"
   ]
  },
  {
   "cell_type": "code",
   "execution_count": 168,
   "id": "a060e1d8",
   "metadata": {},
   "outputs": [],
   "source": [
    "#lets find required data\n",
    "hostel_name = []\n",
    "distance = []\n",
    "pvt_prices = []\n",
    "dorms_price = []\n",
    "rating = []\n",
    "reviews = []\n",
    "over_all = []\n",
    "facilities = []\n",
    "description =[]\n",
    "product_url = []"
   ]
  },
  {
   "cell_type": "code",
   "execution_count": 169,
   "id": "189b9081",
   "metadata": {},
   "outputs": [],
   "source": [
    "for i in driver.find_elements(By.XPATH,\"//div[@class = 'pagination-item pagination-current' or @class='pagination-item']\"):\n",
    "    i.click()\n",
    "    time.sleep(4)\n",
    "    \n",
    "    #fetching hostel name\n",
    "    try:\n",
    "        name = driver.find_elements(By.XPATH,\"//h2[@class='title title-6']\")\n",
    "        for i in name:\n",
    "            hostel_name.append(i.text)\n",
    "    except NoSuchElementException:\n",
    "        hostel_name.append('-')\n",
    "        \n",
    "    #fetching distance from city centre\n",
    "    \n",
    "    try:\n",
    "        dist = driver.find_elements(By.XPATH,\"//div[@class='subtitle body-3']//a//span[1]\")\n",
    "        for i in dist:\n",
    "            distance.append(i.text.replace('Hostel - ',''))\n",
    "    except NoSuchElementException:\n",
    "        distance.append('-')\n",
    "        \n",
    "    for i in driver.find_elements(By.XPATH,\"//div[@class='prices-col']\"):\n",
    "    #fetch privates from price\n",
    "        try:\n",
    "            pvt_price = driver.find_element(By.XPATH,\"//a[@class='prices']//div[1]//div\")\n",
    "            pvt_prices.append(pvt_price.text)\n",
    "        except NoSuchElementException:\n",
    "            pvt_prices.append('-')\n",
    "    #fetching dorms from price\n",
    "    for i in driver.find_elements(By.XPATH,\"//div[@class='prices-col']\"):\n",
    "        try:\n",
    "            dorms = driver.find_element(By.XPATH,\"//a[@class='prices']//div[2]//div\")\n",
    "            dorms_price.append(dorms.text)\n",
    "        except NoSuchElementException:\n",
    "            dorms_price.append('-')\n",
    "    #fetching facilities\n",
    "    try:\n",
    "        fac1 = driver.find_elements(By.XPATH,\"//div[@class='has-wifi']\")\n",
    "        fac2 = driver.find_elements(By.XPATH,\"//div[@class='has-sanitation']\")\n",
    "        for i in fac1:\n",
    "            for j in fac2:\n",
    "                facilities.append(i.text +', '+ j.text )\n",
    "    except NoSuchElementException:\n",
    "        facilities.append('-')\n",
    "    #lets fetch url of each hostel\n",
    "    p_url = driver.find_elements(By.XPATH,\"//div[@class='prices-col']//a[2]\")\n",
    "    for i in p_url:\n",
    "        product_url.append(i.get_attribute('href'))\n",
    "\n",
    "for i in product_url:\n",
    "    driver.get(i)\n",
    "    time.sleep(3)\n",
    "    #lets click on show more button for description\n",
    "    try:\n",
    "        driver.find_element(By.XPATH,\"//a[@class='toggle-content']\").click()\n",
    "        time.sleep(5)\n",
    "    except NoSuchElementException:\n",
    "        pass\n",
    "    #fetching ratings\n",
    "    try:\n",
    "        rat = driver.find_element(By.XPATH,\"//div[@class='score orange big' or @class='score gray big']\")\n",
    "        rating.append(rat.text)\n",
    "    except NoSuchElementException:\n",
    "        rating.append('-')\n",
    "    #fetching total reviews\n",
    "        \n",
    "    try:\n",
    "        rws = driver.find_element(By.XPATH,\"//div[@class='reviews']\")\n",
    "        reviews.append(rws.text.replace('Total Reviews',''))\n",
    "    except NoSuchElementException:\n",
    "        reviews.append('-')\n",
    "    #fetch overall review\n",
    "    try:\n",
    "        overall_rw = driver.find_element(By.XPATH,\"//div[@class='keyword']//span\")\n",
    "        over_all.append(overall_rw.text)\n",
    "    except NoSuchElementException:\n",
    "        over_all.append('-')\n",
    "    #fetch property description \n",
    "    try:\n",
    "        disc = driver.find_element(By.XPATH,\"//div[@class='content']\")\n",
    "        description.append(disc.text)\n",
    "    except NoSuchElementException:\n",
    "        over_all.append('-')\n"
   ]
  },
  {
   "cell_type": "code",
   "execution_count": null,
   "id": "40d0b22e",
   "metadata": {},
   "outputs": [],
   "source": [
    "#creating dataframe\n",
    "data = list(zip(hostel_name,distance,rating,reviews,over_all,pvt_prices,dorms_price,facilities,description))       \n",
    "Hostel = pd.DataFrame(data, columns = [\"Hostel name\",\"Distance from city centre\",\"ratings\",\"Total reviews\",\"Overall review\",\"Privates from price\",\"Dorms from price\",\"Facilities\",\"Property Description\"])\n",
    "print('\\033[1m'+' Hostel Available in London :'+'\\033[0m')\n",
    "Hostel.head()"
   ]
  },
  {
   "cell_type": "code",
   "execution_count": null,
   "id": "97344bb3",
   "metadata": {},
   "outputs": [],
   "source": []
  }
 ],
 "metadata": {
  "kernelspec": {
   "display_name": "Python 3 (ipykernel)",
   "language": "python",
   "name": "python3"
  },
  "language_info": {
   "codemirror_mode": {
    "name": "ipython",
    "version": 3
   },
   "file_extension": ".py",
   "mimetype": "text/x-python",
   "name": "python",
   "nbconvert_exporter": "python",
   "pygments_lexer": "ipython3",
   "version": "3.11.5"
  }
 },
 "nbformat": 4,
 "nbformat_minor": 5
}
